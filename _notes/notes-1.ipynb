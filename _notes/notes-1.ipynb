{
 "cells": [
  {
   "cell_type": "markdown",
   "metadata": {},
   "source": [
    "## Using Opensearch Python Client"
   ]
  },
  {
   "cell_type": "code",
   "execution_count": 1,
   "metadata": {},
   "outputs": [],
   "source": [
    "from opensearchpy import OpenSearch"
   ]
  },
  {
   "cell_type": "code",
   "execution_count": 12,
   "metadata": {},
   "outputs": [],
   "source": [
    "host = 'localhost'\n",
    "port = 9200\n",
    "auth = ('admin', 'admin')\n",
    "\n",
    "# Create the client with SSL/TLS enabled, but hostname verification disabled.\n",
    "client = OpenSearch(\n",
    "    hosts = [{'host': host, 'port': port}],\n",
    "    http_compress = True, # enables gzip compression for request bodies\n",
    "    http_auth = auth,\n",
    "    use_ssl = True,\n",
    "    verify_certs = False,\n",
    "    ssl_assert_hostname = False,\n",
    "    ssl_show_warn = False\n",
    ")\n"
   ]
  },
  {
   "cell_type": "code",
   "execution_count": 51,
   "metadata": {},
   "outputs": [],
   "source": [
    "import json\n",
    "def print_json(x):\n",
    "    print(json.dumps(x, indent=2))"
   ]
  },
  {
   "cell_type": "code",
   "execution_count": 43,
   "metadata": {},
   "outputs": [],
   "source": [
    "index_name = 'python-test-index'\n",
    "index_body = {    \n",
    "    'settings': {        \n",
    "        'index': {            \n",
    "            'number_of_shards': 2        \n",
    "         }    \n",
    "    }\n",
    "}"
   ]
  },
  {
   "cell_type": "code",
   "execution_count": 44,
   "metadata": {},
   "outputs": [
    {
     "name": "stdout",
     "output_type": "stream",
     "text": [
      "\n",
      "Creating index:\n",
      "{\n",
      "  \"acknowledged\": true,\n",
      "  \"shards_acknowledged\": true,\n",
      "  \"index\": \"python-test-index\"\n",
      "}\n"
     ]
    }
   ],
   "source": [
    "response = client.indices.create(index_name, body=index_body)\n",
    "print('\\nCreating index:')\n",
    "print_json(response)"
   ]
  },
  {
   "cell_type": "code",
   "execution_count": 45,
   "metadata": {},
   "outputs": [
    {
     "name": "stdout",
     "output_type": "stream",
     "text": [
      "\n",
      "Adding document:\n",
      "{\n",
      "  \"_index\": \"python-test-index\",\n",
      "  \"_id\": \"1\",\n",
      "  \"_version\": 1,\n",
      "  \"result\": \"created\",\n",
      "  \"forced_refresh\": true,\n",
      "  \"_shards\": {\n",
      "    \"total\": 2,\n",
      "    \"successful\": 1,\n",
      "    \"failed\": 0\n",
      "  },\n",
      "  \"_seq_no\": 0,\n",
      "  \"_primary_term\": 1\n",
      "}\n"
     ]
    }
   ],
   "source": [
    "document = {    \n",
    "    'title': 'Moneyball',    \n",
    "    'director': 'Bennett Miller',    \n",
    "    'year': '2011'\n",
    "}\n",
    "id = '1'\n",
    " \n",
    "response = client.index(    \n",
    "    index = index_name,\n",
    "    body = document,\n",
    "    id = id,\n",
    "    refresh = True\n",
    ")\n",
    " \n",
    "print('\\nAdding document:')\n",
    "print_json(response)"
   ]
  },
  {
   "cell_type": "code",
   "execution_count": 46,
   "metadata": {},
   "outputs": [
    {
     "name": "stdout",
     "output_type": "stream",
     "text": [
      "\n",
      "Search results:\n",
      "{\n",
      "  \"took\": 2,\n",
      "  \"timed_out\": false,\n",
      "  \"_shards\": {\n",
      "    \"total\": 2,\n",
      "    \"successful\": 2,\n",
      "    \"skipped\": 0,\n",
      "    \"failed\": 0\n",
      "  },\n",
      "  \"hits\": {\n",
      "    \"total\": {\n",
      "      \"value\": 1,\n",
      "      \"relation\": \"eq\"\n",
      "    },\n",
      "    \"max_score\": 0.2876821,\n",
      "    \"hits\": [\n",
      "      {\n",
      "        \"_index\": \"python-test-index\",\n",
      "        \"_id\": \"1\",\n",
      "        \"_score\": 0.2876821,\n",
      "        \"_source\": {\n",
      "          \"title\": \"Moneyball\",\n",
      "          \"director\": \"Bennett Miller\",\n",
      "          \"year\": \"2011\"\n",
      "        }\n",
      "      }\n",
      "    ]\n",
      "  }\n",
      "}\n"
     ]
    }
   ],
   "source": [
    "q = 'miller'\n",
    "query = {\n",
    "    'size': 5,\n",
    "    'query': {\n",
    "        'multi_match': {\n",
    "            'query': q,\n",
    "            'fields': ['title^2', 'director']\n",
    "        }\n",
    "    }\n",
    "}\n",
    " \n",
    "response = client.search(\n",
    "    body=query,\n",
    "    index=index_name\n",
    ")\n",
    "print('\\nSearch results:')\n",
    "print_json(response)"
   ]
  },
  {
   "cell_type": "code",
   "execution_count": 49,
   "metadata": {},
   "outputs": [
    {
     "name": "stdout",
     "output_type": "stream",
     "text": [
      "\n",
      "Deleting document:\n",
      "{\n",
      "  \"_index\": \"python-test-index\",\n",
      "  \"_id\": \"1\",\n",
      "  \"_version\": 2,\n",
      "  \"result\": \"deleted\",\n",
      "  \"_shards\": {\n",
      "    \"total\": 2,\n",
      "    \"successful\": 1,\n",
      "    \"failed\": 0\n",
      "  },\n",
      "  \"_seq_no\": 1,\n",
      "  \"_primary_term\": 1\n",
      "}\n"
     ]
    }
   ],
   "source": [
    "response = client.delete(\n",
    "    index=index_name,\n",
    "    id=id\n",
    ")\n",
    " \n",
    "print('\\nDeleting document:')\n",
    "print_json(response)"
   ]
  },
  {
   "cell_type": "code",
   "execution_count": 50,
   "metadata": {},
   "outputs": [
    {
     "name": "stdout",
     "output_type": "stream",
     "text": [
      "\n",
      "Deleting index:\n",
      "{\n",
      "  \"acknowledged\": true\n",
      "}\n"
     ]
    }
   ],
   "source": [
    "response = client.indices.delete(index=index_name)\n",
    " \n",
    "print('\\nDeleting index:')\n",
    "print_json(response)"
   ]
  },
  {
   "cell_type": "code",
   "execution_count": 17,
   "metadata": {},
   "outputs": [
    {
     "data": {
      "text/plain": [
       "{'.plugins-ml-config': {'aliases': {}},\n",
       " '.opensearch-observability': {'aliases': {}},\n",
       " '.opensearch-sap-pre-packaged-rules-config': {'aliases': {}},\n",
       " '.opensearch-sap-log-types-config': {'aliases': {}},\n",
       " '.kibana_92668751_admin_1': {'aliases': {'.kibana_92668751_admin': {}}},\n",
       " 'security-auditlog-2023.09.24': {'aliases': {}},\n",
       " 'opensearch_dashboards_sample_data_flights': {'aliases': {}},\n",
       " 'search_fun_test': {'aliases': {}},\n",
       " '.kibana_1': {'aliases': {'.kibana': {}}},\n",
       " '.opendistro_security': {'aliases': {}}}"
      ]
     },
     "execution_count": 17,
     "metadata": {},
     "output_type": "execute_result"
    }
   ],
   "source": [
    "client.indices.get_alias(index = \"*\")"
   ]
  },
  {
   "cell_type": "code",
   "execution_count": 25,
   "metadata": {},
   "outputs": [],
   "source": [
    "q = 'dog'\n",
    "query = {\n",
    "    'size': 5,\n",
    "    'query': {\n",
    "        'multi_match': {\n",
    "            'query': q,\n",
    "            'fields': ['body']\n",
    "        }\n",
    "    }\n",
    "}"
   ]
  },
  {
   "cell_type": "code",
   "execution_count": 27,
   "metadata": {},
   "outputs": [
    {
     "data": {
      "text/plain": [
       "{'took': 2,\n",
       " 'timed_out': False,\n",
       " '_shards': {'total': 1, 'successful': 1, 'skipped': 0, 'failed': 0},\n",
       " 'hits': {'total': {'value': 1, 'relation': 'eq'},\n",
       "  'max_score': 1.0902805,\n",
       "  'hits': [{'_index': 'search_fun_test',\n",
       "    '_id': 'doc_b',\n",
       "    '_score': 1.0902805,\n",
       "    '_source': {'title': 'Fox wins championship',\n",
       "     'body': 'Wearing all red, the Fox jumped out to a lead in the race over the Dog.',\n",
       "     'category': 'sports'}}]}}"
      ]
     },
     "execution_count": 27,
     "metadata": {},
     "output_type": "execute_result"
    }
   ],
   "source": [
    "client.search(\n",
    "    index = 'search_fun_test',\n",
    "    body = query   \n",
    ")"
   ]
  }
 ],
 "metadata": {
  "kernelspec": {
   "display_name": "search_fundamentals",
   "language": "python",
   "name": "python3"
  },
  "language_info": {
   "codemirror_mode": {
    "name": "ipython",
    "version": 3
   },
   "file_extension": ".py",
   "mimetype": "text/x-python",
   "name": "python",
   "nbconvert_exporter": "python",
   "pygments_lexer": "ipython3",
   "version": "3.9.7"
  },
  "orig_nbformat": 4
 },
 "nbformat": 4,
 "nbformat_minor": 2
}
