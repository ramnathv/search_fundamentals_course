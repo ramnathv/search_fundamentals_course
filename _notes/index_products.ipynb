{
 "cells": [
  {
   "cell_type": "markdown",
   "metadata": {},
   "source": [
    "# Index Product Data"
   ]
  },
  {
   "cell_type": "markdown",
   "metadata": {},
   "source": [
    "Let us start by extracting product data from the XML files. "
   ]
  },
  {
   "cell_type": "code",
   "execution_count": 4,
   "metadata": {},
   "outputs": [
    {
     "name": "stdout",
     "output_type": "stream",
     "text": [
      "Number of XML files: 256\n"
     ]
    },
    {
     "data": {
      "text/plain": [
       "['/workspace/datasets/product_data/products/products_0001_2570_to_430420.xml',\n",
       " '/workspace/datasets/product_data/products/products_0002_430439_to_518210.xml',\n",
       " '/workspace/datasets/product_data/products/products_0003_518229_to_606384.xml',\n",
       " '/workspace/datasets/product_data/products/products_0004_606428_to_722720.xml',\n",
       " '/workspace/datasets/product_data/products/products_0005_722800_to_846222.xml']"
      ]
     },
     "execution_count": 4,
     "metadata": {},
     "output_type": "execute_result"
    }
   ],
   "source": [
    "import glob\n",
    "SOURCE_DIR = \"/workspace/datasets/product_data/products\"\n",
    "FILES = glob.glob(f\"{SOURCE_DIR}/*.xml\")\n",
    "print(f\"Number of XML files: {len(FILES)}\")\n",
    "FILES[:5]"
   ]
  },
  {
   "cell_type": "markdown",
   "metadata": {},
   "source": [
    "Let us read `mappings.yaml` to get the xpath selectors associated with each field to extract."
   ]
  },
  {
   "cell_type": "code",
   "execution_count": 10,
   "metadata": {},
   "outputs": [
    {
     "data": {
      "text/plain": [
       "dict_keys(['accessories', 'active', 'artistName', 'bestBuyItemId', 'bestSellingRank', 'categoryLeaf', 'categoryPath', 'categoryPathCount', 'categoryPathIds', 'class', 'classId', 'color', 'condition', 'crossSell', 'customerReviewAverage', 'customerReviewCount', 'department', 'departmentId', 'depth', 'description', 'digital', 'features', 'frequentlyPurchasedWith', 'height', 'homeDelivery', 'image', 'inStoreAvailability', 'inStorePickup', 'longDescription', 'longDescriptionHtml', 'manufacturer', 'modelNumber', 'name', 'onSale', 'onlineAvailability', 'productId', 'quantityLimit', 'regularPrice', 'relatedProducts', 'releaseDate', 'salePrice', 'salesRankLongTerm', 'salesRankMediumTerm', 'salesRankShortTerm', 'shippingCost', 'shippingWeight', 'shortDescription', 'shortDescriptionHtml', 'sku', 'startDate', 'subclass', 'subclassId', 'type', 'url', 'weight', 'width'])"
      ]
     },
     "execution_count": 10,
     "metadata": {},
     "output_type": "execute_result"
    }
   ],
   "source": [
    "import yaml\n",
    "with open(\"/workspace/datasets/mappings.yaml\", \"r\") as handle:\n",
    "    mappings = yaml.safe_load(handle)\n",
    "mappings.keys()"
   ]
  },
  {
   "cell_type": "markdown",
   "metadata": {},
   "source": [
    "## Extract Records"
   ]
  },
  {
   "cell_type": "markdown",
   "metadata": {},
   "source": [
    "Let us write a function to extract product records from a XML file and return a pandas dataframe."
   ]
  },
  {
   "cell_type": "code",
   "execution_count": 6,
   "metadata": {},
   "outputs": [
    {
     "data": {
      "text/html": [
       "<div>\n",
       "<style scoped>\n",
       "    .dataframe tbody tr th:only-of-type {\n",
       "        vertical-align: middle;\n",
       "    }\n",
       "\n",
       "    .dataframe tbody tr th {\n",
       "        vertical-align: top;\n",
       "    }\n",
       "\n",
       "    .dataframe thead th {\n",
       "        text-align: right;\n",
       "    }\n",
       "</style>\n",
       "<table border=\"1\" class=\"dataframe\">\n",
       "  <thead>\n",
       "    <tr style=\"text-align: right;\">\n",
       "      <th></th>\n",
       "      <th>productId</th>\n",
       "      <th>sku</th>\n",
       "      <th>name</th>\n",
       "      <th>type</th>\n",
       "      <th>startDate</th>\n",
       "      <th>active</th>\n",
       "      <th>regularPrice</th>\n",
       "      <th>salePrice</th>\n",
       "      <th>artistName</th>\n",
       "      <th>onSale</th>\n",
       "      <th>...</th>\n",
       "      <th>quantityLimit</th>\n",
       "      <th>color</th>\n",
       "      <th>depth</th>\n",
       "      <th>height</th>\n",
       "      <th>weight</th>\n",
       "      <th>shippingWeight</th>\n",
       "      <th>width</th>\n",
       "      <th>longDescription</th>\n",
       "      <th>longDescriptionHtml</th>\n",
       "      <th>features</th>\n",
       "    </tr>\n",
       "  </thead>\n",
       "  <tbody>\n",
       "    <tr>\n",
       "      <th>0</th>\n",
       "      <td>[1051806942127]</td>\n",
       "      <td>[2570]</td>\n",
       "      <td>[Fuji - 110 Color Print Disc Film (24 exposures)]</td>\n",
       "      <td>[HardGood]</td>\n",
       "      <td>[2000-03-01]</td>\n",
       "      <td>[false]</td>\n",
       "      <td>[1.89]</td>\n",
       "      <td>[1.89]</td>\n",
       "      <td>[]</td>\n",
       "      <td>[false]</td>\n",
       "      <td>...</td>\n",
       "      <td>[50]</td>\n",
       "      <td>[]</td>\n",
       "      <td>[]</td>\n",
       "      <td>[]</td>\n",
       "      <td>[]</td>\n",
       "      <td>[0.1]</td>\n",
       "      <td>[]</td>\n",
       "      <td>[110 disc color print, 200-speed film. 24 expo...</td>\n",
       "      <td>[110 disc color print, 200-speed film. 24 expo...</td>\n",
       "      <td>[]</td>\n",
       "    </tr>\n",
       "    <tr>\n",
       "      <th>1</th>\n",
       "      <td>[1051806941102]</td>\n",
       "      <td>[12854]</td>\n",
       "      <td>[Manufacturer - Test sku - Color]</td>\n",
       "      <td>[HardGood]</td>\n",
       "      <td>[2000-03-01]</td>\n",
       "      <td>[false]</td>\n",
       "      <td>[3.99]</td>\n",
       "      <td>[3.99]</td>\n",
       "      <td>[]</td>\n",
       "      <td>[false]</td>\n",
       "      <td>...</td>\n",
       "      <td>[50]</td>\n",
       "      <td>[Color]</td>\n",
       "      <td>[Product Depth]</td>\n",
       "      <td>[Product Height]</td>\n",
       "      <td>[Product Weight]</td>\n",
       "      <td>[0.4]</td>\n",
       "      <td>[Product Width]</td>\n",
       "      <td>[Product Description]</td>\n",
       "      <td>[Product Description]</td>\n",
       "      <td>[Feature bullet]</td>\n",
       "    </tr>\n",
       "    <tr>\n",
       "      <th>2</th>\n",
       "      <td>[1051806941178]</td>\n",
       "      <td>[12881]</td>\n",
       "      <td>[Kodak - Gold 400 Film (24 exposures)]</td>\n",
       "      <td>[HardGood]</td>\n",
       "      <td>[2000-03-01]</td>\n",
       "      <td>[false]</td>\n",
       "      <td>[4.79]</td>\n",
       "      <td>[4.79]</td>\n",
       "      <td>[]</td>\n",
       "      <td>[false]</td>\n",
       "      <td>...</td>\n",
       "      <td>[50]</td>\n",
       "      <td>[]</td>\n",
       "      <td>[]</td>\n",
       "      <td>[]</td>\n",
       "      <td>[]</td>\n",
       "      <td>[0.08]</td>\n",
       "      <td>[]</td>\n",
       "      <td>[Kodak Gold 400-speed film is perfect for a va...</td>\n",
       "      <td>[Kodak Gold 400-speed film is perfect for a va...</td>\n",
       "      <td>[Excellent latent-image keeping characteristic...</td>\n",
       "    </tr>\n",
       "    <tr>\n",
       "      <th>3</th>\n",
       "      <td>[1051826152940]</td>\n",
       "      <td>[34590]</td>\n",
       "      <td>[Hoover - Vacuum Bag A]</td>\n",
       "      <td>[HardGood]</td>\n",
       "      <td>[2003-05-04]</td>\n",
       "      <td>[false]</td>\n",
       "      <td>[3.99]</td>\n",
       "      <td>[3.99]</td>\n",
       "      <td>[]</td>\n",
       "      <td>[false]</td>\n",
       "      <td>...</td>\n",
       "      <td>[20]</td>\n",
       "      <td>[]</td>\n",
       "      <td>[1-1/10\"]</td>\n",
       "      <td>[11-3/5\"]</td>\n",
       "      <td>[]</td>\n",
       "      <td>[0.3]</td>\n",
       "      <td>[8-1/5\"]</td>\n",
       "      <td>[Vacuum Bag A]</td>\n",
       "      <td>[Vacuum Bag A]</td>\n",
       "      <td>[]</td>\n",
       "    </tr>\n",
       "    <tr>\n",
       "      <th>4</th>\n",
       "      <td>[1051384074145]</td>\n",
       "      <td>[43900]</td>\n",
       "      <td>[Duracell - AAA Batteries (4-Pack)]</td>\n",
       "      <td>[HardGood]</td>\n",
       "      <td>[2000-03-01]</td>\n",
       "      <td>[true]</td>\n",
       "      <td>[5.99]</td>\n",
       "      <td>[5.99]</td>\n",
       "      <td>[]</td>\n",
       "      <td>[false]</td>\n",
       "      <td>...</td>\n",
       "      <td>[5]</td>\n",
       "      <td>[]</td>\n",
       "      <td>[]</td>\n",
       "      <td>[]</td>\n",
       "      <td>[]</td>\n",
       "      <td>[0.19]</td>\n",
       "      <td>[]</td>\n",
       "      <td>[Power a variety of electronic devices with th...</td>\n",
       "      <td>[Power a variety of electronic devices with th...</td>\n",
       "      <td>[Compatible with select electronic devices\\nFo...</td>\n",
       "    </tr>\n",
       "  </tbody>\n",
       "</table>\n",
       "<p>5 rows × 56 columns</p>\n",
       "</div>"
      ],
      "text/plain": [
       "         productId      sku  \\\n",
       "0  [1051806942127]   [2570]   \n",
       "1  [1051806941102]  [12854]   \n",
       "2  [1051806941178]  [12881]   \n",
       "3  [1051826152940]  [34590]   \n",
       "4  [1051384074145]  [43900]   \n",
       "\n",
       "                                                name        type  \\\n",
       "0  [Fuji - 110 Color Print Disc Film (24 exposures)]  [HardGood]   \n",
       "1                  [Manufacturer - Test sku - Color]  [HardGood]   \n",
       "2             [Kodak - Gold 400 Film (24 exposures)]  [HardGood]   \n",
       "3                            [Hoover - Vacuum Bag A]  [HardGood]   \n",
       "4                [Duracell - AAA Batteries (4-Pack)]  [HardGood]   \n",
       "\n",
       "      startDate   active regularPrice salePrice artistName   onSale  ...  \\\n",
       "0  [2000-03-01]  [false]       [1.89]    [1.89]         []  [false]  ...   \n",
       "1  [2000-03-01]  [false]       [3.99]    [3.99]         []  [false]  ...   \n",
       "2  [2000-03-01]  [false]       [4.79]    [4.79]         []  [false]  ...   \n",
       "3  [2003-05-04]  [false]       [3.99]    [3.99]         []  [false]  ...   \n",
       "4  [2000-03-01]   [true]       [5.99]    [5.99]         []  [false]  ...   \n",
       "\n",
       "  quantityLimit    color            depth            height            weight  \\\n",
       "0          [50]       []               []                []                []   \n",
       "1          [50]  [Color]  [Product Depth]  [Product Height]  [Product Weight]   \n",
       "2          [50]       []               []                []                []   \n",
       "3          [20]       []        [1-1/10\"]         [11-3/5\"]                []   \n",
       "4           [5]       []               []                []                []   \n",
       "\n",
       "  shippingWeight            width  \\\n",
       "0          [0.1]               []   \n",
       "1          [0.4]  [Product Width]   \n",
       "2         [0.08]               []   \n",
       "3          [0.3]         [8-1/5\"]   \n",
       "4         [0.19]               []   \n",
       "\n",
       "                                     longDescription  \\\n",
       "0  [110 disc color print, 200-speed film. 24 expo...   \n",
       "1                              [Product Description]   \n",
       "2  [Kodak Gold 400-speed film is perfect for a va...   \n",
       "3                                     [Vacuum Bag A]   \n",
       "4  [Power a variety of electronic devices with th...   \n",
       "\n",
       "                                 longDescriptionHtml  \\\n",
       "0  [110 disc color print, 200-speed film. 24 expo...   \n",
       "1                              [Product Description]   \n",
       "2  [Kodak Gold 400-speed film is perfect for a va...   \n",
       "3                                     [Vacuum Bag A]   \n",
       "4  [Power a variety of electronic devices with th...   \n",
       "\n",
       "                                            features  \n",
       "0                                                 []  \n",
       "1                                   [Feature bullet]  \n",
       "2  [Excellent latent-image keeping characteristic...  \n",
       "3                                                 []  \n",
       "4  [Compatible with select electronic devices\\nFo...  \n",
       "\n",
       "[5 rows x 56 columns]"
      ]
     },
     "execution_count": 6,
     "metadata": {},
     "output_type": "execute_result"
    }
   ],
   "source": [
    "import pandas as pd\n",
    "from lxml import etree\n",
    "def extract_records(file: str, mappings: dict) -> pd.DataFrame:\n",
    "    \"\"\"Extract details from XML file\n",
    "  \n",
    "    Args:\n",
    "        file (str): Path to the XML file containing details.\n",
    "        mappings (dict): A dictionary of mappings to extract\n",
    "  \n",
    "    Returns:\n",
    "        pd.DataFrame: A pandas dataframe with records\n",
    "    \"\"\"\n",
    "    nodes = etree.parse(file).getroot().findall(\"./product\") \n",
    "    records = pd.DataFrame([\n",
    "      {k: node.xpath(v) for k, v in mappings.items()} \n",
    "      for node in nodes\n",
    "      if len(node.xpath(\"productId/text()\")) > 0\n",
    "    ])\n",
    "    return records\n",
    "\n",
    "records = extract_records(FILES[0], mappings)\n",
    "records.head()"
   ]
  },
  {
   "cell_type": "markdown",
   "metadata": {},
   "source": [
    "## Save Records"
   ]
  },
  {
   "cell_type": "markdown",
   "metadata": {},
   "source": [
    "Let us now write a function to batch the records and save each batch as a parquet file. We batch the records so that we can index the batches in parallel, while keeping the batch size manageable."
   ]
  },
  {
   "cell_type": "code",
   "execution_count": 7,
   "metadata": {},
   "outputs": [
    {
     "data": {
      "text/plain": [
       "['/tmp/products_0001_2570_to_430420-2.pickle',\n",
       " '/tmp/products_0001_2570_to_430420-1.pickle',\n",
       " '/tmp/products_0001_2570_to_430420-0.pickle']"
      ]
     },
     "execution_count": 7,
     "metadata": {},
     "output_type": "execute_result"
    }
   ],
   "source": [
    "from pathlib import Path\n",
    "def save_records(records: pd.DataFrame, file: str, batch_size: int = 2000) -> int:\n",
    "    \"\"\"Save product records in batches to pickle files.\n",
    "\n",
    "    Args:\n",
    "        records (pd.DataFrame): Records to save.\n",
    "        file (str): The path to save the file.\n",
    "        batch_size (int, optional): The number of records in a batch. Defaults to 2000.\n",
    "    Returns:\n",
    "        int: The number of records extracted and saved.\n",
    "    \"\"\"\n",
    "    for idx, start in enumerate(range(0, len(records), batch_size)):\n",
    "        batch = records.iloc[start : start + batch_size]\n",
    "        batch.to_parquet(f\"{file}-{idx}.parquet\")\n",
    "    return len(records)\n",
    "\n",
    "save_records(records, f\"/tmp/{Path(FILES[0]).stem}\", batch_size = 2000)\n",
    "glob.glob(\"/tmp/*.parquet\")"
   ]
  },
  {
   "cell_type": "markdown",
   "metadata": {},
   "source": [
    "## Extract and Save Records"
   ]
  },
  {
   "cell_type": "markdown",
   "metadata": {},
   "source": [
    "Let us compose the two functions we wrote earlier to extact and save product records."
   ]
  },
  {
   "cell_type": "code",
   "execution_count": 8,
   "metadata": {},
   "outputs": [
    {
     "data": {
      "text/plain": [
       "['/tmp/test-1/products_0001_2570_to_430420-2.pickle',\n",
       " '/tmp/test-1/products_0001_2570_to_430420-1.pickle',\n",
       " '/tmp/test-1/products_0001_2570_to_430420-0.pickle']"
      ]
     },
     "execution_count": 8,
     "metadata": {},
     "output_type": "execute_result"
    }
   ],
   "source": [
    "def extract_and_save_records(file: str, output_dir: str, mappings: dict, batch_size:int = 2000) -> int:\n",
    "    \"\"\"Extract product records from XML files and save them in batches to pickle files.\n",
    "\n",
    "    Args:\n",
    "        file (str): XML file to extract records from.\n",
    "        output_dir (str):  The directory to save the pickle files.\n",
    "        mappings (dict): A dictionary of mappings to extract.\n",
    "        batch_size (int, optional): The maximum number of records in a batch. Defaults to 2000.\n",
    "\n",
    "    Returns:\n",
    "        int: The number of records extracted and saved.\n",
    "    \"\"\"\n",
    "    records = extract_records(file, mappings)\n",
    "    output_file = Path(output_dir) / Path(file).stem\n",
    "    save_records(records, output_file, batch_size)\n",
    "    return len(records)\n",
    "\n",
    "Path(\"/tmp/test-1\").mkdir(parents=True, exist_ok=True)\n",
    "extract_and_save_records(FILES[0], \"/tmp/test-1\", mappings, 2000)\n",
    "glob.glob(\"/tmp/test-1/*\")"
   ]
  },
  {
   "cell_type": "markdown",
   "metadata": {},
   "source": [
    "## Extract and Save All Records"
   ]
  },
  {
   "cell_type": "markdown",
   "metadata": {},
   "source": [
    "We can now write a function that loops through all the XML files and calls the `extract_and_save_records` function on each of them. We can use `ProcessPoolExecutor()` from `concurrent.futures` to parallelize the ingesion pipeline and speed it up significantly."
   ]
  },
  {
   "cell_type": "code",
   "execution_count": null,
   "metadata": {},
   "outputs": [],
   "source": [
    "from concurrent.futures import ProcessPoolExecutor\n",
    "from itertools import repeat\n",
    "from functools import partial\n",
    "from tqdm import tqdm\n",
    "def extract_and_save_records_all(source_dir: str, output_dir: str, mappings: dict, batch_size:int = 2000):\n",
    "    \"\"\"Extract product records from XML files and save them in batches\n",
    "\n",
    "    Args:\n",
    "        source_dir (str): _description_\n",
    "        output_dir (str): _description_\n",
    "        mappings (dict): _description_\n",
    "        batch_size (int, optional): _description_. Defaults to 2000.\n",
    "    \"\"\"\n",
    "    Path(output_dir).mkdir(parents=True, exist_ok=True)\n",
    "    files = glob.glob(source_dir + \"/*.xml\")\n",
    "    extract_and_save_records_from_file = partial(\n",
    "        extract_and_save_records, \n",
    "        mappings = mappings, \n",
    "        output_dir = output_dir, \n",
    "        batch_size = batch_size\n",
    "    )\n",
    "    with ProcessPoolExecutor(max_workers=8) as pool:\n",
    "        records = list(tqdm(pool.map(extract_and_save_records_from_file, files), total=len(files)))\n",
    "    print(f\"Extracted {sum(records)} records from {len(files)} files\")\n",
    "\n",
    "OUTPUT_DIR = \"/workspace/datasets/products\"\n",
    "extract_and_save_records_all(SOURCE_DIR, OUTPUT_DIR, mappings, batch_size = 2000)"
   ]
  },
  {
   "cell_type": "code",
   "execution_count": 23,
   "metadata": {},
   "outputs": [],
   "source": [
    "output_files = sorted(glob.glob(f\"{OUTPUT_DIR}/*.parquet\"))\n",
    "batches = (pd.read_parquet(file) for file in output_files)"
   ]
  }
 ],
 "metadata": {
  "kernelspec": {
   "display_name": "search_fundamentals",
   "language": "python",
   "name": "python3"
  },
  "language_info": {
   "codemirror_mode": {
    "name": "ipython",
    "version": 3
   },
   "file_extension": ".py",
   "mimetype": "text/x-python",
   "name": "python",
   "nbconvert_exporter": "python",
   "pygments_lexer": "ipython3",
   "version": "3.9.7"
  },
  "orig_nbformat": 4
 },
 "nbformat": 4,
 "nbformat_minor": 2
}
