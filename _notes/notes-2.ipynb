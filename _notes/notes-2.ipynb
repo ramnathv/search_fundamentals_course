{
 "cells": [
  {
   "cell_type": "code",
   "execution_count": 1,
   "metadata": {},
   "outputs": [],
   "source": [
    "from opensearchpy import OpenSearch\n",
    "host = 'localhost'\n",
    "port = 9200\n",
    "auth = ('admin', 'admin')  # For testing only. Don't store credentials in code.\n",
    "\n",
    "# Create the client with SSL/TLS enabled, but hostname and certificate verification disabled.\n",
    "client = OpenSearch(\n",
    "    hosts=[{'host': host, 'port': port}],\n",
    "    http_compress=True,  # enables gzip compression for request bodies\n",
    "    http_auth=auth,\n",
    "    # client_cert = client_cert_path,\n",
    "    # client_key = client_key_path,\n",
    "    use_ssl=True,\n",
    "    verify_certs=False,\n",
    "    ssl_assert_hostname=False,\n",
    "    ssl_show_warn=False,\n",
    ")"
   ]
  },
  {
   "cell_type": "code",
   "execution_count": 2,
   "metadata": {},
   "outputs": [
    {
     "name": "stdout",
     "output_type": "stream",
     "text": [
      "1695520014 01:46:54 docker-cluster yellow 1 1 true 11 11 0 0 6 0 - 64.7%\n",
      "\n",
      "yellow open .plugins-ml-config                        gpaVzMC9Rm-ixr8sC2AMOA 1 1     1 0   3.9kb   3.9kb\n",
      "green  open .opensearch-observability                 Bfrp1mOqQYanRKHFWrbByA 1 0     0 0    208b    208b\n",
      "green  open .kibana_92668751_admin_1                  bruHV_IvRymvc8IduVDd_Q 1 0     1 0   5.1kb   5.1kb\n",
      "yellow open security-auditlog-2023.09.24              BxumpqiRREiQ_i137LxLWg 1 1   232 0 360.8kb 360.8kb\n",
      "green  open opensearch_dashboards_sample_data_flights 3ipTpd0SSQ-xhjnIQiaIdQ 1 0 13059 0   5.8mb   5.8mb\n",
      "yellow open search_fun_test                           aPRLpy-eRzG185DHcTQLhg 1 1     4 0   6.9kb   6.9kb\n",
      "green  open .kibana_1                                 fVVE40BkSEqQvTlA5A1Tng 1 0    61 0    37kb    37kb\n",
      "green  open .opendistro_security                      88369CGsQ3CShUM32lIe4w 1 0    10 0  75.6kb  75.6kb\n",
      "yellow open search_fun_revisited                      3qiiDzwgT1GnwjPa-FLV3A 1 1     4 0  28.1kb  28.1kb\n",
      "\n"
     ]
    }
   ],
   "source": [
    "# Do a few checks before we start indexing:\n",
    "print(client.cat.health())\n",
    "print(client.cat.indices())"
   ]
  },
  {
   "cell_type": "code",
   "execution_count": 3,
   "metadata": {},
   "outputs": [
    {
     "name": "stdout",
     "output_type": "stream",
     "text": [
      "epoch      timestamp count\n",
      "1695520114 01:48:34  4\n",
      "\n"
     ]
    }
   ],
   "source": [
    "# If you still have your documents from the Dev Tools test, we should be able to check them here:\n",
    "try:\n",
    "    print(client.cat.count(\"search_fun_test\", params={\"v\": \"true\"}))\n",
    "except:\n",
    "    print(\"search_fun_test doesn't exist, that's OK\")"
   ]
  },
  {
   "cell_type": "code",
   "execution_count": 11,
   "metadata": {},
   "outputs": [],
   "source": [
    "import json\n",
    "def print_json(x):\n",
    "    print(json.dumps(x, indent=2))"
   ]
  },
  {
   "cell_type": "markdown",
   "metadata": {},
   "source": [
    "### Create an index with non-default settings."
   ]
  },
  {
   "cell_type": "code",
   "execution_count": null,
   "metadata": {},
   "outputs": [],
   "source": [
    "index_name = 'search_fun_revisited'\n",
    "index_body = {\n",
    "  'settings': {\n",
    "    'index': {\n",
    "      'query':{\n",
    "          'default_field': \"body\"\n",
    "      }\n",
    "    }\n",
    "  }\n",
    "}\n",
    "\n",
    "response = client.indices.create(index_name, body=index_body)\n",
    "print('\\nCreating index:')\n",
    "print_json(response)\n"
   ]
  },
  {
   "cell_type": "markdown",
   "metadata": {},
   "source": [
    "### Add our sample document to the index."
   ]
  },
  {
   "cell_type": "code",
   "execution_count": 6,
   "metadata": {},
   "outputs": [
    {
     "data": {
      "text/html": [
       "<div>\n",
       "<style scoped>\n",
       "    .dataframe tbody tr th:only-of-type {\n",
       "        vertical-align: middle;\n",
       "    }\n",
       "\n",
       "    .dataframe tbody tr th {\n",
       "        vertical-align: top;\n",
       "    }\n",
       "\n",
       "    .dataframe thead th {\n",
       "        text-align: right;\n",
       "    }\n",
       "</style>\n",
       "<table border=\"1\" class=\"dataframe\">\n",
       "  <thead>\n",
       "    <tr style=\"text-align: right;\">\n",
       "      <th></th>\n",
       "      <th>id</th>\n",
       "      <th>title</th>\n",
       "      <th>body</th>\n",
       "      <th>price</th>\n",
       "      <th>in_stock</th>\n",
       "      <th>category</th>\n",
       "    </tr>\n",
       "  </thead>\n",
       "  <tbody>\n",
       "    <tr>\n",
       "      <th>0</th>\n",
       "      <td>doc_a</td>\n",
       "      <td>Fox and Hounds</td>\n",
       "      <td>The quick red fox jumped over the lazy brown d...</td>\n",
       "      <td>5.99</td>\n",
       "      <td>True</td>\n",
       "      <td>childrens</td>\n",
       "    </tr>\n",
       "    <tr>\n",
       "      <th>1</th>\n",
       "      <td>doc_b</td>\n",
       "      <td>Fox wins championship</td>\n",
       "      <td>Wearing all red, the Fox jumped out to a lead ...</td>\n",
       "      <td>15.13</td>\n",
       "      <td>True</td>\n",
       "      <td>sports</td>\n",
       "    </tr>\n",
       "    <tr>\n",
       "      <th>2</th>\n",
       "      <td>doc_c</td>\n",
       "      <td>Lead Paint Removal</td>\n",
       "      <td>All lead must be removed from the brown and re...</td>\n",
       "      <td>150.21</td>\n",
       "      <td>False</td>\n",
       "      <td>instructional</td>\n",
       "    </tr>\n",
       "    <tr>\n",
       "      <th>3</th>\n",
       "      <td>doc_d</td>\n",
       "      <td>The Three Little Pigs Revisted</td>\n",
       "      <td>The big, bad wolf huffed and puffed and blew t...</td>\n",
       "      <td>3.51</td>\n",
       "      <td>True</td>\n",
       "      <td>childrens</td>\n",
       "    </tr>\n",
       "  </tbody>\n",
       "</table>\n",
       "</div>"
      ],
      "text/plain": [
       "      id                           title  \\\n",
       "0  doc_a                  Fox and Hounds   \n",
       "1  doc_b           Fox wins championship   \n",
       "2  doc_c              Lead Paint Removal   \n",
       "3  doc_d  The Three Little Pigs Revisted   \n",
       "\n",
       "                                                body   price  in_stock  \\\n",
       "0  The quick red fox jumped over the lazy brown d...    5.99      True   \n",
       "1  Wearing all red, the Fox jumped out to a lead ...   15.13      True   \n",
       "2  All lead must be removed from the brown and re...  150.21     False   \n",
       "3  The big, bad wolf huffed and puffed and blew t...    3.51      True   \n",
       "\n",
       "        category  \n",
       "0      childrens  \n",
       "1         sports  \n",
       "2  instructional  \n",
       "3      childrens  "
      ]
     },
     "execution_count": 6,
     "metadata": {},
     "output_type": "execute_result"
    }
   ],
   "source": [
    "docs = [\n",
    "    {\n",
    "        \"id\": \"doc_a\",\n",
    "        \"title\": \"Fox and Hounds\",\n",
    "        \"body\": \"The quick red fox jumped over the lazy brown dogs.\",\n",
    "        \"price\": \"5.99\",\n",
    "        \"in_stock\": True,\n",
    "        \"category\": \"childrens\"},\n",
    "    {\n",
    "        \"id\": \"doc_b\",\n",
    "        \"title\": \"Fox wins championship\",\n",
    "        \"body\": \"Wearing all red, the Fox jumped out to a lead in the race over the Dog.\",\n",
    "        \"price\": \"15.13\",\n",
    "        \"in_stock\": True,\n",
    "        \"category\": \"sports\"},\n",
    "    {\n",
    "        \"id\": \"doc_c\",\n",
    "        \"title\": \"Lead Paint Removal\",\n",
    "        \"body\": \"All lead must be removed from the brown and red paint.\",\n",
    "        \"price\": \"150.21\",\n",
    "        \"in_stock\": False,\n",
    "        \"category\": \"instructional\"},\n",
    "    {\n",
    "        \"id\": \"doc_d\",\n",
    "        \"title\": \"The Three Little Pigs Revisted\",\n",
    "        \"price\": \"3.51\",\n",
    "        \"in_stock\": True,\n",
    "        \"body\": \"The big, bad wolf huffed and puffed and blew the house down. The end.\",\n",
    "        \"category\": \"childrens\"}\n",
    "]\n",
    "import pandas as pd\n",
    "pd.DataFrame(docs)"
   ]
  },
  {
   "cell_type": "code",
   "execution_count": null,
   "metadata": {},
   "outputs": [],
   "source": [
    "for doc in docs:\n",
    "    doc_id = doc[\"id\"]\n",
    "    print(\"Indexing {}\".format(doc_id))\n",
    "    response = client.index(\n",
    "        index=index_name,\n",
    "        body=doc,\n",
    "        id=doc_id,\n",
    "        refresh=True\n",
    "    )\n",
    "    print('\\n\\tResponse:')\n",
    "    print_json(response)"
   ]
  },
  {
   "cell_type": "code",
   "execution_count": 4,
   "metadata": {},
   "outputs": [
    {
     "data": {
      "text/plain": [
       "{'acknowledged': True, 'shards_acknowledged': True, 'index': 'search_fun_bulk'}"
      ]
     },
     "execution_count": 4,
     "metadata": {},
     "output_type": "execute_result"
    }
   ],
   "source": [
    "index_name = 'search_fun_bulk'\n",
    "index_body = {\n",
    "    'settings': {\n",
    "        'index': {\n",
    "            'query': {\n",
    "                'default_field': \"body\"\n",
    "            }\n",
    "        }\n",
    "    }\n",
    "}\n",
    "\n",
    "client.indices.create(index_name, body=index_body)"
   ]
  },
  {
   "cell_type": "code",
   "execution_count": 7,
   "metadata": {},
   "outputs": [
    {
     "data": {
      "text/html": [
       "<div>\n",
       "<style scoped>\n",
       "    .dataframe tbody tr th:only-of-type {\n",
       "        vertical-align: middle;\n",
       "    }\n",
       "\n",
       "    .dataframe tbody tr th {\n",
       "        vertical-align: top;\n",
       "    }\n",
       "\n",
       "    .dataframe thead th {\n",
       "        text-align: right;\n",
       "    }\n",
       "</style>\n",
       "<table border=\"1\" class=\"dataframe\">\n",
       "  <thead>\n",
       "    <tr style=\"text-align: right;\">\n",
       "      <th></th>\n",
       "      <th>id</th>\n",
       "      <th>title</th>\n",
       "      <th>body</th>\n",
       "      <th>price</th>\n",
       "      <th>in_stock</th>\n",
       "      <th>category</th>\n",
       "      <th>_index</th>\n",
       "    </tr>\n",
       "  </thead>\n",
       "  <tbody>\n",
       "    <tr>\n",
       "      <th>0</th>\n",
       "      <td>doc_a</td>\n",
       "      <td>Fox and Hounds</td>\n",
       "      <td>The quick red fox jumped over the lazy brown d...</td>\n",
       "      <td>5.99</td>\n",
       "      <td>True</td>\n",
       "      <td>childrens</td>\n",
       "      <td>search_fun_bulk</td>\n",
       "    </tr>\n",
       "    <tr>\n",
       "      <th>1</th>\n",
       "      <td>doc_b</td>\n",
       "      <td>Fox wins championship</td>\n",
       "      <td>Wearing all red, the Fox jumped out to a lead ...</td>\n",
       "      <td>15.13</td>\n",
       "      <td>True</td>\n",
       "      <td>sports</td>\n",
       "      <td>search_fun_bulk</td>\n",
       "    </tr>\n",
       "    <tr>\n",
       "      <th>2</th>\n",
       "      <td>doc_c</td>\n",
       "      <td>Lead Paint Removal</td>\n",
       "      <td>All lead must be removed from the brown and re...</td>\n",
       "      <td>150.21</td>\n",
       "      <td>False</td>\n",
       "      <td>instructional</td>\n",
       "      <td>search_fun_bulk</td>\n",
       "    </tr>\n",
       "    <tr>\n",
       "      <th>3</th>\n",
       "      <td>doc_d</td>\n",
       "      <td>The Three Little Pigs Revisted</td>\n",
       "      <td>The big, bad wolf huffed and puffed and blew t...</td>\n",
       "      <td>3.51</td>\n",
       "      <td>True</td>\n",
       "      <td>childrens</td>\n",
       "      <td>search_fun_bulk</td>\n",
       "    </tr>\n",
       "  </tbody>\n",
       "</table>\n",
       "</div>"
      ],
      "text/plain": [
       "      id                           title  \\\n",
       "0  doc_a                  Fox and Hounds   \n",
       "1  doc_b           Fox wins championship   \n",
       "2  doc_c              Lead Paint Removal   \n",
       "3  doc_d  The Three Little Pigs Revisted   \n",
       "\n",
       "                                                body   price  in_stock  \\\n",
       "0  The quick red fox jumped over the lazy brown d...    5.99      True   \n",
       "1  Wearing all red, the Fox jumped out to a lead ...   15.13      True   \n",
       "2  All lead must be removed from the brown and re...  150.21     False   \n",
       "3  The big, bad wolf huffed and puffed and blew t...    3.51      True   \n",
       "\n",
       "        category           _index  \n",
       "0      childrens  search_fun_bulk  \n",
       "1         sports  search_fun_bulk  \n",
       "2  instructional  search_fun_bulk  \n",
       "3      childrens  search_fun_bulk  "
      ]
     },
     "execution_count": 7,
     "metadata": {},
     "output_type": "execute_result"
    }
   ],
   "source": [
    "docs_bulk = docs\n",
    "for doc in docs_bulk:\n",
    "    doc[\"_index\"] = index_name\n",
    "pd.DataFrame(docs_bulk)"
   ]
  },
  {
   "cell_type": "code",
   "execution_count": 8,
   "metadata": {},
   "outputs": [
    {
     "name": "stdout",
     "output_type": "stream",
     "text": [
      "epoch      timestamp count\n",
      "1695520274 01:51:14  0\n",
      "\n"
     ]
    }
   ],
   "source": [
    "from opensearchpy.helpers import bulk\n",
    "bulk(client, docs)\n",
    "\n",
    "print(client.cat.count(index_name, params={\"v\": \"true\"}))"
   ]
  },
  {
   "cell_type": "code",
   "execution_count": 12,
   "metadata": {},
   "outputs": [
    {
     "name": "stdout",
     "output_type": "stream",
     "text": [
      "{\n",
      "  \"search_fun_bulk\": {\n",
      "    \"mappings\": {\n",
      "      \"properties\": {\n",
      "        \"body\": {\n",
      "          \"type\": \"text\",\n",
      "          \"fields\": {\n",
      "            \"keyword\": {\n",
      "              \"type\": \"keyword\",\n",
      "              \"ignore_above\": 256\n",
      "            }\n",
      "          }\n",
      "        },\n",
      "        \"category\": {\n",
      "          \"type\": \"text\",\n",
      "          \"fields\": {\n",
      "            \"keyword\": {\n",
      "              \"type\": \"keyword\",\n",
      "              \"ignore_above\": 256\n",
      "            }\n",
      "          }\n",
      "        },\n",
      "        \"id\": {\n",
      "          \"type\": \"text\",\n",
      "          \"fields\": {\n",
      "            \"keyword\": {\n",
      "              \"type\": \"keyword\",\n",
      "              \"ignore_above\": 256\n",
      "            }\n",
      "          }\n",
      "        },\n",
      "        \"in_stock\": {\n",
      "          \"type\": \"boolean\"\n",
      "        },\n",
      "        \"price\": {\n",
      "          \"type\": \"text\",\n",
      "          \"fields\": {\n",
      "            \"keyword\": {\n",
      "              \"type\": \"keyword\",\n",
      "              \"ignore_above\": 256\n",
      "            }\n",
      "          }\n",
      "        },\n",
      "        \"title\": {\n",
      "          \"type\": \"text\",\n",
      "          \"fields\": {\n",
      "            \"keyword\": {\n",
      "              \"type\": \"keyword\",\n",
      "              \"ignore_above\": 256\n",
      "            }\n",
      "          }\n",
      "        }\n",
      "      }\n",
      "    }\n",
      "  }\n",
      "}\n"
     ]
    }
   ],
   "source": [
    "print_json(client.indices.get_mapping(index_name))"
   ]
  },
  {
   "cell_type": "code",
   "execution_count": null,
   "metadata": {},
   "outputs": [],
   "source": []
  }
 ],
 "metadata": {
  "kernelspec": {
   "display_name": "search_fundamentals",
   "language": "python",
   "name": "python3"
  },
  "language_info": {
   "codemirror_mode": {
    "name": "ipython",
    "version": 3
   },
   "file_extension": ".py",
   "mimetype": "text/x-python",
   "name": "python",
   "nbconvert_exporter": "python",
   "pygments_lexer": "ipython3",
   "version": "3.9.7"
  },
  "orig_nbformat": 4
 },
 "nbformat": 4,
 "nbformat_minor": 2
}
