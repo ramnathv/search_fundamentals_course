{
 "cells": [
  {
   "cell_type": "markdown",
   "metadata": {},
   "source": [
    "# OpenSearch Revisited"
   ]
  },
  {
   "cell_type": "markdown",
   "metadata": {},
   "source": [
    "## Setup"
   ]
  },
  {
   "cell_type": "code",
   "execution_count": 1,
   "metadata": {},
   "outputs": [
    {
     "name": "stdout",
     "output_type": "stream",
     "text": [
      "1695621067 05:51:07 docker-cluster yellow 1 1 true 12 12 0 0 7 0 - 63.2%\n",
      "\n",
      "yellow open .plugins-ml-config                        gpaVzMC9Rm-ixr8sC2AMOA 1 1     1 0   3.9kb   3.9kb\n",
      "green  open .opensearch-observability                 Bfrp1mOqQYanRKHFWrbByA 1 0     0 0    208b    208b\n",
      "yellow open search_fun_bulk                           4m4mPzJ4QXy4-qaWNEZ34A 1 1     4 0   8.8kb   8.8kb\n",
      "green  open .kibana_92668751_admin_1                  bruHV_IvRymvc8IduVDd_Q 1 0     1 0   5.1kb   5.1kb\n",
      "yellow open security-auditlog-2023.09.24              BxumpqiRREiQ_i137LxLWg 1 1   236 0 424.4kb 424.4kb\n",
      "green  open opensearch_dashboards_sample_data_flights 3ipTpd0SSQ-xhjnIQiaIdQ 1 0 13059 0   5.8mb   5.8mb\n",
      "yellow open search_fun_test                           aPRLpy-eRzG185DHcTQLhg 1 1     4 0   6.9kb   6.9kb\n",
      "green  open .opendistro_security                      88369CGsQ3CShUM32lIe4w 1 0    10 0  75.6kb  75.6kb\n",
      "green  open .kibana_1                                 fVVE40BkSEqQvTlA5A1Tng 1 0    61 0    37kb    37kb\n",
      "yellow open search_fun_revisited                      3qiiDzwgT1GnwjPa-FLV3A 1 1     4 0  28.1kb  28.1kb\n",
      "\n"
     ]
    }
   ],
   "source": [
    "from opensearchpy import OpenSearch\n",
    "host = 'localhost'\n",
    "port = 9200\n",
    "auth = ('admin', 'admin')  # For testing only. Don't store credentials in code.\n",
    "\n",
    "# Create the client with SSL/TLS enabled, but hostname and certificate verification disabled.\n",
    "client = OpenSearch(\n",
    "    hosts=[{'host': host, 'port': port}],\n",
    "    http_compress=True,  # enables gzip compression for request bodies\n",
    "    http_auth=auth,\n",
    "    # client_cert = client_cert_path,\n",
    "    # client_key = client_key_path,\n",
    "    use_ssl=True,\n",
    "    verify_certs=False,\n",
    "    ssl_assert_hostname=False,\n",
    "    ssl_show_warn=False,\n",
    ")\n",
    "# Do a few checks before we start indexing:\n",
    "print(client.cat.health())\n",
    "print(client.cat.indices())"
   ]
  },
  {
   "cell_type": "code",
   "execution_count": 2,
   "metadata": {},
   "outputs": [
    {
     "name": "stdout",
     "output_type": "stream",
     "text": [
      "epoch      timestamp count\n",
      "1695621095 05:51:35  4\n",
      "\n"
     ]
    }
   ],
   "source": [
    "# If you still have your documents from the Dev Tools test, we should be able to check them here:\n",
    "try:\n",
    "    print(client.cat.count(\"search_fun_test\", params={\"v\": \"true\"}))\n",
    "except:\n",
    "    print(\"search_fun_test doesn't exist, that's OK\")"
   ]
  },
  {
   "cell_type": "code",
   "execution_count": 3,
   "metadata": {},
   "outputs": [],
   "source": [
    "import json\n",
    "def print_json(x):\n",
    "    print(json.dumps(x, indent=2))"
   ]
  },
  {
   "cell_type": "markdown",
   "metadata": {},
   "source": [
    "### Create Index"
   ]
  },
  {
   "cell_type": "code",
   "execution_count": 37,
   "metadata": {},
   "outputs": [
    {
     "data": {
      "text/plain": [
       "{'acknowledged': True}"
      ]
     },
     "execution_count": 37,
     "metadata": {},
     "output_type": "execute_result"
    }
   ],
   "source": [
    "client.indices.delete(\"search_fun_revisited\")"
   ]
  },
  {
   "cell_type": "code",
   "execution_count": 38,
   "metadata": {},
   "outputs": [
    {
     "name": "stdout",
     "output_type": "stream",
     "text": [
      "\n",
      "Creating index: search_fun_revisited\n",
      "{\n",
      "  \"acknowledged\": true,\n",
      "  \"shards_acknowledged\": true,\n",
      "  \"index\": \"search_fun_revisited\"\n",
      "}\n"
     ]
    }
   ],
   "source": [
    "index_name = 'search_fun_revisited'\n",
    "index_body = {\n",
    "  'settings': {\n",
    "    'index': {\n",
    "      'query':{\n",
    "          'default_field': \"body\"\n",
    "      }\n",
    "    }\n",
    "  }\n",
    "}\n",
    "\n",
    "try:\n",
    "  response = client.indices.create(index_name, body=index_body)\n",
    "  print(f'\\nCreating index: {index_name}')\n",
    "  print_json(response)\n",
    "except:\n",
    "  print(f\"Index {index_name} already exists!\")\n"
   ]
  },
  {
   "cell_type": "markdown",
   "metadata": {},
   "source": [
    "### Add Documents > Sequential"
   ]
  },
  {
   "cell_type": "code",
   "execution_count": 39,
   "metadata": {},
   "outputs": [
    {
     "data": {
      "text/html": [
       "<div>\n",
       "<style scoped>\n",
       "    .dataframe tbody tr th:only-of-type {\n",
       "        vertical-align: middle;\n",
       "    }\n",
       "\n",
       "    .dataframe tbody tr th {\n",
       "        vertical-align: top;\n",
       "    }\n",
       "\n",
       "    .dataframe thead th {\n",
       "        text-align: right;\n",
       "    }\n",
       "</style>\n",
       "<table border=\"1\" class=\"dataframe\">\n",
       "  <thead>\n",
       "    <tr style=\"text-align: right;\">\n",
       "      <th></th>\n",
       "      <th>id</th>\n",
       "      <th>title</th>\n",
       "      <th>body</th>\n",
       "      <th>price</th>\n",
       "      <th>in_stock</th>\n",
       "      <th>category</th>\n",
       "    </tr>\n",
       "  </thead>\n",
       "  <tbody>\n",
       "    <tr>\n",
       "      <th>0</th>\n",
       "      <td>doc_a</td>\n",
       "      <td>Fox and Hounds</td>\n",
       "      <td>The quick red fox jumped over the lazy brown d...</td>\n",
       "      <td>5.99</td>\n",
       "      <td>True</td>\n",
       "      <td>childrens</td>\n",
       "    </tr>\n",
       "    <tr>\n",
       "      <th>1</th>\n",
       "      <td>doc_b</td>\n",
       "      <td>Fox wins championship</td>\n",
       "      <td>Wearing all red, the Fox jumped out to a lead ...</td>\n",
       "      <td>15.13</td>\n",
       "      <td>True</td>\n",
       "      <td>sports</td>\n",
       "    </tr>\n",
       "    <tr>\n",
       "      <th>2</th>\n",
       "      <td>doc_c</td>\n",
       "      <td>Lead Paint Removal</td>\n",
       "      <td>All lead must be removed from the brown and re...</td>\n",
       "      <td>150.21</td>\n",
       "      <td>False</td>\n",
       "      <td>instructional</td>\n",
       "    </tr>\n",
       "    <tr>\n",
       "      <th>3</th>\n",
       "      <td>doc_d</td>\n",
       "      <td>The Three Little Pigs Revisted</td>\n",
       "      <td>The big, bad wolf huffed and puffed and blew t...</td>\n",
       "      <td>3.51</td>\n",
       "      <td>True</td>\n",
       "      <td>childrens</td>\n",
       "    </tr>\n",
       "  </tbody>\n",
       "</table>\n",
       "</div>"
      ],
      "text/plain": [
       "      id                           title  \\\n",
       "0  doc_a                  Fox and Hounds   \n",
       "1  doc_b           Fox wins championship   \n",
       "2  doc_c              Lead Paint Removal   \n",
       "3  doc_d  The Three Little Pigs Revisted   \n",
       "\n",
       "                                                body   price  in_stock  \\\n",
       "0  The quick red fox jumped over the lazy brown d...    5.99      True   \n",
       "1  Wearing all red, the Fox jumped out to a lead ...   15.13      True   \n",
       "2  All lead must be removed from the brown and re...  150.21     False   \n",
       "3  The big, bad wolf huffed and puffed and blew t...    3.51      True   \n",
       "\n",
       "        category  \n",
       "0      childrens  \n",
       "1         sports  \n",
       "2  instructional  \n",
       "3      childrens  "
      ]
     },
     "execution_count": 39,
     "metadata": {},
     "output_type": "execute_result"
    }
   ],
   "source": [
    "docs = [\n",
    "    {\n",
    "        \"id\": \"doc_a\",\n",
    "        \"title\": \"Fox and Hounds\",\n",
    "        \"body\": \"The quick red fox jumped over the lazy brown dogs.\",\n",
    "        \"price\": \"5.99\",\n",
    "        \"in_stock\": True,\n",
    "        \"category\": \"childrens\"},\n",
    "    {\n",
    "        \"id\": \"doc_b\",\n",
    "        \"title\": \"Fox wins championship\",\n",
    "        \"body\": \"Wearing all red, the Fox jumped out to a lead in the race over the Dog.\",\n",
    "        \"price\": \"15.13\",\n",
    "        \"in_stock\": True,\n",
    "        \"category\": \"sports\"},\n",
    "    {\n",
    "        \"id\": \"doc_c\",\n",
    "        \"title\": \"Lead Paint Removal\",\n",
    "        \"body\": \"All lead must be removed from the brown and red paint.\",\n",
    "        \"price\": \"150.21\",\n",
    "        \"in_stock\": False,\n",
    "        \"category\": \"instructional\"},\n",
    "    {\n",
    "        \"id\": \"doc_d\",\n",
    "        \"title\": \"The Three Little Pigs Revisted\",\n",
    "        \"price\": \"3.51\",\n",
    "        \"in_stock\": True,\n",
    "        \"body\": \"The big, bad wolf huffed and puffed and blew the house down. The end.\",\n",
    "        \"category\": \"childrens\"}\n",
    "]\n",
    "import pandas as pd\n",
    "pd.DataFrame(docs)"
   ]
  },
  {
   "cell_type": "code",
   "execution_count": 40,
   "metadata": {},
   "outputs": [
    {
     "name": "stdout",
     "output_type": "stream",
     "text": [
      "Indexing doc_a\n",
      "\n",
      "\tResponse:\n",
      "{\n",
      "  \"_index\": \"search_fun_revisited\",\n",
      "  \"_id\": \"doc_a\",\n",
      "  \"_version\": 1,\n",
      "  \"result\": \"created\",\n",
      "  \"forced_refresh\": true,\n",
      "  \"_shards\": {\n",
      "    \"total\": 2,\n",
      "    \"successful\": 1,\n",
      "    \"failed\": 0\n",
      "  },\n",
      "  \"_seq_no\": 0,\n",
      "  \"_primary_term\": 1\n",
      "}\n",
      "Indexing doc_b\n",
      "\n",
      "\tResponse:\n",
      "{\n",
      "  \"_index\": \"search_fun_revisited\",\n",
      "  \"_id\": \"doc_b\",\n",
      "  \"_version\": 1,\n",
      "  \"result\": \"created\",\n",
      "  \"forced_refresh\": true,\n",
      "  \"_shards\": {\n",
      "    \"total\": 2,\n",
      "    \"successful\": 1,\n",
      "    \"failed\": 0\n",
      "  },\n",
      "  \"_seq_no\": 1,\n",
      "  \"_primary_term\": 1\n",
      "}\n",
      "Indexing doc_c\n",
      "\n",
      "\tResponse:\n",
      "{\n",
      "  \"_index\": \"search_fun_revisited\",\n",
      "  \"_id\": \"doc_c\",\n",
      "  \"_version\": 1,\n",
      "  \"result\": \"created\",\n",
      "  \"forced_refresh\": true,\n",
      "  \"_shards\": {\n",
      "    \"total\": 2,\n",
      "    \"successful\": 1,\n",
      "    \"failed\": 0\n",
      "  },\n",
      "  \"_seq_no\": 2,\n",
      "  \"_primary_term\": 1\n",
      "}\n",
      "Indexing doc_d\n",
      "\n",
      "\tResponse:\n",
      "{\n",
      "  \"_index\": \"search_fun_revisited\",\n",
      "  \"_id\": \"doc_d\",\n",
      "  \"_version\": 1,\n",
      "  \"result\": \"created\",\n",
      "  \"forced_refresh\": true,\n",
      "  \"_shards\": {\n",
      "    \"total\": 2,\n",
      "    \"successful\": 1,\n",
      "    \"failed\": 0\n",
      "  },\n",
      "  \"_seq_no\": 3,\n",
      "  \"_primary_term\": 1\n",
      "}\n"
     ]
    }
   ],
   "source": [
    "for doc in docs:\n",
    "    doc_id = doc[\"id\"]\n",
    "    print(\"Indexing {}\".format(doc_id))\n",
    "    response = client.index(\n",
    "        index=index_name,\n",
    "        body=doc,\n",
    "        id=doc_id,\n",
    "        refresh=True\n",
    "    )\n",
    "    print('\\n\\tResponse:')\n",
    "    print_json(response)"
   ]
  },
  {
   "cell_type": "markdown",
   "metadata": {},
   "source": [
    "### Add Documents > Bulk"
   ]
  },
  {
   "cell_type": "code",
   "execution_count": 98,
   "metadata": {},
   "outputs": [
    {
     "name": "stdout",
     "output_type": "stream",
     "text": [
      "Created index search_fun_bulk\n"
     ]
    }
   ],
   "source": [
    "index_name = 'search_fun_bulk'\n",
    "index_body = {\n",
    "    'settings': {\n",
    "        'index': {\n",
    "            'query': {\n",
    "                'default_field': \"body\"\n",
    "            }\n",
    "        }\n",
    "    }\n",
    "}\n",
    "\n",
    "try:\n",
    "    client.indices.create(index_name, body=index_body)\n",
    "    print(f\"Created index {index_name}\")\n",
    "except:\n",
    "    print(f\"Index {index_name} already exists!\")"
   ]
  },
  {
   "cell_type": "code",
   "execution_count": 99,
   "metadata": {},
   "outputs": [
    {
     "data": {
      "text/html": [
       "<div>\n",
       "<style scoped>\n",
       "    .dataframe tbody tr th:only-of-type {\n",
       "        vertical-align: middle;\n",
       "    }\n",
       "\n",
       "    .dataframe tbody tr th {\n",
       "        vertical-align: top;\n",
       "    }\n",
       "\n",
       "    .dataframe thead th {\n",
       "        text-align: right;\n",
       "    }\n",
       "</style>\n",
       "<table border=\"1\" class=\"dataframe\">\n",
       "  <thead>\n",
       "    <tr style=\"text-align: right;\">\n",
       "      <th></th>\n",
       "      <th>id</th>\n",
       "      <th>title</th>\n",
       "      <th>body</th>\n",
       "      <th>price</th>\n",
       "      <th>in_stock</th>\n",
       "      <th>category</th>\n",
       "      <th>_index</th>\n",
       "      <th>_id</th>\n",
       "    </tr>\n",
       "  </thead>\n",
       "  <tbody>\n",
       "    <tr>\n",
       "      <th>0</th>\n",
       "      <td>doc_a</td>\n",
       "      <td>Fox and Hounds</td>\n",
       "      <td>The quick red fox jumped over the lazy brown d...</td>\n",
       "      <td>5.99</td>\n",
       "      <td>True</td>\n",
       "      <td>childrens</td>\n",
       "      <td>search_fun_bulk</td>\n",
       "      <td>doc_a</td>\n",
       "    </tr>\n",
       "    <tr>\n",
       "      <th>1</th>\n",
       "      <td>doc_b</td>\n",
       "      <td>Fox wins championship</td>\n",
       "      <td>Wearing all red, the Fox jumped out to a lead ...</td>\n",
       "      <td>15.13</td>\n",
       "      <td>True</td>\n",
       "      <td>sports</td>\n",
       "      <td>search_fun_bulk</td>\n",
       "      <td>doc_b</td>\n",
       "    </tr>\n",
       "    <tr>\n",
       "      <th>2</th>\n",
       "      <td>doc_c</td>\n",
       "      <td>Lead Paint Removal</td>\n",
       "      <td>All lead must be removed from the brown and re...</td>\n",
       "      <td>150.21</td>\n",
       "      <td>False</td>\n",
       "      <td>instructional</td>\n",
       "      <td>search_fun_bulk</td>\n",
       "      <td>doc_c</td>\n",
       "    </tr>\n",
       "    <tr>\n",
       "      <th>3</th>\n",
       "      <td>doc_d</td>\n",
       "      <td>The Three Little Pigs Revisted</td>\n",
       "      <td>The big, bad wolf huffed and puffed and blew t...</td>\n",
       "      <td>3.51</td>\n",
       "      <td>True</td>\n",
       "      <td>childrens</td>\n",
       "      <td>search_fun_bulk</td>\n",
       "      <td>doc_d</td>\n",
       "    </tr>\n",
       "  </tbody>\n",
       "</table>\n",
       "</div>"
      ],
      "text/plain": [
       "      id                           title  \\\n",
       "0  doc_a                  Fox and Hounds   \n",
       "1  doc_b           Fox wins championship   \n",
       "2  doc_c              Lead Paint Removal   \n",
       "3  doc_d  The Three Little Pigs Revisted   \n",
       "\n",
       "                                                body   price  in_stock  \\\n",
       "0  The quick red fox jumped over the lazy brown d...    5.99      True   \n",
       "1  Wearing all red, the Fox jumped out to a lead ...   15.13      True   \n",
       "2  All lead must be removed from the brown and re...  150.21     False   \n",
       "3  The big, bad wolf huffed and puffed and blew t...    3.51      True   \n",
       "\n",
       "        category           _index    _id  \n",
       "0      childrens  search_fun_bulk  doc_a  \n",
       "1         sports  search_fun_bulk  doc_b  \n",
       "2  instructional  search_fun_bulk  doc_c  \n",
       "3      childrens  search_fun_bulk  doc_d  "
      ]
     },
     "execution_count": 99,
     "metadata": {},
     "output_type": "execute_result"
    }
   ],
   "source": [
    "docs_bulk = docs\n",
    "for doc in docs_bulk:\n",
    "    doc[\"_id\"] = doc[\"id\"]\n",
    "    doc[\"_index\"] = index_name\n",
    "pd.DataFrame(docs_bulk)"
   ]
  },
  {
   "cell_type": "code",
   "execution_count": 100,
   "metadata": {},
   "outputs": [
    {
     "name": "stdout",
     "output_type": "stream",
     "text": [
      "epoch      timestamp count\n",
      "1695623716 06:35:16  0\n",
      "\n"
     ]
    }
   ],
   "source": [
    "from opensearchpy.helpers import bulk\n",
    "bulk(client, docs)\n",
    "\n",
    "print(client.cat.count(index_name, params={\"v\": \"true\"}))"
   ]
  },
  {
   "cell_type": "code",
   "execution_count": 73,
   "metadata": {},
   "outputs": [
    {
     "name": "stdout",
     "output_type": "stream",
     "text": [
      "{\n",
      "  \"search_fun_bulk\": {\n",
      "    \"mappings\": {\n",
      "      \"properties\": {\n",
      "        \"body\": {\n",
      "          \"type\": \"text\",\n",
      "          \"fields\": {\n",
      "            \"keyword\": {\n",
      "              \"type\": \"keyword\",\n",
      "              \"ignore_above\": 256\n",
      "            }\n",
      "          }\n",
      "        },\n",
      "        \"category\": {\n",
      "          \"type\": \"text\",\n",
      "          \"fields\": {\n",
      "            \"keyword\": {\n",
      "              \"type\": \"keyword\",\n",
      "              \"ignore_above\": 256\n",
      "            }\n",
      "          }\n",
      "        },\n",
      "        \"id\": {\n",
      "          \"type\": \"text\",\n",
      "          \"fields\": {\n",
      "            \"keyword\": {\n",
      "              \"type\": \"keyword\",\n",
      "              \"ignore_above\": 256\n",
      "            }\n",
      "          }\n",
      "        },\n",
      "        \"in_stock\": {\n",
      "          \"type\": \"boolean\"\n",
      "        },\n",
      "        \"price\": {\n",
      "          \"type\": \"text\",\n",
      "          \"fields\": {\n",
      "            \"keyword\": {\n",
      "              \"type\": \"keyword\",\n",
      "              \"ignore_above\": 256\n",
      "            }\n",
      "          }\n",
      "        },\n",
      "        \"title\": {\n",
      "          \"type\": \"text\",\n",
      "          \"fields\": {\n",
      "            \"keyword\": {\n",
      "              \"type\": \"keyword\",\n",
      "              \"ignore_above\": 256\n",
      "            }\n",
      "          }\n",
      "        }\n",
      "      }\n",
      "    }\n",
      "  }\n",
      "}\n"
     ]
    }
   ],
   "source": [
    "print_json(client.indices.get_mapping(index_name))"
   ]
  },
  {
   "cell_type": "code",
   "execution_count": 93,
   "metadata": {},
   "outputs": [
    {
     "data": {
      "text/plain": [
       "{'acknowledged': True}"
      ]
     },
     "execution_count": 93,
     "metadata": {},
     "output_type": "execute_result"
    }
   ],
   "source": [
    "client.indices.delete(\"search_fun_revisited_custom_mappings\")"
   ]
  },
  {
   "cell_type": "code",
   "execution_count": 94,
   "metadata": {},
   "outputs": [
    {
     "name": "stdout",
     "output_type": "stream",
     "text": [
      "Created index search_fun_revisited_custom_mappings\n"
     ]
    }
   ],
   "source": [
    "index_name = 'search_fun_revisited_custom_mappings'\n",
    "index_body = {\n",
    "    'settings': {\n",
    "        'index': {\n",
    "            'query': {\n",
    "                'default_field': \"body\"\n",
    "            }\n",
    "        }\n",
    "    },\n",
    "    \"mappings\": {\n",
    "        \"properties\": {\n",
    "            \"title\": {\"type\": \"text\", \"analyzer\": \"english\"},\n",
    "            \"body\": {\"type\": \"text\", \"analyzer\": \"english\"},\n",
    "            \"in_stock\": {\"type\": \"boolean\"},\n",
    "            \"category\": {\"type\": \"keyword\", \"ignore_above\": \"256\"},\n",
    "            \"price\": {\"type\": \"float\"}\n",
    "        }\n",
    "    }\n",
    "}\n",
    "\n",
    "try:\n",
    "    client.indices.create(index_name, body=index_body)\n",
    "    print(f\"Created index {index_name}\")\n",
    "except:\n",
    "    print(f\"Index {index_name} already exists!\")"
   ]
  },
  {
   "cell_type": "code",
   "execution_count": 95,
   "metadata": {},
   "outputs": [
    {
     "name": "stdout",
     "output_type": "stream",
     "text": [
      "epoch      timestamp count\n",
      "1695623523 06:32:03  0\n",
      "\n"
     ]
    }
   ],
   "source": [
    "for doc in docs:\n",
    "    doc[\"_index\"] = index_name\n",
    "bulk(client, docs)\n",
    "print(client.cat.count(index_name, params={\"v\": \"true\"}))"
   ]
  },
  {
   "cell_type": "code",
   "execution_count": 103,
   "metadata": {},
   "outputs": [],
   "source": [
    "s = requests.Session()\n",
    "s.auth = auth\n",
    "s.verify = False\n"
   ]
  },
  {
   "cell_type": "code",
   "execution_count": 113,
   "metadata": {},
   "outputs": [
    {
     "data": {
      "text/html": [
       "<div>\n",
       "<style scoped>\n",
       "    .dataframe tbody tr th:only-of-type {\n",
       "        vertical-align: middle;\n",
       "    }\n",
       "\n",
       "    .dataframe tbody tr th {\n",
       "        vertical-align: top;\n",
       "    }\n",
       "\n",
       "    .dataframe thead th {\n",
       "        text-align: right;\n",
       "    }\n",
       "</style>\n",
       "<table border=\"1\" class=\"dataframe\">\n",
       "  <thead>\n",
       "    <tr style=\"text-align: right;\">\n",
       "      <th></th>\n",
       "      <th>id</th>\n",
       "      <th>title</th>\n",
       "      <th>body</th>\n",
       "      <th>price</th>\n",
       "      <th>in_stock</th>\n",
       "      <th>category</th>\n",
       "    </tr>\n",
       "  </thead>\n",
       "  <tbody>\n",
       "    <tr>\n",
       "      <th>0</th>\n",
       "      <td>doc_a</td>\n",
       "      <td>Fox and Hounds</td>\n",
       "      <td>The quick red fox jumped over the lazy brown d...</td>\n",
       "      <td>5.99</td>\n",
       "      <td>True</td>\n",
       "      <td>childrens</td>\n",
       "    </tr>\n",
       "    <tr>\n",
       "      <th>1</th>\n",
       "      <td>doc_b</td>\n",
       "      <td>Fox wins championship</td>\n",
       "      <td>Wearing all red, the Fox jumped out to a lead ...</td>\n",
       "      <td>15.13</td>\n",
       "      <td>True</td>\n",
       "      <td>sports</td>\n",
       "    </tr>\n",
       "    <tr>\n",
       "      <th>2</th>\n",
       "      <td>doc_c</td>\n",
       "      <td>Lead Paint Removal</td>\n",
       "      <td>All lead must be removed from the brown and re...</td>\n",
       "      <td>150.21</td>\n",
       "      <td>False</td>\n",
       "      <td>instructional</td>\n",
       "    </tr>\n",
       "    <tr>\n",
       "      <th>3</th>\n",
       "      <td>doc_d</td>\n",
       "      <td>The Three Little Pigs Revisted</td>\n",
       "      <td>The big, bad wolf huffed and puffed and blew t...</td>\n",
       "      <td>3.51</td>\n",
       "      <td>True</td>\n",
       "      <td>childrens</td>\n",
       "    </tr>\n",
       "  </tbody>\n",
       "</table>\n",
       "</div>"
      ],
      "text/plain": [
       "      id                           title  \\\n",
       "0  doc_a                  Fox and Hounds   \n",
       "1  doc_b           Fox wins championship   \n",
       "2  doc_c              Lead Paint Removal   \n",
       "3  doc_d  The Three Little Pigs Revisted   \n",
       "\n",
       "                                                body   price  in_stock  \\\n",
       "0  The quick red fox jumped over the lazy brown d...    5.99      True   \n",
       "1  Wearing all red, the Fox jumped out to a lead ...   15.13      True   \n",
       "2  All lead must be removed from the brown and re...  150.21     False   \n",
       "3  The big, bad wolf huffed and puffed and blew t...    3.51      True   \n",
       "\n",
       "        category  \n",
       "0      childrens  \n",
       "1         sports  \n",
       "2  instructional  \n",
       "3      childrens  "
      ]
     },
     "execution_count": 113,
     "metadata": {},
     "output_type": "execute_result"
    }
   ],
   "source": [
    "def get_all_documents(index_name):\n",
    "    response = s.get(f\"https://localhost:9200/{index_name}/_search?q=body:*\")\n",
    "    return pd.DataFrame([x['_source'] for x in response.json()['hits']['hits']])\n",
    "\n",
    "get_all_documents('search_fun_revisited_custom_mappings')"
   ]
  },
  {
   "cell_type": "code",
   "execution_count": 123,
   "metadata": {},
   "outputs": [
    {
     "name": "stdout",
     "output_type": "stream",
     "text": [
      "{\n",
      "  \"properties\": {\n",
      "    \"body\": {\n",
      "      \"type\": \"text\",\n",
      "      \"analyzer\": \"english\"\n",
      "    },\n",
      "    \"category\": {\n",
      "      \"type\": \"keyword\",\n",
      "      \"ignore_above\": 256\n",
      "    },\n",
      "    \"id\": {\n",
      "      \"type\": \"text\",\n",
      "      \"fields\": {\n",
      "        \"keyword\": {\n",
      "          \"type\": \"keyword\",\n",
      "          \"ignore_above\": 256\n",
      "        }\n",
      "      }\n",
      "    },\n",
      "    \"in_stock\": {\n",
      "      \"type\": \"boolean\"\n",
      "    },\n",
      "    \"price\": {\n",
      "      \"type\": \"float\"\n",
      "    },\n",
      "    \"title\": {\n",
      "      \"type\": \"text\",\n",
      "      \"analyzer\": \"english\"\n",
      "    }\n",
      "  }\n",
      "}\n"
     ]
    }
   ],
   "source": [
    "index_name = 'search_fun_revisited_custom_mappings'\n",
    "response = s.get(f\"https://localhost:9200/{index_name}\")\n",
    "print_json(response.json()[index_name]['mappings'])"
   ]
  },
  {
   "cell_type": "code",
   "execution_count": 96,
   "metadata": {},
   "outputs": [
    {
     "name": "stdout",
     "output_type": "stream",
     "text": [
      "\u001b[1;39m{\n",
      "  \u001b[0m\u001b[34;1m\"search_fun_revisited\"\u001b[0m\u001b[1;39m: \u001b[0m\u001b[1;39m{\n",
      "    \u001b[0m\u001b[34;1m\"aliases\"\u001b[0m\u001b[1;39m: \u001b[0m\u001b[1;39m{}\u001b[0m\u001b[1;39m,\n",
      "    \u001b[0m\u001b[34;1m\"mappings\"\u001b[0m\u001b[1;39m: \u001b[0m\u001b[1;39m{\n",
      "      \u001b[0m\u001b[34;1m\"properties\"\u001b[0m\u001b[1;39m: \u001b[0m\u001b[1;39m{\n",
      "        \u001b[0m\u001b[34;1m\"body\"\u001b[0m\u001b[1;39m: \u001b[0m\u001b[1;39m{\n",
      "          \u001b[0m\u001b[34;1m\"type\"\u001b[0m\u001b[1;39m: \u001b[0m\u001b[0;32m\"text\"\u001b[0m\u001b[1;39m,\n",
      "          \u001b[0m\u001b[34;1m\"fields\"\u001b[0m\u001b[1;39m: \u001b[0m\u001b[1;39m{\n",
      "            \u001b[0m\u001b[34;1m\"keyword\"\u001b[0m\u001b[1;39m: \u001b[0m\u001b[1;39m{\n",
      "              \u001b[0m\u001b[34;1m\"type\"\u001b[0m\u001b[1;39m: \u001b[0m\u001b[0;32m\"keyword\"\u001b[0m\u001b[1;39m,\n",
      "              \u001b[0m\u001b[34;1m\"ignore_above\"\u001b[0m\u001b[1;39m: \u001b[0m\u001b[0;39m256\u001b[0m\u001b[1;39m\n",
      "            \u001b[1;39m}\u001b[0m\u001b[1;39m\n",
      "          \u001b[1;39m}\u001b[0m\u001b[1;39m\n",
      "        \u001b[1;39m}\u001b[0m\u001b[1;39m,\n",
      "        \u001b[0m\u001b[34;1m\"category\"\u001b[0m\u001b[1;39m: \u001b[0m\u001b[1;39m{\n",
      "          \u001b[0m\u001b[34;1m\"type\"\u001b[0m\u001b[1;39m: \u001b[0m\u001b[0;32m\"text\"\u001b[0m\u001b[1;39m,\n",
      "          \u001b[0m\u001b[34;1m\"fields\"\u001b[0m\u001b[1;39m: \u001b[0m\u001b[1;39m{\n",
      "            \u001b[0m\u001b[34;1m\"keyword\"\u001b[0m\u001b[1;39m: \u001b[0m\u001b[1;39m{\n",
      "              \u001b[0m\u001b[34;1m\"type\"\u001b[0m\u001b[1;39m: \u001b[0m\u001b[0;32m\"keyword\"\u001b[0m\u001b[1;39m,\n",
      "              \u001b[0m\u001b[34;1m\"ignore_above\"\u001b[0m\u001b[1;39m: \u001b[0m\u001b[0;39m256\u001b[0m\u001b[1;39m\n",
      "            \u001b[1;39m}\u001b[0m\u001b[1;39m\n",
      "          \u001b[1;39m}\u001b[0m\u001b[1;39m\n",
      "        \u001b[1;39m}\u001b[0m\u001b[1;39m,\n",
      "        \u001b[0m\u001b[34;1m\"id\"\u001b[0m\u001b[1;39m: \u001b[0m\u001b[1;39m{\n",
      "          \u001b[0m\u001b[34;1m\"type\"\u001b[0m\u001b[1;39m: \u001b[0m\u001b[0;32m\"text\"\u001b[0m\u001b[1;39m,\n",
      "          \u001b[0m\u001b[34;1m\"fields\"\u001b[0m\u001b[1;39m: \u001b[0m\u001b[1;39m{\n",
      "            \u001b[0m\u001b[34;1m\"keyword\"\u001b[0m\u001b[1;39m: \u001b[0m\u001b[1;39m{\n",
      "              \u001b[0m\u001b[34;1m\"type\"\u001b[0m\u001b[1;39m: \u001b[0m\u001b[0;32m\"keyword\"\u001b[0m\u001b[1;39m,\n",
      "              \u001b[0m\u001b[34;1m\"ignore_above\"\u001b[0m\u001b[1;39m: \u001b[0m\u001b[0;39m256\u001b[0m\u001b[1;39m\n",
      "            \u001b[1;39m}\u001b[0m\u001b[1;39m\n",
      "          \u001b[1;39m}\u001b[0m\u001b[1;39m\n",
      "        \u001b[1;39m}\u001b[0m\u001b[1;39m,\n",
      "        \u001b[0m\u001b[34;1m\"in_stock\"\u001b[0m\u001b[1;39m: \u001b[0m\u001b[1;39m{\n",
      "          \u001b[0m\u001b[34;1m\"type\"\u001b[0m\u001b[1;39m: \u001b[0m\u001b[0;32m\"boolean\"\u001b[0m\u001b[1;39m\n",
      "        \u001b[1;39m}\u001b[0m\u001b[1;39m,\n",
      "        \u001b[0m\u001b[34;1m\"price\"\u001b[0m\u001b[1;39m: \u001b[0m\u001b[1;39m{\n",
      "          \u001b[0m\u001b[34;1m\"type\"\u001b[0m\u001b[1;39m: \u001b[0m\u001b[0;32m\"text\"\u001b[0m\u001b[1;39m,\n",
      "          \u001b[0m\u001b[34;1m\"fields\"\u001b[0m\u001b[1;39m: \u001b[0m\u001b[1;39m{\n",
      "            \u001b[0m\u001b[34;1m\"keyword\"\u001b[0m\u001b[1;39m: \u001b[0m\u001b[1;39m{\n",
      "              \u001b[0m\u001b[34;1m\"type\"\u001b[0m\u001b[1;39m: \u001b[0m\u001b[0;32m\"keyword\"\u001b[0m\u001b[1;39m,\n",
      "              \u001b[0m\u001b[34;1m\"ignore_above\"\u001b[0m\u001b[1;39m: \u001b[0m\u001b[0;39m256\u001b[0m\u001b[1;39m\n",
      "            \u001b[1;39m}\u001b[0m\u001b[1;39m\n",
      "          \u001b[1;39m}\u001b[0m\u001b[1;39m\n",
      "        \u001b[1;39m}\u001b[0m\u001b[1;39m,\n",
      "        \u001b[0m\u001b[34;1m\"title\"\u001b[0m\u001b[1;39m: \u001b[0m\u001b[1;39m{\n",
      "          \u001b[0m\u001b[34;1m\"type\"\u001b[0m\u001b[1;39m: \u001b[0m\u001b[0;32m\"text\"\u001b[0m\u001b[1;39m,\n",
      "          \u001b[0m\u001b[34;1m\"fields\"\u001b[0m\u001b[1;39m: \u001b[0m\u001b[1;39m{\n",
      "            \u001b[0m\u001b[34;1m\"keyword\"\u001b[0m\u001b[1;39m: \u001b[0m\u001b[1;39m{\n",
      "              \u001b[0m\u001b[34;1m\"type\"\u001b[0m\u001b[1;39m: \u001b[0m\u001b[0;32m\"keyword\"\u001b[0m\u001b[1;39m,\n",
      "              \u001b[0m\u001b[34;1m\"ignore_above\"\u001b[0m\u001b[1;39m: \u001b[0m\u001b[0;39m256\u001b[0m\u001b[1;39m\n",
      "            \u001b[1;39m}\u001b[0m\u001b[1;39m\n",
      "          \u001b[1;39m}\u001b[0m\u001b[1;39m\n",
      "        \u001b[1;39m}\u001b[0m\u001b[1;39m\n",
      "      \u001b[1;39m}\u001b[0m\u001b[1;39m\n",
      "    \u001b[1;39m}\u001b[0m\u001b[1;39m,\n",
      "    \u001b[0m\u001b[34;1m\"settings\"\u001b[0m\u001b[1;39m: \u001b[0m\u001b[1;39m{\n",
      "      \u001b[0m\u001b[34;1m\"index\"\u001b[0m\u001b[1;39m: \u001b[0m\u001b[1;39m{\n",
      "        \u001b[0m\u001b[34;1m\"replication\"\u001b[0m\u001b[1;39m: \u001b[0m\u001b[1;39m{\n",
      "          \u001b[0m\u001b[34;1m\"type\"\u001b[0m\u001b[1;39m: \u001b[0m\u001b[0;32m\"DOCUMENT\"\u001b[0m\u001b[1;39m\n",
      "        \u001b[1;39m}\u001b[0m\u001b[1;39m,\n",
      "        \u001b[0m\u001b[34;1m\"number_of_shards\"\u001b[0m\u001b[1;39m: \u001b[0m\u001b[0;32m\"1\"\u001b[0m\u001b[1;39m,\n",
      "        \u001b[0m\u001b[34;1m\"provided_name\"\u001b[0m\u001b[1;39m: \u001b[0m\u001b[0;32m\"search_fun_revisited\"\u001b[0m\u001b[1;39m,\n",
      "        \u001b[0m\u001b[34;1m\"query\"\u001b[0m\u001b[1;39m: \u001b[0m\u001b[1;39m{\n",
      "          \u001b[0m\u001b[34;1m\"default_field\"\u001b[0m\u001b[1;39m: \u001b[0m\u001b[0;32m\"body\"\u001b[0m\u001b[1;39m\n",
      "        \u001b[1;39m}\u001b[0m\u001b[1;39m,\n",
      "        \u001b[0m\u001b[34;1m\"creation_date\"\u001b[0m\u001b[1;39m: \u001b[0m\u001b[0;32m\"1695622174211\"\u001b[0m\u001b[1;39m,\n",
      "        \u001b[0m\u001b[34;1m\"number_of_replicas\"\u001b[0m\u001b[1;39m: \u001b[0m\u001b[0;32m\"1\"\u001b[0m\u001b[1;39m,\n",
      "        \u001b[0m\u001b[34;1m\"uuid\"\u001b[0m\u001b[1;39m: \u001b[0m\u001b[0;32m\"jvtF2k2AQlahiEeJLi78xw\"\u001b[0m\u001b[1;39m,\n",
      "        \u001b[0m\u001b[34;1m\"version\"\u001b[0m\u001b[1;39m: \u001b[0m\u001b[1;39m{\n",
      "          \u001b[0m\u001b[34;1m\"created\"\u001b[0m\u001b[1;39m: \u001b[0m\u001b[0;32m\"136307827\"\u001b[0m\u001b[1;39m\n",
      "        \u001b[1;39m}\u001b[0m\u001b[1;39m\n",
      "      \u001b[1;39m}\u001b[0m\u001b[1;39m\n",
      "    \u001b[1;39m}\u001b[0m\u001b[1;39m\n",
      "  \u001b[1;39m}\u001b[0m\u001b[1;39m\n",
      "\u001b[1;39m}\u001b[0m\n"
     ]
    }
   ],
   "source": [
    "!curl -s -XGET \"https://localhost:9200/search_fun_revisited\" -u admin:admin --insecure | jq"
   ]
  },
  {
   "cell_type": "code",
   "execution_count": null,
   "metadata": {},
   "outputs": [],
   "source": []
  }
 ],
 "metadata": {
  "kernelspec": {
   "display_name": "search_fundamentals",
   "language": "python",
   "name": "python3"
  },
  "language_info": {
   "codemirror_mode": {
    "name": "ipython",
    "version": 3
   },
   "file_extension": ".py",
   "mimetype": "text/x-python",
   "name": "python",
   "nbconvert_exporter": "python",
   "pygments_lexer": "ipython3",
   "version": "3.9.7"
  },
  "orig_nbformat": 4
 },
 "nbformat": 4,
 "nbformat_minor": 2
}
