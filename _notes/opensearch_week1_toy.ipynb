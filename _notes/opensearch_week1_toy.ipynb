{
 "cells": [
  {
   "cell_type": "markdown",
   "metadata": {},
   "source": [
    "## Connect"
   ]
  },
  {
   "cell_type": "code",
   "execution_count": 1,
   "metadata": {},
   "outputs": [
    {
     "name": "stdout",
     "output_type": "stream",
     "text": [
      "1695832708 16:38:28 docker-cluster yellow 1 1 true 18 18 0 0 13 0 - 58.1%\n",
      "\n",
      "yellow open search_fun_bulk                           tnCiHcNhQ1GTeeQ6HeNYUw 1 1     4   0   8.7kb   8.7kb\n",
      "yellow open test-index-to-delete-1                    8WkNqdj_Ra-kOzeVgBNSRw 1 1  6000 500   2.2mb   2.2mb\n",
      "green  open .kibana_92668751_admin_1                  bruHV_IvRymvc8IduVDd_Q 1 0     1   0   5.1kb   5.1kb\n",
      "yellow open security-auditlog-2023.09.24              BxumpqiRREiQ_i137LxLWg 1 1   236   0 424.4kb 424.4kb\n",
      "yellow open search_fun_revisited_custom_mappings      brgsBN-CTMOGO21mF476pA 1 1     4   0  21.1kb  21.1kb\n",
      "green  open .kibana_1                                 fVVE40BkSEqQvTlA5A1Tng 1 0    61   0    37kb    37kb\n",
      "green  open .opendistro_security                      88369CGsQ3CShUM32lIe4w 1 0    10   0  75.6kb  75.6kb\n",
      "yellow open movies                                    GDknLevWRUmTtoQu-LzgKg 1 1  5000   0  11.2mb  11.2mb\n",
      "yellow open .plugins-ml-config                        gpaVzMC9Rm-ixr8sC2AMOA 1 1     1   0   3.9kb   3.9kb\n",
      "green  open .opensearch-observability                 Bfrp1mOqQYanRKHFWrbByA 1 0     0   0    208b    208b\n",
      "yellow open movies_bulk                               uIgTKAjKTb2K9_-_mJIGrw 1 1  5000   0  13.8mb  13.8mb\n",
      "green  open opensearch_dashboards_sample_data_flights 3ipTpd0SSQ-xhjnIQiaIdQ 1 0 13059   0   5.8mb   5.8mb\n",
      "yellow open security-auditlog-2023.09.25              5yRxazGtSLCO27qd6rW9Cw 1 1   421   0 654.6kb 654.6kb\n",
      "yellow open security-auditlog-2023.09.26              hAG1_R4NRs2HVuEdr3B6Rg 1 1     8   0 128.6kb 128.6kb\n",
      "yellow open security-auditlog-2023.09.27              SHMroALqQLayyLW3dIGpJw 1 1   394   0 593.2kb 593.2kb\n",
      "yellow open search_fun_test                           aPRLpy-eRzG185DHcTQLhg 1 1     4   0   6.9kb   6.9kb\n",
      "\n"
     ]
    }
   ],
   "source": [
    "from opensearchpy import OpenSearch\n",
    "\n",
    "host = 'localhost'\n",
    "port = 9200\n",
    "auth = ('admin', 'admin')  # For testing only. Don't store credentials in code.\n",
    "\n",
    "# Create the client with SSL/TLS enabled, but hostname and certificate verification disabled.\n",
    "client = OpenSearch(\n",
    "    hosts=[{'host': host, 'port': port}],\n",
    "    http_compress=True,  # enables gzip compression for request bodies\n",
    "    http_auth=auth,\n",
    "    # client_cert = client_cert_path,\n",
    "    # client_key = client_key_path,\n",
    "    use_ssl=True,\n",
    "    verify_certs=False,\n",
    "    ssl_assert_hostname=False,\n",
    "    ssl_show_warn=False,\n",
    ")\n",
    "\n",
    "# Do a few checks before we start indexing:\n",
    "print(client.cat.health())\n",
    "print(client.cat.indices())"
   ]
  },
  {
   "cell_type": "markdown",
   "metadata": {},
   "source": [
    "Here is a list of OpenSearchpy methods on `client.cat`\n",
    "\n",
    "| Method                              | Description                                      |\n",
    "|-------------------------------------|--------------------------------------------------|\n",
    "| `client.cat.aliases()`              | List aliases.                                    |\n",
    "| `client.cat.allocation()`           | Show shard allocation on nodes.                 |\n",
    "| `client.cat.count()`                | Display the count of documents in an index.    |\n",
    "| `client.cat.fielddata()`            | List field data statistics.                     |\n",
    "| `client.cat.health()`               | Display cluster health.                         |\n",
    "| `client.cat.indices()`              | List indices.                                   |\n",
    "| `client.cat.master()`               | Show the master node.                           |\n",
    "| `client.cat.nodes()`                | List nodes in the cluster.                     |\n",
    "| `client.cat.pending_tasks()`        | List cluster pending tasks.                    |\n",
    "| `client.cat.plugins()`              | List installed plugins.                         |\n",
    "| `client.cat.recovery()`             | Display shard recovery information.             |\n",
    "| `client.cat.repositories()`          | List registered snapshot repositories.          |\n",
    "| `client.cat.segments()`             | List segments in indices.                      |\n",
    "| `client.cat.shards()`               | List shard information.                         |\n",
    "| `client.cat.snapshots()`            | List snapshots.                                 |\n",
    "| `client.cat.templates()`            | List index templates.                           |\n",
    "| `client.cat.thread_pool()`          | Display thread pool statistics.                |"
   ]
  },
  {
   "cell_type": "code",
   "execution_count": 2,
   "metadata": {},
   "outputs": [
    {
     "name": "stdout",
     "output_type": "stream",
     "text": [
      "epoch      timestamp count\n",
      "1695831914 16:25:14  4\n",
      "\n"
     ]
    }
   ],
   "source": [
    "# If you still have your documents from the Dev Tools test, we should be able to check them here:\n",
    "try:\n",
    "    print(client.cat.count(\"search_fun_test\", params={\"v\": \"true\"}))\n",
    "except:\n",
    "    print(\"search_fun_test doesn't exist, that's OK\")"
   ]
  },
  {
   "cell_type": "markdown",
   "metadata": {},
   "source": [
    "## Create Index"
   ]
  },
  {
   "cell_type": "code",
   "execution_count": 3,
   "metadata": {},
   "outputs": [
    {
     "data": {
      "text/plain": [
       "{'acknowledged': True,\n",
       " 'shards_acknowledged': True,\n",
       " 'index': 'search_fun_revisited'}"
      ]
     },
     "execution_count": 3,
     "metadata": {},
     "output_type": "execute_result"
    }
   ],
   "source": [
    "# %pip install pyyaml\n",
    "import yaml\n",
    "# Create an index with non-default settings.\n",
    "# client.indices.delete(\"search_fun_revisited\")\n",
    "index_name = 'search_fun_revisited'\n",
    "index_body = yaml.safe_load(\"\"\"\n",
    "settings:\n",
    "  index:\n",
    "    query:\n",
    "      default_field: body\n",
    "\"\"\")\n",
    "client.indices.create(index_name, body=index_body)"
   ]
  },
  {
   "cell_type": "code",
   "execution_count": 4,
   "metadata": {},
   "outputs": [
    {
     "data": {
      "text/html": [
       "<div>\n",
       "<style scoped>\n",
       "    .dataframe tbody tr th:only-of-type {\n",
       "        vertical-align: middle;\n",
       "    }\n",
       "\n",
       "    .dataframe tbody tr th {\n",
       "        vertical-align: top;\n",
       "    }\n",
       "\n",
       "    .dataframe thead th {\n",
       "        text-align: right;\n",
       "    }\n",
       "</style>\n",
       "<table border=\"1\" class=\"dataframe\">\n",
       "  <thead>\n",
       "    <tr style=\"text-align: right;\">\n",
       "      <th></th>\n",
       "      <th>id</th>\n",
       "      <th>title</th>\n",
       "      <th>body</th>\n",
       "      <th>price</th>\n",
       "      <th>in_stock</th>\n",
       "      <th>category</th>\n",
       "    </tr>\n",
       "  </thead>\n",
       "  <tbody>\n",
       "    <tr>\n",
       "      <th>0</th>\n",
       "      <td>doc_a</td>\n",
       "      <td>Fox and Hounds</td>\n",
       "      <td>The quick red fox jumped over the lazy brown d...</td>\n",
       "      <td>5.99</td>\n",
       "      <td>True</td>\n",
       "      <td>childrens</td>\n",
       "    </tr>\n",
       "    <tr>\n",
       "      <th>1</th>\n",
       "      <td>doc_b</td>\n",
       "      <td>Fox wins championship</td>\n",
       "      <td>Wearing all red, the Fox jumped out to a lead ...</td>\n",
       "      <td>15.13</td>\n",
       "      <td>True</td>\n",
       "      <td>sports</td>\n",
       "    </tr>\n",
       "    <tr>\n",
       "      <th>2</th>\n",
       "      <td>doc_c</td>\n",
       "      <td>Lead Paint Removal</td>\n",
       "      <td>All lead must be removed from the brown and re...</td>\n",
       "      <td>150.21</td>\n",
       "      <td>False</td>\n",
       "      <td>instructional</td>\n",
       "    </tr>\n",
       "    <tr>\n",
       "      <th>3</th>\n",
       "      <td>doc_d</td>\n",
       "      <td>The Three Little Pigs Revisted</td>\n",
       "      <td>The big, bad wolf huffed and puffed and blew t...</td>\n",
       "      <td>3.51</td>\n",
       "      <td>True</td>\n",
       "      <td>childrens</td>\n",
       "    </tr>\n",
       "  </tbody>\n",
       "</table>\n",
       "</div>"
      ],
      "text/plain": [
       "      id                           title  \\\n",
       "0  doc_a                  Fox and Hounds   \n",
       "1  doc_b           Fox wins championship   \n",
       "2  doc_c              Lead Paint Removal   \n",
       "3  doc_d  The Three Little Pigs Revisted   \n",
       "\n",
       "                                                body   price  in_stock  \\\n",
       "0  The quick red fox jumped over the lazy brown d...    5.99      True   \n",
       "1  Wearing all red, the Fox jumped out to a lead ...   15.13      True   \n",
       "2  All lead must be removed from the brown and re...  150.21     False   \n",
       "3  The big, bad wolf huffed and puffed and blew t...    3.51      True   \n",
       "\n",
       "        category  \n",
       "0      childrens  \n",
       "1         sports  \n",
       "2  instructional  \n",
       "3      childrens  "
      ]
     },
     "execution_count": 4,
     "metadata": {},
     "output_type": "execute_result"
    }
   ],
   "source": [
    "import pandas as pd\n",
    "# Add our sample document to the index.\n",
    "docs = [\n",
    "    {\n",
    "        \"id\": \"doc_a\",\n",
    "        \"title\": \"Fox and Hounds\",\n",
    "        \"body\": \"The quick red fox jumped over the lazy brown dogs.\",\n",
    "        \"price\": \"5.99\",\n",
    "        \"in_stock\": True,\n",
    "        \"category\": \"childrens\"},\n",
    "    {\n",
    "        \"id\": \"doc_b\",\n",
    "        \"title\": \"Fox wins championship\",\n",
    "        \"body\": \"Wearing all red, the Fox jumped out to a lead in the race over the Dog.\",\n",
    "        \"price\": \"15.13\",\n",
    "        \"in_stock\": True,\n",
    "        \"category\": \"sports\"},\n",
    "    {\n",
    "        \"id\": \"doc_c\",\n",
    "        \"title\": \"Lead Paint Removal\",\n",
    "        \"body\": \"All lead must be removed from the brown and red paint.\",\n",
    "        \"price\": \"150.21\",\n",
    "        \"in_stock\": False,\n",
    "        \"category\": \"instructional\"},\n",
    "    {\n",
    "        \"id\": \"doc_d\",\n",
    "        \"title\": \"The Three Little Pigs Revisted\",\n",
    "        \"price\": \"3.51\",\n",
    "        \"in_stock\": True,\n",
    "        \"body\": \"The big, bad wolf huffed and puffed and blew the house down. The end.\",\n",
    "        \"category\": \"childrens\"}\n",
    "]\n",
    "pd.DataFrame(docs)"
   ]
  },
  {
   "cell_type": "markdown",
   "metadata": {},
   "source": [
    "## Add Documents"
   ]
  },
  {
   "cell_type": "code",
   "execution_count": null,
   "metadata": {},
   "outputs": [],
   "source": [
    "def index_docs(docs: list, index_name: str, id_col: str = 'id'):\n",
    "    for doc in docs:\n",
    "        print(f\"Indexing {doc[id_col]}\")\n",
    "        response = client.index(\n",
    "            index = index_name, \n",
    "            body = doc, \n",
    "            id = doc[id_col], \n",
    "            refresh = True\n",
    "        )\n",
    "        print(response)"
   ]
  },
  {
   "cell_type": "code",
   "execution_count": 5,
   "metadata": {},
   "outputs": [
    {
     "name": "stdout",
     "output_type": "stream",
     "text": [
      "Indexing doc_a\n",
      "Indexing doc_b\n",
      "Indexing doc_c\n",
      "Indexing doc_d\n",
      "epoch      timestamp count\n",
      "1695832740 16:39:00  4\n",
      "\n"
     ]
    }
   ],
   "source": [
    "index_docs(docs, index_name)\n",
    "\n",
    "# Verify they are in:\n",
    "print(client.cat.count(index_name, params={\"v\": \"true\"}))"
   ]
  },
  {
   "cell_type": "code",
   "execution_count": 7,
   "metadata": {},
   "outputs": [
    {
     "data": {
      "text/plain": [
       "{'search_fun_revisited': {'mappings': {'properties': {'body': {'type': 'text',\n",
       "     'fields': {'keyword': {'type': 'keyword', 'ignore_above': 256}}},\n",
       "    'category': {'type': 'text',\n",
       "     'fields': {'keyword': {'type': 'keyword', 'ignore_above': 256}}},\n",
       "    'id': {'type': 'text',\n",
       "     'fields': {'keyword': {'type': 'keyword', 'ignore_above': 256}}},\n",
       "    'in_stock': {'type': 'boolean'},\n",
       "    'price': {'type': 'text',\n",
       "     'fields': {'keyword': {'type': 'keyword', 'ignore_above': 256}}},\n",
       "    'title': {'type': 'text',\n",
       "     'fields': {'keyword': {'type': 'keyword', 'ignore_above': 256}}}}}}}"
      ]
     },
     "execution_count": 7,
     "metadata": {},
     "output_type": "execute_result"
    }
   ],
   "source": [
    "# Get the index mappings\n",
    "client.indices.get_mapping(index_name)"
   ]
  },
  {
   "cell_type": "markdown",
   "metadata": {},
   "source": [
    "## Index > Mappings"
   ]
  },
  {
   "cell_type": "code",
   "execution_count": 10,
   "metadata": {},
   "outputs": [
    {
     "data": {
      "text/plain": [
       "{'acknowledged': True,\n",
       " 'shards_acknowledged': True,\n",
       " 'index': 'search_fun_revisited_custom_mappings'}"
      ]
     },
     "execution_count": 10,
     "metadata": {},
     "output_type": "execute_result"
    }
   ],
   "source": [
    "# Create a new index, this time with different mappings\n",
    "index_name = 'search_fun_revisited_custom_mappings'\n",
    "# client.indices.delete(index_name)\n",
    "index_body = yaml.safe_load(\"\"\"\n",
    "settings:\n",
    "  index:\n",
    "    query:\n",
    "      default_field: body\n",
    "mappings:\n",
    "  properties:\n",
    "    title: \n",
    "      type: text\n",
    "      analyzer: english\n",
    "    body: \n",
    "      type: text \n",
    "      analyzer: english\n",
    "    in_stock:\n",
    "      type: boolean\n",
    "    category: \n",
    "      type: keyword\n",
    "      ignore_above: 256}\n",
    "    price: \n",
    "      type: float\n",
    "\"\"\")\n",
    "client.indices.create(index_name, body=index_body)"
   ]
  },
  {
   "cell_type": "code",
   "execution_count": 11,
   "metadata": {},
   "outputs": [
    {
     "name": "stdout",
     "output_type": "stream",
     "text": [
      "Indexing doc_a\n",
      "\n",
      "\tResponse:\n",
      "{'_index': 'search_fun_revisited_custom_mappings', '_id': 'doc_a', '_version': 1, 'result': 'created', 'forced_refresh': True, '_shards': {'total': 2, 'successful': 1, 'failed': 0}, '_seq_no': 0, '_primary_term': 1}\n",
      "Indexing doc_b\n",
      "\n",
      "\tResponse:\n",
      "{'_index': 'search_fun_revisited_custom_mappings', '_id': 'doc_b', '_version': 1, 'result': 'created', 'forced_refresh': True, '_shards': {'total': 2, 'successful': 1, 'failed': 0}, '_seq_no': 1, '_primary_term': 1}\n",
      "Indexing doc_c\n",
      "\n",
      "\tResponse:\n",
      "{'_index': 'search_fun_revisited_custom_mappings', '_id': 'doc_c', '_version': 1, 'result': 'created', 'forced_refresh': True, '_shards': {'total': 2, 'successful': 1, 'failed': 0}, '_seq_no': 2, '_primary_term': 1}\n",
      "Indexing doc_d\n",
      "\n",
      "\tResponse:\n",
      "{'_index': 'search_fun_revisited_custom_mappings', '_id': 'doc_d', '_version': 1, 'result': 'created', 'forced_refresh': True, '_shards': {'total': 2, 'successful': 1, 'failed': 0}, '_seq_no': 3, '_primary_term': 1}\n"
     ]
    }
   ],
   "source": [
    "index_docs(docs, index_name)"
   ]
  },
  {
   "cell_type": "markdown",
   "metadata": {},
   "source": [
    "## Search"
   ]
  },
  {
   "cell_type": "code",
   "execution_count": 12,
   "metadata": {},
   "outputs": [
    {
     "data": {
      "text/plain": [
       "{'took': 2,\n",
       " 'timed_out': False,\n",
       " '_shards': {'total': 1, 'successful': 1, 'skipped': 0, 'failed': 0},\n",
       " 'hits': {'total': {'value': 2, 'relation': 'eq'},\n",
       "  'max_score': 0.71833557,\n",
       "  'hits': [{'_index': 'search_fun_revisited_custom_mappings',\n",
       "    '_id': 'doc_a',\n",
       "    '_score': 0.71833557,\n",
       "    '_source': {'id': 'doc_a',\n",
       "     'title': 'Fox and Hounds',\n",
       "     'body': 'The quick red fox jumped over the lazy brown dogs.',\n",
       "     'price': '5.99',\n",
       "     'in_stock': True,\n",
       "     'category': 'childrens'}},\n",
       "   {'_index': 'search_fun_revisited_custom_mappings',\n",
       "    '_id': 'doc_b',\n",
       "    '_score': 0.6548753,\n",
       "    '_source': {'id': 'doc_b',\n",
       "     'title': 'Fox wins championship',\n",
       "     'body': 'Wearing all red, the Fox jumped out to a lead in the race over the Dog.',\n",
       "     'price': '15.13',\n",
       "     'in_stock': True,\n",
       "     'category': 'sports'}}]}}"
      ]
     },
     "execution_count": 12,
     "metadata": {},
     "output_type": "execute_result"
    }
   ],
   "source": [
    "# Do some searches\n",
    "q = 'dogs'\n",
    "query = yaml.safe_load(f\"\"\"\n",
    "size: 5\n",
    "query:\n",
    "  multi_match:\n",
    "    query: {q}\n",
    "    fields: ['title^2', 'body']\n",
    "\"\"\")\n",
    "\n",
    "client.search(\n",
    "  body = query, \n",
    "  index = index_name\n",
    ")"
   ]
  },
  {
   "cell_type": "code",
   "execution_count": 16,
   "metadata": {},
   "outputs": [
    {
     "data": {
      "text/plain": [
       "{'took': 2,\n",
       " 'timed_out': False,\n",
       " '_shards': {'total': 1, 'successful': 1, 'skipped': 0, 'failed': 0},\n",
       " 'hits': {'total': {'value': 0, 'relation': 'eq'},\n",
       "  'max_score': None,\n",
       "  'hits': []}}"
      ]
     },
     "execution_count": 16,
     "metadata": {},
     "output_type": "execute_result"
    }
   ],
   "source": [
    "# try a phrase query\n",
    "q = 'fox dog'\n",
    "query = yaml.safe_load(f\"\"\"\n",
    "size: 5\n",
    "query:\n",
    "  match_phrase:\n",
    "    body:\n",
    "      query: {q}\n",
    "\"\"\")\n",
    "\n",
    "client.search(\n",
    "  body = query,\n",
    "  index = index_name\n",
    ")"
   ]
  },
  {
   "cell_type": "code",
   "execution_count": 17,
   "metadata": {},
   "outputs": [
    {
     "data": {
      "text/plain": [
       "{'took': 2,\n",
       " 'timed_out': False,\n",
       " '_shards': {'total': 1, 'successful': 1, 'skipped': 0, 'failed': 0},\n",
       " 'hits': {'total': {'value': 2, 'relation': 'eq'},\n",
       "  'max_score': 0.39418244,\n",
       "  'hits': [{'_index': 'search_fun_revisited_custom_mappings',\n",
       "    '_id': 'doc_a',\n",
       "    '_score': 0.39418244,\n",
       "    '_source': {'id': 'doc_a',\n",
       "     'title': 'Fox and Hounds',\n",
       "     'body': 'The quick red fox jumped over the lazy brown dogs.',\n",
       "     'price': '5.99',\n",
       "     'in_stock': True,\n",
       "     'category': 'childrens'}},\n",
       "   {'_index': 'search_fun_revisited_custom_mappings',\n",
       "    '_id': 'doc_b',\n",
       "    '_score': 0.19532394,\n",
       "    '_source': {'id': 'doc_b',\n",
       "     'title': 'Fox wins championship',\n",
       "     'body': 'Wearing all red, the Fox jumped out to a lead in the race over the Dog.',\n",
       "     'price': '15.13',\n",
       "     'in_stock': True,\n",
       "     'category': 'sports'}}]}}"
      ]
     },
     "execution_count": 17,
     "metadata": {},
     "output_type": "execute_result"
    }
   ],
   "source": [
    "# try a phrase query with slop\n",
    "q = 'fox dog'\n",
    "query = yaml.safe_load(f\"\"\"\n",
    "size: 5\n",
    "query:\n",
    "  match_phrase:\n",
    "    body:\n",
    "      query: {q}\n",
    "      slop: 10\n",
    "\"\"\")\n",
    "\n",
    "client.search(\n",
    "    body=query,\n",
    "    index=index_name\n",
    ")"
   ]
  },
  {
   "cell_type": "markdown",
   "metadata": {},
   "source": []
  },
  {
   "cell_type": "code",
   "execution_count": 16,
   "metadata": {},
   "outputs": [
    {
     "data": {
      "text/plain": [
       "{'took': 16,\n",
       " 'timed_out': False,\n",
       " '_shards': {'total': 1, 'successful': 1, 'skipped': 0, 'failed': 0},\n",
       " 'hits': {'total': {'value': 2, 'relation': 'eq'},\n",
       "  'max_score': 5.99,\n",
       "  'hits': [{'_index': 'search_fun_revisited_custom_mappings',\n",
       "    '_id': 'doc_a',\n",
       "    '_score': 5.99,\n",
       "    '_source': {'id': 'doc_a',\n",
       "     'title': 'Fox and Hounds',\n",
       "     'body': 'The quick red fox jumped over the lazy brown dogs.',\n",
       "     'price': '5.99',\n",
       "     'in_stock': True,\n",
       "     'category': 'childrens'}},\n",
       "   {'_index': 'search_fun_revisited_custom_mappings',\n",
       "    '_id': 'doc_d',\n",
       "    '_score': 3.51,\n",
       "    '_source': {'id': 'doc_d',\n",
       "     'title': 'The Three Little Pigs Revisted',\n",
       "     'price': '3.51',\n",
       "     'in_stock': True,\n",
       "     'body': 'The big, bad wolf huffed and puffed and blew the house down. The end.',\n",
       "     'category': 'childrens'}}]}}"
      ]
     },
     "execution_count": 16,
     "metadata": {},
     "output_type": "execute_result"
    }
   ],
   "source": [
    "# try a match all query with a filter and a price factor\n",
    "query = yaml.safe_load(\"\"\"\n",
    "size: 5\n",
    "query:\n",
    "  function_score:\n",
    "    query:\n",
    "      bool:\n",
    "        must:\n",
    "          match_all:\n",
    "        filter:\n",
    "          term:\n",
    "            category: childrens\n",
    "    field_value_factor:\n",
    "        field: price\n",
    "        missing: 1                      \n",
    "\"\"\")\n",
    "\n",
    "client.search(\n",
    "  body = query,\n",
    "  index = index_name\n",
    ")"
   ]
  },
  {
   "cell_type": "markdown",
   "metadata": {},
   "source": [
    "## Aggregations"
   ]
  },
  {
   "cell_type": "markdown",
   "metadata": {},
   "source": [
    "### Terms"
   ]
  },
  {
   "cell_type": "code",
   "execution_count": 17,
   "metadata": {},
   "outputs": [
    {
     "data": {
      "text/plain": [
       "{'took': 29,\n",
       " 'timed_out': False,\n",
       " '_shards': {'total': 1, 'successful': 1, 'skipped': 0, 'failed': 0},\n",
       " 'hits': {'total': {'value': 4, 'relation': 'eq'},\n",
       "  'max_score': None,\n",
       "  'hits': []},\n",
       " 'aggregations': {'category': {'doc_count_error_upper_bound': 0,\n",
       "   'sum_other_doc_count': 0,\n",
       "   'buckets': [{'key': 'childrens', 'doc_count': 2},\n",
       "    {'key': 'instructional', 'doc_count': 1},\n",
       "    {'key': 'sports', 'doc_count': 1},\n",
       "    {'key': 'N/A', 'doc_count': 0}]}}}"
      ]
     },
     "execution_count": 17,
     "metadata": {},
     "output_type": "execute_result"
    }
   ],
   "source": [
    "query = {\n",
    "    'size': 0,\n",
    "    'query': {\n",
    "        \"match_all\": {}\n",
    "    },\n",
    "    'aggs': {\n",
    "        \"category\": {\n",
    "            \"terms\": {\n",
    "                \"field\": \"category\",\n",
    "                \"size\": 10,\n",
    "                \"missing\": \"N/A\",\n",
    "                \"min_doc_count\": 0\n",
    "            }\n",
    "        }\n",
    "    }\n",
    "}\n",
    "\n",
    "client.search(\n",
    "    body = query,\n",
    "    index = index_name\n",
    ")"
   ]
  },
  {
   "cell_type": "code",
   "execution_count": 18,
   "metadata": {},
   "outputs": [
    {
     "data": {
      "text/plain": [
       "{'took': 6,\n",
       " 'timed_out': False,\n",
       " '_shards': {'total': 1, 'successful': 1, 'skipped': 0, 'failed': 0},\n",
       " 'hits': {'total': {'value': 4, 'relation': 'eq'},\n",
       "  'max_score': None,\n",
       "  'hits': []},\n",
       " 'aggregations': {'price': {'doc_count_error_upper_bound': 0,\n",
       "   'sum_other_doc_count': 0,\n",
       "   'buckets': [{'key': 3.509999990463257, 'doc_count': 1},\n",
       "    {'key': 5.989999771118164, 'doc_count': 1},\n",
       "    {'key': 15.130000114440918, 'doc_count': 1},\n",
       "    {'key': 150.2100067138672, 'doc_count': 1}]}}}"
      ]
     },
     "execution_count": 18,
     "metadata": {},
     "output_type": "execute_result"
    }
   ],
   "source": [
    "# Terms on price\n",
    "query = {\n",
    "    'size': 0,\n",
    "    'query': {\n",
    "        \"match_all\": {}\n",
    "    },\n",
    "    'aggs': {\n",
    "        \"price\": {\n",
    "            \"terms\": {\n",
    "                \"field\": \"price\",\n",
    "                \"size\": 10,\n",
    "                \"min_doc_count\": 0\n",
    "            }\n",
    "        }\n",
    "    }\n",
    "}\n",
    "\n",
    "client.search(\n",
    "    body = query,\n",
    "    index = index_name\n",
    ")"
   ]
  },
  {
   "cell_type": "markdown",
   "metadata": {},
   "source": [
    "### Range"
   ]
  },
  {
   "cell_type": "code",
   "execution_count": 36,
   "metadata": {},
   "outputs": [
    {
     "data": {
      "text/plain": [
       "{'took': 2,\n",
       " 'timed_out': False,\n",
       " '_shards': {'total': 1, 'successful': 1, 'skipped': 0, 'failed': 0},\n",
       " 'hits': {'total': {'value': 4, 'relation': 'eq'},\n",
       "  'max_score': None,\n",
       "  'hits': []},\n",
       " 'aggregations': {'price': {'buckets': [{'key': '*-5.0',\n",
       "     'to': 5.0,\n",
       "     'doc_count': 1},\n",
       "    {'key': '5.0-20.0', 'from': 5.0, 'to': 20.0, 'doc_count': 2},\n",
       "    {'key': '20.0-*', 'from': 20.0, 'doc_count': 1}]}}}"
      ]
     },
     "execution_count": 36,
     "metadata": {},
     "output_type": "execute_result"
    }
   ],
   "source": [
    "# Range aggregation\n",
    "query = yaml.safe_load(\"\"\"\n",
    "size: 0\n",
    "query:\n",
    "  match_all:\n",
    "aggs:\n",
    "  category:\n",
    "    terms:\n",
    "      field: category\n",
    "      size: 10\n",
    "      missing: \"N/A\"\n",
    "      min_doc_count: 0\n",
    "  price:\n",
    "    range:\n",
    "      field: price\n",
    "      ranges:\n",
    "        - to: 5\n",
    "        - from: 5\n",
    "          to: 20\n",
    "        - from: 20                      \n",
    "\"\"\")\n",
    "\n",
    "\n",
    "client.search(\n",
    "  body = query,\n",
    "  index = index_name\n",
    ")"
   ]
  },
  {
   "cell_type": "markdown",
   "metadata": {},
   "source": [
    "## Delete"
   ]
  },
  {
   "cell_type": "code",
   "execution_count": null,
   "metadata": {},
   "outputs": [],
   "source": [
    "# if you want to delete the documents, but keep the index, run the following:\n",
    "for doc in docs:\n",
    "    doc_id = doc[\"id\"]\n",
    "print(\"Indexing {}\".format(doc_id))\n",
    "response = client.delete(\n",
    "    index=index_name,\n",
    "    id=doc_id,\n",
    ")\n",
    "print('\\n\\tResponse:')\n",
    "print(response)\n",
    "\n",
    "# If at any time you want to start over, run this command to delete the index and then you can start from the toop\n",
    "# Delete the index.\n",
    "response = client.indices.delete(index=index_name)\n",
    "\n",
    "print('\\nDeleting index:')\n",
    "print(response)"
   ]
  }
 ],
 "metadata": {
  "kernelspec": {
   "display_name": "search_fundamentals",
   "language": "python",
   "name": "python3"
  },
  "language_info": {
   "codemirror_mode": {
    "name": "ipython",
    "version": 3
   },
   "file_extension": ".py",
   "mimetype": "text/x-python",
   "name": "python",
   "nbconvert_exporter": "python",
   "pygments_lexer": "ipython3",
   "version": "3.11.5"
  },
  "orig_nbformat": 4
 },
 "nbformat": 4,
 "nbformat_minor": 2
}
