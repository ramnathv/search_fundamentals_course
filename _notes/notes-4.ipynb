{
 "cells": [
  {
   "cell_type": "markdown",
   "metadata": {},
   "source": [
    "## Search from Tabular Data"
   ]
  },
  {
   "cell_type": "markdown",
   "metadata": {},
   "source": [
    "## Connect to Cluster"
   ]
  },
  {
   "cell_type": "code",
   "execution_count": 5,
   "metadata": {},
   "outputs": [],
   "source": [
    "import json\n",
    "def print_json(x):\n",
    "    print(json.dumps(x, indent = 2))"
   ]
  },
  {
   "cell_type": "code",
   "execution_count": 6,
   "metadata": {},
   "outputs": [
    {
     "name": "stdout",
     "output_type": "stream",
     "text": [
      "{\n",
      "  \"name\": \"fc81333c71df\",\n",
      "  \"cluster_name\": \"docker-cluster\",\n",
      "  \"cluster_uuid\": \"_Xsvjrs0TJOF3p6QlsWnJA\",\n",
      "  \"version\": {\n",
      "    \"distribution\": \"opensearch\",\n",
      "    \"number\": \"2.9.0\",\n",
      "    \"build_type\": \"tar\",\n",
      "    \"build_hash\": \"1164221ee2b8ba3560f0ff492309867beea28433\",\n",
      "    \"build_date\": \"2023-07-18T21:23:29.367080729Z\",\n",
      "    \"build_snapshot\": false,\n",
      "    \"lucene_version\": \"9.7.0\",\n",
      "    \"minimum_wire_compatibility_version\": \"7.10.0\",\n",
      "    \"minimum_index_compatibility_version\": \"7.0.0\"\n",
      "  },\n",
      "  \"tagline\": \"The OpenSearch Project: https://opensearch.org/\"\n",
      "}\n"
     ]
    }
   ],
   "source": [
    "from opensearchpy import OpenSearch\n",
    "from IPython.display import JSON\n",
    "client = OpenSearch(\n",
    "    hosts = [{\"host\": \"localhost\", \"port\": 9200}],\n",
    "    http_auth = (\"admin\", \"admin\"),\n",
    "    use_ssl = True,\n",
    "    verify_certs = False,\n",
    "    ssl_assert_hostname = False,\n",
    "    ssl_show_warn = False,\n",
    ")\n",
    "print_json(client.info())"
   ]
  },
  {
   "cell_type": "markdown",
   "metadata": {},
   "source": [
    "## Read Data"
   ]
  },
  {
   "cell_type": "code",
   "execution_count": 9,
   "metadata": {},
   "outputs": [
    {
     "data": {
      "text/html": [
       "<div>\n",
       "<style scoped>\n",
       "    .dataframe tbody tr th:only-of-type {\n",
       "        vertical-align: middle;\n",
       "    }\n",
       "\n",
       "    .dataframe tbody tr th {\n",
       "        vertical-align: top;\n",
       "    }\n",
       "\n",
       "    .dataframe thead th {\n",
       "        text-align: right;\n",
       "    }\n",
       "</style>\n",
       "<table border=\"1\" class=\"dataframe\">\n",
       "  <thead>\n",
       "    <tr style=\"text-align: right;\">\n",
       "      <th></th>\n",
       "      <th>release_year</th>\n",
       "      <th>title</th>\n",
       "      <th>origin_ethnicity</th>\n",
       "      <th>director</th>\n",
       "      <th>cast</th>\n",
       "      <th>genre</th>\n",
       "      <th>wiki_page</th>\n",
       "      <th>plot</th>\n",
       "    </tr>\n",
       "  </thead>\n",
       "  <tbody>\n",
       "    <tr>\n",
       "      <th>0</th>\n",
       "      <td>1984</td>\n",
       "      <td>Songwriter</td>\n",
       "      <td>American</td>\n",
       "      <td>Alan Rudolph</td>\n",
       "      <td>Willie Nelson, Kris Kristofferson, Melinda Dillon</td>\n",
       "      <td>drama</td>\n",
       "      <td>https://en.wikipedia.org/wiki/Songwriter_(1984...</td>\n",
       "      <td>The film concerns Doc Jenkins, (Willie Nelson)...</td>\n",
       "    </tr>\n",
       "    <tr>\n",
       "      <th>1</th>\n",
       "      <td>2012</td>\n",
       "      <td>Da Thadiya (ഡാ തടിയാ)</td>\n",
       "      <td>Malayalam</td>\n",
       "      <td>Aashiq Abu</td>\n",
       "      <td>Shekhar Menon, Ann Augustine, Sreenath Bhasi, ...</td>\n",
       "      <td>romance, comedy</td>\n",
       "      <td>https://en.wikipedia.org/wiki/Da_Thadiya</td>\n",
       "      <td>The film tells the love story of an obese yout...</td>\n",
       "    </tr>\n",
       "    <tr>\n",
       "      <th>2</th>\n",
       "      <td>1987</td>\n",
       "      <td>Ironweed</td>\n",
       "      <td>American</td>\n",
       "      <td>Héctor Babenco</td>\n",
       "      <td>Jack Nicholson, Meryl Streep, Tom Waits, Fred ...</td>\n",
       "      <td>drama</td>\n",
       "      <td>https://en.wikipedia.org/wiki/Ironweed_(film)</td>\n",
       "      <td>Francis Phelan (Jack Nicholson) is a washed-up...</td>\n",
       "    </tr>\n",
       "    <tr>\n",
       "      <th>3</th>\n",
       "      <td>2015</td>\n",
       "      <td>Kaliyachan</td>\n",
       "      <td>Malayalam</td>\n",
       "      <td>Farooq Abdul Rahman</td>\n",
       "      <td>Manoj K Jayan, and Vaiga</td>\n",
       "      <td>drama</td>\n",
       "      <td>https://en.wikipedia.org/wiki/Kaliyachan</td>\n",
       "      <td>The film is about the Kathakali actor, Kunhira...</td>\n",
       "    </tr>\n",
       "    <tr>\n",
       "      <th>4</th>\n",
       "      <td>1971</td>\n",
       "      <td>Kati Patang</td>\n",
       "      <td>Bollywood</td>\n",
       "      <td>Shakti Samanta</td>\n",
       "      <td>Rajesh Khanna, Asha Parekh</td>\n",
       "      <td>romance</td>\n",
       "      <td>https://en.wikipedia.org/wiki/Kati_Patang_(197...</td>\n",
       "      <td>Madhavi \"Madhu\" (Asha Parekh) is an orphan liv...</td>\n",
       "    </tr>\n",
       "  </tbody>\n",
       "</table>\n",
       "</div>"
      ],
      "text/plain": [
       "   release_year                  title origin_ethnicity             director  \\\n",
       "0          1984             Songwriter         American         Alan Rudolph   \n",
       "1          2012  Da Thadiya (ഡാ തടിയാ)        Malayalam           Aashiq Abu   \n",
       "2          1987               Ironweed         American       Héctor Babenco   \n",
       "3          2015             Kaliyachan        Malayalam  Farooq Abdul Rahman   \n",
       "4          1971            Kati Patang        Bollywood       Shakti Samanta   \n",
       "\n",
       "                                                cast            genre  \\\n",
       "0  Willie Nelson, Kris Kristofferson, Melinda Dillon            drama   \n",
       "1  Shekhar Menon, Ann Augustine, Sreenath Bhasi, ...  romance, comedy   \n",
       "2  Jack Nicholson, Meryl Streep, Tom Waits, Fred ...            drama   \n",
       "3                           Manoj K Jayan, and Vaiga            drama   \n",
       "4                         Rajesh Khanna, Asha Parekh          romance   \n",
       "\n",
       "                                           wiki_page  \\\n",
       "0  https://en.wikipedia.org/wiki/Songwriter_(1984...   \n",
       "1           https://en.wikipedia.org/wiki/Da_Thadiya   \n",
       "2      https://en.wikipedia.org/wiki/Ironweed_(film)   \n",
       "3           https://en.wikipedia.org/wiki/Kaliyachan   \n",
       "4  https://en.wikipedia.org/wiki/Kati_Patang_(197...   \n",
       "\n",
       "                                                plot  \n",
       "0  The film concerns Doc Jenkins, (Willie Nelson)...  \n",
       "1  The film tells the love story of an obese yout...  \n",
       "2  Francis Phelan (Jack Nicholson) is a washed-up...  \n",
       "3  The film is about the Kathakali actor, Kunhira...  \n",
       "4  Madhavi \"Madhu\" (Asha Parekh) is an orphan liv...  "
      ]
     },
     "execution_count": 9,
     "metadata": {},
     "output_type": "execute_result"
    }
   ],
   "source": [
    "# Read Data\n",
    "import pandas as pd\n",
    "import janitor\n",
    "csv_url = \"https://raw.githubusercontent.com/kiq005/movie-recommendation/master/src/dataset/wiki_movie_plots_deduped.csv\"\n",
    "documents = (\n",
    "\tpd.read_csv(csv_url)\n",
    "    .dropna()\n",
    "    .sample(5000, random_state=42)\n",
    "    .reset_index(drop=True)\n",
    "    .clean_names()\n",
    ")\n",
    "\n",
    "documents.head()"
   ]
  },
  {
   "cell_type": "markdown",
   "metadata": {},
   "source": [
    "## Create Index"
   ]
  },
  {
   "cell_type": "code",
   "execution_count": 13,
   "metadata": {},
   "outputs": [
    {
     "name": "stdout",
     "output_type": "stream",
     "text": [
      "{\n",
      "  \"acknowledged\": true,\n",
      "  \"shards_acknowledged\": true,\n",
      "  \"index\": \"movies\"\n",
      "}\n"
     ]
    }
   ],
   "source": [
    "# Create Index\n",
    "import yaml\n",
    "body = yaml.safe_load(\"\"\"\n",
    "mappings:\n",
    "  properties:\n",
    "    title:\n",
    "      type: text\n",
    "      analyzer: english\n",
    "    ethnicity:\n",
    "      type: text\n",
    "      analyzer: standard\n",
    "    director:\n",
    "      type: text\n",
    "      analyzer: standard\n",
    "    cast:\n",
    "      type: text\n",
    "      analyzer: standard\n",
    "    genre:\n",
    "      type: text\n",
    "      analyzer: standard\n",
    "    plot:\n",
    "      type: text\n",
    "      analyzer: english\n",
    "    year:\n",
    "      type: integer\n",
    "    wiki_page:\n",
    "      type: keyword\n",
    "\n",
    "\"\"\")\n",
    "response = client.indices.create(\"movies\", body = body)\n",
    "print_json(response)"
   ]
  },
  {
   "cell_type": "markdown",
   "metadata": {},
   "source": [
    "### Add documents sequentially"
   ]
  },
  {
   "cell_type": "code",
   "execution_count": 15,
   "metadata": {},
   "outputs": [
    {
     "data": {
      "text/plain": [
       "[{'epoch': '1695693521', 'timestamp': '01:58:41', 'count': '5000'}]"
      ]
     },
     "execution_count": 15,
     "metadata": {},
     "output_type": "execute_result"
    }
   ],
   "source": [
    "for i, document in enumerate(documents.to_dict(\"records\")):\n",
    "    client.index(index = \"movies\", id = i, body = document)\n",
    "    \n",
    "client.indices.refresh(index = \"movies\")\n",
    "client.cat.count(index = \"movies\", format=\"json\")"
   ]
  },
  {
   "cell_type": "markdown",
   "metadata": {},
   "source": [
    "### Add documents in bulk"
   ]
  },
  {
   "cell_type": "code",
   "execution_count": 16,
   "metadata": {},
   "outputs": [
    {
     "data": {
      "text/plain": [
       "[{'epoch': '1695693587', 'timestamp': '01:59:47', 'count': '5000'}]"
      ]
     },
     "execution_count": 16,
     "metadata": {},
     "output_type": "execute_result"
    }
   ],
   "source": [
    "from opensearchpy.helpers import bulk\n",
    "documents_bulk = documents.assign(_index = \"movies_bulk\")\n",
    "bulk(client, documents_bulk.to_dict(orient = \"records\"))\n",
    "\n",
    "client.indices.refresh(index = \"movies_bulk\")\n",
    "client.cat.count(index = \"movies_bulk\", format=\"json\")"
   ]
  },
  {
   "cell_type": "markdown",
   "metadata": {},
   "source": [
    "## Search Documents"
   ]
  },
  {
   "cell_type": "code",
   "execution_count": null,
   "metadata": {},
   "outputs": [],
   "source": [
    "def display_search_response(response):\n",
    "  hits = response['hits']['hits']\n",
    "  sources = [hit[\"_source\"] for hit in hits]\n",
    "  return pd.concat([pd.DataFrame(hits), pd.DataFrame(sources)], axis=1)"
   ]
  },
  {
   "cell_type": "code",
   "execution_count": 35,
   "metadata": {},
   "outputs": [
    {
     "data": {
      "text/html": [
       "<div>\n",
       "<style scoped>\n",
       "    .dataframe tbody tr th:only-of-type {\n",
       "        vertical-align: middle;\n",
       "    }\n",
       "\n",
       "    .dataframe tbody tr th {\n",
       "        vertical-align: top;\n",
       "    }\n",
       "\n",
       "    .dataframe thead th {\n",
       "        text-align: right;\n",
       "    }\n",
       "</style>\n",
       "<table border=\"1\" class=\"dataframe\">\n",
       "  <thead>\n",
       "    <tr style=\"text-align: right;\">\n",
       "      <th></th>\n",
       "      <th>_index</th>\n",
       "      <th>_id</th>\n",
       "      <th>_score</th>\n",
       "      <th>_source</th>\n",
       "      <th>release_year</th>\n",
       "      <th>title</th>\n",
       "      <th>origin_ethnicity</th>\n",
       "      <th>director</th>\n",
       "      <th>cast</th>\n",
       "      <th>genre</th>\n",
       "      <th>wiki_page</th>\n",
       "      <th>plot</th>\n",
       "    </tr>\n",
       "  </thead>\n",
       "  <tbody>\n",
       "    <tr>\n",
       "      <th>0</th>\n",
       "      <td>movies</td>\n",
       "      <td>4736</td>\n",
       "      <td>13.789314</td>\n",
       "      <td>{'release_year': 1964, 'title': 'Rajkumar', 'o...</td>\n",
       "      <td>1964</td>\n",
       "      <td>Rajkumar</td>\n",
       "      <td>Bollywood</td>\n",
       "      <td>Unknown</td>\n",
       "      <td>Shammi Kapoor, Sadhana</td>\n",
       "      <td>unknown</td>\n",
       "      <td>https://en.wikipedia.org/wiki/Rajkumar_(1964_f...</td>\n",
       "      <td>The Maharaja is eager to see his foreign-retur...</td>\n",
       "    </tr>\n",
       "    <tr>\n",
       "      <th>1</th>\n",
       "      <td>movies</td>\n",
       "      <td>2448</td>\n",
       "      <td>11.969725</td>\n",
       "      <td>{'release_year': 1978, 'title': 'Shalimar', 'o...</td>\n",
       "      <td>1978</td>\n",
       "      <td>Shalimar</td>\n",
       "      <td>Bollywood</td>\n",
       "      <td>Krishna Shah</td>\n",
       "      <td>Dharmendra, Zeenat Aman, Shammi Kapoor</td>\n",
       "      <td>drama</td>\n",
       "      <td>https://en.wikipedia.org/wiki/Shalimar_(1978_f...</td>\n",
       "      <td>On the run from the police, S.S. Kumar, a thie...</td>\n",
       "    </tr>\n",
       "    <tr>\n",
       "      <th>2</th>\n",
       "      <td>movies</td>\n",
       "      <td>3840</td>\n",
       "      <td>11.228866</td>\n",
       "      <td>{'release_year': 2011, 'title': 'Rockstar', 'o...</td>\n",
       "      <td>2011</td>\n",
       "      <td>Rockstar</td>\n",
       "      <td>Bollywood</td>\n",
       "      <td>Imtiaz Ali</td>\n",
       "      <td>Ranbir Kapoor, Nargis Fakhri, Shammi Kapoor</td>\n",
       "      <td>romance/drama</td>\n",
       "      <td>https://en.wikipedia.org/wiki/Rockstar_(2011_f...</td>\n",
       "      <td>A large crowd gathers outside the Verona Arena...</td>\n",
       "    </tr>\n",
       "    <tr>\n",
       "      <th>3</th>\n",
       "      <td>movies</td>\n",
       "      <td>1149</td>\n",
       "      <td>9.470373</td>\n",
       "      <td>{'release_year': 1961, 'title': 'Junglee', 'or...</td>\n",
       "      <td>1961</td>\n",
       "      <td>Junglee</td>\n",
       "      <td>Bollywood</td>\n",
       "      <td>Subodh Mukherjee</td>\n",
       "      <td>Shammi Kapoor, Saira Banu, Anoop Kumar, Lalita...</td>\n",
       "      <td>romance</td>\n",
       "      <td>https://en.wikipedia.org/wiki/Junglee</td>\n",
       "      <td>Chandrashekhar/Shekhar (Shammi Kapoor) belongs...</td>\n",
       "    </tr>\n",
       "    <tr>\n",
       "      <th>4</th>\n",
       "      <td>movies</td>\n",
       "      <td>959</td>\n",
       "      <td>9.000531</td>\n",
       "      <td>{'release_year': 1960, 'title': 'College Girl'...</td>\n",
       "      <td>1960</td>\n",
       "      <td>College Girl</td>\n",
       "      <td>Bollywood</td>\n",
       "      <td>T. Prakash Rao</td>\n",
       "      <td>Shammi Kapoor, Vyjayanthimala, Om Prakash, Tab...</td>\n",
       "      <td>romance drama</td>\n",
       "      <td>https://en.wikipedia.org/wiki/College_Girl_(19...</td>\n",
       "      <td>In India, girls from their very birth are take...</td>\n",
       "    </tr>\n",
       "    <tr>\n",
       "      <th>5</th>\n",
       "      <td>movies</td>\n",
       "      <td>636</td>\n",
       "      <td>6.680510</td>\n",
       "      <td>{'release_year': 1962, 'title': 'Dil Tera Diwa...</td>\n",
       "      <td>1962</td>\n",
       "      <td>Dil Tera Diwana</td>\n",
       "      <td>Bollywood</td>\n",
       "      <td>B. R. Panthulu</td>\n",
       "      <td>Shammi Kapoor, Mala Sinha, Mehmood, Shobha Kho...</td>\n",
       "      <td>romantic drama</td>\n",
       "      <td>https://en.wikipedia.org/wiki/Dil_Tera_Diwana_...</td>\n",
       "      <td>Wayward, brash, and disobedient Mohan (Shammi ...</td>\n",
       "    </tr>\n",
       "  </tbody>\n",
       "</table>\n",
       "</div>"
      ],
      "text/plain": [
       "   _index   _id     _score                                            _source  \\\n",
       "0  movies  4736  13.789314  {'release_year': 1964, 'title': 'Rajkumar', 'o...   \n",
       "1  movies  2448  11.969725  {'release_year': 1978, 'title': 'Shalimar', 'o...   \n",
       "2  movies  3840  11.228866  {'release_year': 2011, 'title': 'Rockstar', 'o...   \n",
       "3  movies  1149   9.470373  {'release_year': 1961, 'title': 'Junglee', 'or...   \n",
       "4  movies   959   9.000531  {'release_year': 1960, 'title': 'College Girl'...   \n",
       "5  movies   636   6.680510  {'release_year': 1962, 'title': 'Dil Tera Diwa...   \n",
       "\n",
       "   release_year            title origin_ethnicity          director  \\\n",
       "0          1964         Rajkumar        Bollywood           Unknown   \n",
       "1          1978         Shalimar        Bollywood      Krishna Shah   \n",
       "2          2011         Rockstar        Bollywood        Imtiaz Ali   \n",
       "3          1961          Junglee        Bollywood  Subodh Mukherjee   \n",
       "4          1960     College Girl        Bollywood    T. Prakash Rao   \n",
       "5          1962  Dil Tera Diwana        Bollywood    B. R. Panthulu   \n",
       "\n",
       "                                                cast           genre  \\\n",
       "0                             Shammi Kapoor, Sadhana         unknown   \n",
       "1             Dharmendra, Zeenat Aman, Shammi Kapoor           drama   \n",
       "2        Ranbir Kapoor, Nargis Fakhri, Shammi Kapoor   romance/drama   \n",
       "3  Shammi Kapoor, Saira Banu, Anoop Kumar, Lalita...         romance   \n",
       "4  Shammi Kapoor, Vyjayanthimala, Om Prakash, Tab...   romance drama   \n",
       "5  Shammi Kapoor, Mala Sinha, Mehmood, Shobha Kho...  romantic drama   \n",
       "\n",
       "                                           wiki_page  \\\n",
       "0  https://en.wikipedia.org/wiki/Rajkumar_(1964_f...   \n",
       "1  https://en.wikipedia.org/wiki/Shalimar_(1978_f...   \n",
       "2  https://en.wikipedia.org/wiki/Rockstar_(2011_f...   \n",
       "3              https://en.wikipedia.org/wiki/Junglee   \n",
       "4  https://en.wikipedia.org/wiki/College_Girl_(19...   \n",
       "5  https://en.wikipedia.org/wiki/Dil_Tera_Diwana_...   \n",
       "\n",
       "                                                plot  \n",
       "0  The Maharaja is eager to see his foreign-retur...  \n",
       "1  On the run from the police, S.S. Kumar, a thie...  \n",
       "2  A large crowd gathers outside the Verona Arena...  \n",
       "3  Chandrashekhar/Shekhar (Shammi Kapoor) belongs...  \n",
       "4  In India, girls from their very birth are take...  \n",
       "5  Wayward, brash, and disobedient Mohan (Shammi ...  "
      ]
     },
     "execution_count": 35,
     "metadata": {},
     "output_type": "execute_result"
    }
   ],
   "source": [
    "# Search Documents\n",
    "body_yaml = \"\"\"\n",
    "query:\n",
    "  bool:\n",
    "    must:\n",
    "      match_phrase:\n",
    "        cast: shammi kapoor\n",
    "    filter:\n",
    "      bool:\n",
    "        must_not:\n",
    "          match_phrase:\n",
    "            cast: sharmila tagore\n",
    "\"\"\"\n",
    "response = client.search(\n",
    "  index = \"movies\",\n",
    "  body = yaml.safe_load(body_yaml)\n",
    ")\n",
    "display_search_response(response)"
   ]
  }
 ],
 "metadata": {
  "kernelspec": {
   "display_name": "search_fundamentals",
   "language": "python",
   "name": "python3"
  },
  "language_info": {
   "codemirror_mode": {
    "name": "ipython",
    "version": 3
   },
   "file_extension": ".py",
   "mimetype": "text/x-python",
   "name": "python",
   "nbconvert_exporter": "python",
   "pygments_lexer": "ipython3",
   "version": "3.9.7"
  },
  "orig_nbformat": 4
 },
 "nbformat": 4,
 "nbformat_minor": 2
}
