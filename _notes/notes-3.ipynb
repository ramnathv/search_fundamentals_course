{
 "cells": [
  {
   "cell_type": "code",
   "execution_count": 2,
   "metadata": {},
   "outputs": [
    {
     "name": "stdout",
     "output_type": "stream",
     "text": [
      "Number of files; 256\n"
     ]
    },
    {
     "data": {
      "text/plain": [
       "['/workspace/datasets/product_data/products/products_0001_2570_to_430420.xml',\n",
       " '/workspace/datasets/product_data/products/products_0002_430439_to_518210.xml',\n",
       " '/workspace/datasets/product_data/products/products_0003_518229_to_606384.xml',\n",
       " '/workspace/datasets/product_data/products/products_0004_606428_to_722720.xml',\n",
       " '/workspace/datasets/product_data/products/products_0005_722800_to_846222.xml']"
      ]
     },
     "execution_count": 2,
     "metadata": {},
     "output_type": "execute_result"
    }
   ],
   "source": [
    "import glob\n",
    "source_dir = \"/workspace/datasets/product_data/products\"\n",
    "files = glob.glob(source_dir + \"/*.xml\")\n",
    "print(f\"Number of files; {len(files)}\")\n",
    "files[:5]"
   ]
  },
  {
   "cell_type": "code",
   "execution_count": 265,
   "metadata": {},
   "outputs": [
    {
     "data": {
      "text/plain": [
       "[('productId', 'productId/text()'),\n",
       " ('sku', 'sku/text()'),\n",
       " ('name', 'name/text()'),\n",
       " ('type', 'type/text()'),\n",
       " ('startDate', 'startDate/text()')]"
      ]
     },
     "execution_count": 265,
     "metadata": {},
     "output_type": "execute_result"
    }
   ],
   "source": [
    "mappings_old =  [\n",
    "    \"productId/text()\", \"productId\",\n",
    "    \"sku/text()\", \"sku\",\n",
    "    \"name/text()\", \"name\",\n",
    "    \"type/text()\", \"type\",\n",
    "    \"startDate/text()\", \"startDate\",\n",
    "    \"active/text()\", \"active\",\n",
    "    \"regularPrice/text()\", \"regularPrice\",\n",
    "    \"salePrice/text()\", \"salePrice\",\n",
    "    \"artistName/text()\", \"artistName\",\n",
    "    \"onSale/text()\", \"onSale\",\n",
    "    \"digital/text()\", \"digital\",\n",
    "    \"frequentlyPurchasedWith/*/text()\", \"frequentlyPurchasedWith\",# Note the match all here to get the subfields\n",
    "    \"accessories/*/text()\", \"accessories\",# Note the match all here to get the subfields\n",
    "    \"relatedProducts/*/text()\", \"relatedProducts\",# Note the match all here to get the subfields\n",
    "    \"crossSell/text()\", \"crossSell\",\n",
    "    \"salesRankShortTerm/text()\", \"salesRankShortTerm\",\n",
    "    \"salesRankMediumTerm/text()\", \"salesRankMediumTerm\",\n",
    "    \"salesRankLongTerm/text()\", \"salesRankLongTerm\",\n",
    "    \"bestSellingRank/text()\", \"bestSellingRank\",\n",
    "    \"url/text()\", \"url\",\n",
    "    \"categoryPath/*/name/text()\", \"categoryPath\", # Note the match all here to get the subfields\n",
    "    \"categoryPath/*/id/text()\", \"categoryPathIds\", # Note the match all here to get the subfields\n",
    "    \"categoryPath/category[last()]/id/text()\", \"categoryLeaf\",\n",
    "    \"count(categoryPath/*/name)\", \"categoryPathCount\",\n",
    "    \"customerReviewCount/text()\", \"customerReviewCount\",\n",
    "    \"customerReviewAverage/text()\", \"customerReviewAverage\",\n",
    "    \"inStoreAvailability/text()\", \"inStoreAvailability\",\n",
    "    \"onlineAvailability/text()\", \"onlineAvailability\",\n",
    "    \"releaseDate/text()\", \"releaseDate\",\n",
    "    \"shippingCost/text()\", \"shippingCost\",\n",
    "    \"shortDescription/text()\", \"shortDescription\",\n",
    "    \"shortDescriptionHtml/text()\", \"shortDescriptionHtml\",\n",
    "    \"class/text()\", \"class\",\n",
    "    \"classId/text()\", \"classId\",\n",
    "    \"subclass/text()\", \"subclass\",\n",
    "    \"subclassId/text()\", \"subclassId\",\n",
    "    \"department/text()\", \"department\",\n",
    "    \"departmentId/text()\", \"departmentId\",\n",
    "    \"bestBuyItemId/text()\", \"bestBuyItemId\",\n",
    "    \"description/text()\", \"description\",\n",
    "    \"manufacturer/text()\", \"manufacturer\",\n",
    "    \"modelNumber/text()\", \"modelNumber\",\n",
    "    \"image/text()\", \"image\",\n",
    "    \"condition/text()\", \"condition\",\n",
    "    \"inStorePickup/text()\", \"inStorePickup\",\n",
    "    \"homeDelivery/text()\", \"homeDelivery\",\n",
    "    \"quantityLimit/text()\", \"quantityLimit\",\n",
    "    \"color/text()\", \"color\",\n",
    "    \"depth/text()\", \"depth\",\n",
    "    \"height/text()\", \"height\",\n",
    "    \"weight/text()\", \"weight\",\n",
    "    \"shippingWeight/text()\", \"shippingWeight\",\n",
    "    \"width/text()\", \"width\",\n",
    "    \"longDescription/text()\", \"longDescription\",\n",
    "    \"longDescriptionHtml/text()\", \"longDescriptionHtml\",\n",
    "    \"features/*/text()\", \"features\" # Note the match all here to get the subfields\n",
    "]\n",
    "mappings = list(zip(mappings_old[1::2], mappings_old[::2]))\n",
    "mappings_dict = dict(mappings)\n",
    "mappings[:5]"
   ]
  },
  {
   "cell_type": "code",
   "execution_count": 29,
   "metadata": {},
   "outputs": [],
   "source": [
    "children = etree.parse(files[0]).getroot().findall(\"./product\")\n",
    "child = children[0]"
   ]
  },
  {
   "cell_type": "code",
   "execution_count": 272,
   "metadata": {},
   "outputs": [],
   "source": [
    "def generate_documents(file: str, index_name: str, mappings_dict: dict, batch_size:int = 5) -> list:\n",
    "    \"\"\"Generate a batch of documents from a product file\n",
    "\n",
    "    Args:\n",
    "        file (str): The path to the XML file containing the product details.    \n",
    "        index_name (str): The name of the index to which the documents are to be written to.\n",
    "        batch_size (int, optional): The max number of documents to index in bulk. Defaults to 5.\n",
    "\n",
    "    Yields:\n",
    "        _type_: _description_\n",
    "    \"\"\"\n",
    "    # Parse tree to fetch all products\n",
    "    children = etree.parse(file).getroot().findall(\"./product\")\n",
    "    batch = []\n",
    "    for child in children:\n",
    "        product_id = child.xpath('productId')\n",
    "        if (len(product_id) == 0):\n",
    "          continue\n",
    "        doc = {k: child.xpath(v) for k, v in mappings_dict.items()}\n",
    "        doc[\"_index\"] = index_name\n",
    "        batch.append(doc)\n",
    "        if len(batch) == batch_size:\n",
    "          yield batch\n",
    "          batch = []\n",
    "\n",
    "    # Yield the last batch even if it is less than batch size\n",
    "    if batch:\n",
    "        yield batch"
   ]
  },
  {
   "cell_type": "code",
   "execution_count": 273,
   "metadata": {},
   "outputs": [],
   "source": [
    "def index_file(client, file: str, index_name: str, mappings_dict: dict, batch_size: int = 5):\n",
    "    for docs in generate_documents(file, index_name, mappings_dict, batch_size = batch_size):\n",
    "        bulk(client, docs)"
   ]
  },
  {
   "cell_type": "code",
   "execution_count": null,
   "metadata": {},
   "outputs": [],
   "source": [
    "from time import perf_counter\n",
    "import concurrent.futures\n",
    "\n",
    "def index_files(source_dir: str, index_name: str, max_workers: int):\n",
    "    files = glob.glob(source_dir + \"/*.xml\")\n",
    "    docs_indexed = 0\n",
    "    start = perf_counter()\n",
    "    with concurrent.futures.ProcessPoolExecutor(max_workers = workers) as executor:\n",
    "        futures = [executor.submit(index_file, file, index_name) for file in files]\n",
    "        for future in concurrent.futures.as_completed(futures):\n",
    "            docs_indexed += future.result()\n",
    "\n",
    "    finish = perf_counter()\n",
    "    logger.info(f'Done. Total docs: {docs_indexed} in {(finish - start)/60} minutes')"
   ]
  }
 ],
 "metadata": {
  "kernelspec": {
   "display_name": "search_fundamentals",
   "language": "python",
   "name": "python3"
  },
  "language_info": {
   "codemirror_mode": {
    "name": "ipython",
    "version": 3
   },
   "file_extension": ".py",
   "mimetype": "text/x-python",
   "name": "python",
   "nbconvert_exporter": "python",
   "pygments_lexer": "ipython3",
   "version": "3.9.7"
  },
  "orig_nbformat": 4
 },
 "nbformat": 4,
 "nbformat_minor": 2
}
