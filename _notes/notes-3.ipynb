{
 "cells": [
  {
   "cell_type": "code",
   "execution_count": 2,
   "metadata": {},
   "outputs": [
    {
     "data": {
      "text/plain": [
       "256"
      ]
     },
     "execution_count": 2,
     "metadata": {},
     "output_type": "execute_result"
    }
   ],
   "source": [
    "import glob\n",
    "source_dir = \"/workspace/datasets/product_data/products\"\n",
    "files = glob.glob(source_dir + \"/*.xml\")\n",
    "len(files)"
   ]
  },
  {
   "cell_type": "code",
   "execution_count": 3,
   "metadata": {},
   "outputs": [],
   "source": [
    "mappings_old =  [\n",
    "            \"productId/text()\", \"productId\",\n",
    "            \"sku/text()\", \"sku\",\n",
    "            \"name/text()\", \"name\",\n",
    "            \"type/text()\", \"type\",\n",
    "            \"startDate/text()\", \"startDate\",\n",
    "            \"active/text()\", \"active\",\n",
    "            \"regularPrice/text()\", \"regularPrice\",\n",
    "            \"salePrice/text()\", \"salePrice\",\n",
    "            \"artistName/text()\", \"artistName\",\n",
    "            \"onSale/text()\", \"onSale\",\n",
    "            \"digital/text()\", \"digital\",\n",
    "            \"frequentlyPurchasedWith/*/text()\", \"frequentlyPurchasedWith\",# Note the match all here to get the subfields\n",
    "            \"accessories/*/text()\", \"accessories\",# Note the match all here to get the subfields\n",
    "            \"relatedProducts/*/text()\", \"relatedProducts\",# Note the match all here to get the subfields\n",
    "            \"crossSell/text()\", \"crossSell\",\n",
    "            \"salesRankShortTerm/text()\", \"salesRankShortTerm\",\n",
    "            \"salesRankMediumTerm/text()\", \"salesRankMediumTerm\",\n",
    "            \"salesRankLongTerm/text()\", \"salesRankLongTerm\",\n",
    "            \"bestSellingRank/text()\", \"bestSellingRank\",\n",
    "            \"url/text()\", \"url\",\n",
    "            \"categoryPath/*/name/text()\", \"categoryPath\", # Note the match all here to get the subfields\n",
    "            \"categoryPath/*/id/text()\", \"categoryPathIds\", # Note the match all here to get the subfields\n",
    "            \"categoryPath/category[last()]/id/text()\", \"categoryLeaf\",\n",
    "            \"count(categoryPath/*/name)\", \"categoryPathCount\",\n",
    "            \"customerReviewCount/text()\", \"customerReviewCount\",\n",
    "            \"customerReviewAverage/text()\", \"customerReviewAverage\",\n",
    "            \"inStoreAvailability/text()\", \"inStoreAvailability\",\n",
    "            \"onlineAvailability/text()\", \"onlineAvailability\",\n",
    "            \"releaseDate/text()\", \"releaseDate\",\n",
    "            \"shippingCost/text()\", \"shippingCost\",\n",
    "            \"shortDescription/text()\", \"shortDescription\",\n",
    "            \"shortDescriptionHtml/text()\", \"shortDescriptionHtml\",\n",
    "            \"class/text()\", \"class\",\n",
    "            \"classId/text()\", \"classId\",\n",
    "            \"subclass/text()\", \"subclass\",\n",
    "            \"subclassId/text()\", \"subclassId\",\n",
    "            \"department/text()\", \"department\",\n",
    "            \"departmentId/text()\", \"departmentId\",\n",
    "            \"bestBuyItemId/text()\", \"bestBuyItemId\",\n",
    "            \"description/text()\", \"description\",\n",
    "            \"manufacturer/text()\", \"manufacturer\",\n",
    "            \"modelNumber/text()\", \"modelNumber\",\n",
    "            \"image/text()\", \"image\",\n",
    "            \"condition/text()\", \"condition\",\n",
    "            \"inStorePickup/text()\", \"inStorePickup\",\n",
    "            \"homeDelivery/text()\", \"homeDelivery\",\n",
    "            \"quantityLimit/text()\", \"quantityLimit\",\n",
    "            \"color/text()\", \"color\",\n",
    "            \"depth/text()\", \"depth\",\n",
    "            \"height/text()\", \"height\",\n",
    "            \"weight/text()\", \"weight\",\n",
    "            \"shippingWeight/text()\", \"shippingWeight\",\n",
    "            \"width/text()\", \"width\",\n",
    "            \"longDescription/text()\", \"longDescription\",\n",
    "            \"longDescriptionHtml/text()\", \"longDescriptionHtml\",\n",
    "            \"features/*/text()\", \"features\" # Note the match all here to get the subfields\n",
    "\n",
    "]"
   ]
  },
  {
   "cell_type": "code",
   "execution_count": 4,
   "metadata": {},
   "outputs": [
    {
     "data": {
      "text/plain": [
       "[('productId', 'productId/text()'),\n",
       " ('sku', 'sku/text()'),\n",
       " ('name', 'name/text()'),\n",
       " ('type', 'type/text()'),\n",
       " ('startDate', 'startDate/text()')]"
      ]
     },
     "execution_count": 4,
     "metadata": {},
     "output_type": "execute_result"
    }
   ],
   "source": [
    "mappings = list(zip(mappings_old[1::2], mappings_old[::2]))\n",
    "mappings[:5]"
   ]
  },
  {
   "cell_type": "code",
   "execution_count": 7,
   "metadata": {},
   "outputs": [
    {
     "data": {
      "text/plain": [
       "{'productId': ['1051806942127']}"
      ]
     },
     "execution_count": 7,
     "metadata": {},
     "output_type": "execute_result"
    }
   ],
   "source": [
    "def get_child_mapping(child, mapping):\n",
    "    return {mapping[0] : child.xpath(mapping[1])}\n",
    "\n",
    "get_child_mapping(children[0], mappings[0])"
   ]
  },
  {
   "cell_type": "code",
   "execution_count": null,
   "metadata": {},
   "outputs": [],
   "source": [
    "for child in children:\n",
    "    for mapping in mappings:\n",
    "        "
   ]
  },
  {
   "cell_type": "code",
   "execution_count": 40,
   "metadata": {},
   "outputs": [],
   "source": [
    "def make_document(child, mappings):\n",
    "    return {mapping[0]: child.xpath(mapping[1]) for mapping in mappings}"
   ]
  },
  {
   "cell_type": "code",
   "execution_count": 45,
   "metadata": {},
   "outputs": [],
   "source": [
    "from lxml import etree\n",
    "import pandas as pd\n",
    "tree = etree.parse(files[0])\n",
    "root = tree.getroot()\n",
    "children = root.findall(\"./product\")\n",
    "docs = (make_document(child, mappings) for child in children)"
   ]
  },
  {
   "cell_type": "code",
   "execution_count": 43,
   "metadata": {},
   "outputs": [
    {
     "data": {
      "text/plain": [
       "[{'productId': ['1051806941102'],\n",
       "  'sku': ['12854'],\n",
       "  'name': ['Manufacturer - Test sku - Color'],\n",
       "  'type': ['HardGood'],\n",
       "  'startDate': ['2000-03-01'],\n",
       "  'active': ['false'],\n",
       "  'regularPrice': ['3.99'],\n",
       "  'salePrice': ['3.99'],\n",
       "  'artistName': [],\n",
       "  'onSale': ['false'],\n",
       "  'digital': ['false'],\n",
       "  'frequentlyPurchasedWith': [],\n",
       "  'accessories': [],\n",
       "  'relatedProducts': [],\n",
       "  'crossSell': [],\n",
       "  'salesRankShortTerm': [],\n",
       "  'salesRankMediumTerm': [],\n",
       "  'salesRankLongTerm': [],\n",
       "  'bestSellingRank': [],\n",
       "  'url': [],\n",
       "  'categoryPath': [],\n",
       "  'categoryPathIds': [],\n",
       "  'categoryLeaf': [],\n",
       "  'categoryPathCount': 0.0,\n",
       "  'customerReviewCount': [],\n",
       "  'customerReviewAverage': [],\n",
       "  'inStoreAvailability': ['false'],\n",
       "  'onlineAvailability': ['false'],\n",
       "  'releaseDate': [],\n",
       "  'shippingCost': [],\n",
       "  'shortDescription': ['Short Description'],\n",
       "  'shortDescriptionHtml': ['Short Description'],\n",
       "  'class': ['FILM'],\n",
       "  'classId': ['51'],\n",
       "  'subclass': ['35 MM'],\n",
       "  'subclassId': ['73'],\n",
       "  'department': ['PHOTO/COMMODITIES'],\n",
       "  'departmentId': ['5'],\n",
       "  'bestBuyItemId': ['555447'],\n",
       "  'description': [],\n",
       "  'manufacturer': ['Manufacturer'],\n",
       "  'modelNumber': ['1241942'],\n",
       "  'image': ['http://images.bestbuy.com/BestBuy_US/images/products/1285/12854_rc.jpg'],\n",
       "  'condition': ['New'],\n",
       "  'inStorePickup': ['false'],\n",
       "  'homeDelivery': ['false'],\n",
       "  'quantityLimit': ['50'],\n",
       "  'color': ['Color'],\n",
       "  'depth': ['Product Depth'],\n",
       "  'height': ['Product Height'],\n",
       "  'weight': ['Product Weight'],\n",
       "  'shippingWeight': ['0.4'],\n",
       "  'width': ['Product Width'],\n",
       "  'longDescription': ['Product Description'],\n",
       "  'longDescriptionHtml': ['Product Description'],\n",
       "  'features': ['Feature bullet']},\n",
       " {'productId': ['1051806941178'],\n",
       "  'sku': ['12881'],\n",
       "  'name': ['Kodak - Gold 400 Film (24 exposures)'],\n",
       "  'type': ['HardGood'],\n",
       "  'startDate': ['2000-03-01'],\n",
       "  'active': ['false'],\n",
       "  'regularPrice': ['4.79'],\n",
       "  'salePrice': ['4.79'],\n",
       "  'artistName': [],\n",
       "  'onSale': ['false'],\n",
       "  'digital': ['false'],\n",
       "  'frequentlyPurchasedWith': [],\n",
       "  'accessories': [],\n",
       "  'relatedProducts': [],\n",
       "  'crossSell': [],\n",
       "  'salesRankShortTerm': [],\n",
       "  'salesRankMediumTerm': [],\n",
       "  'salesRankLongTerm': [],\n",
       "  'bestSellingRank': [],\n",
       "  'url': [],\n",
       "  'categoryPath': [],\n",
       "  'categoryPathIds': [],\n",
       "  'categoryLeaf': [],\n",
       "  'categoryPathCount': 0.0,\n",
       "  'customerReviewCount': [],\n",
       "  'customerReviewAverage': [],\n",
       "  'inStoreAvailability': ['false'],\n",
       "  'onlineAvailability': ['false'],\n",
       "  'releaseDate': [],\n",
       "  'shippingCost': [],\n",
       "  'shortDescription': ['Excellent latent-image keeping characteristics; one-channel printing; excellent consistency; excellent processing robustness'],\n",
       "  'shortDescriptionHtml': ['Excellent latent-image keeping characteristics; one-channel printing; excellent consistency; excellent processing robustness'],\n",
       "  'class': ['FILM'],\n",
       "  'classId': ['51'],\n",
       "  'subclass': ['35 MM'],\n",
       "  'subclassId': ['73'],\n",
       "  'department': ['PHOTO/COMMODITIES'],\n",
       "  'departmentId': ['5'],\n",
       "  'bestBuyItemId': ['555446'],\n",
       "  'description': [],\n",
       "  'manufacturer': ['Kodak'],\n",
       "  'modelNumber': ['1556992'],\n",
       "  'image': ['http://images.bestbuy.com/BestBuy_US/images/products/1288/12881_rc.jpg'],\n",
       "  'condition': ['New'],\n",
       "  'inStorePickup': ['false'],\n",
       "  'homeDelivery': ['false'],\n",
       "  'quantityLimit': ['50'],\n",
       "  'color': [],\n",
       "  'depth': [],\n",
       "  'height': [],\n",
       "  'weight': [],\n",
       "  'shippingWeight': ['0.08'],\n",
       "  'width': [],\n",
       "  'longDescription': ['Kodak Gold 400-speed film is perfect for a variety of lighting and action shots. 24-exposure roll.'],\n",
       "  'longDescriptionHtml': ['Kodak Gold 400-speed film is perfect for a variety of lighting and action shots. 24-exposure roll.'],\n",
       "  'features': ['Excellent latent-image keeping characteristics',\n",
       "   'One-channel printing',\n",
       "   'Excellent consistency',\n",
       "   'Excellent processing robustness',\n",
       "   'Flexibility in a variety of lighting and action situations']}]"
      ]
     },
     "execution_count": 43,
     "metadata": {},
     "output_type": "execute_result"
    }
   ],
   "source": [
    "import itertools\n",
    "list(itertools.islice(docs, 2))"
   ]
  },
  {
   "cell_type": "code",
   "execution_count": 28,
   "metadata": {},
   "outputs": [
    {
     "data": {
      "text/plain": [
       "<generator object <genexpr> at 0x7f9f914deeb0>"
      ]
     },
     "execution_count": 28,
     "metadata": {},
     "output_type": "execute_result"
    }
   ],
   "source": [
    "docs"
   ]
  },
  {
   "cell_type": "code",
   "execution_count": 35,
   "metadata": {},
   "outputs": [
    {
     "data": {
      "text/plain": [
       "['1051806942127']"
      ]
     },
     "execution_count": 35,
     "metadata": {},
     "output_type": "execute_result"
    }
   ],
   "source": [
    "child.xpath(mapping[1])"
   ]
  },
  {
   "cell_type": "code",
   "execution_count": 14,
   "metadata": {},
   "outputs": [
    {
     "data": {
      "text/plain": [
       "5000"
      ]
     },
     "execution_count": 14,
     "metadata": {},
     "output_type": "execute_result"
    }
   ],
   "source": [
    "len(children)"
   ]
  }
 ],
 "metadata": {
  "kernelspec": {
   "display_name": "search_fundamentals",
   "language": "python",
   "name": "python3"
  },
  "language_info": {
   "codemirror_mode": {
    "name": "ipython",
    "version": 3
   },
   "file_extension": ".py",
   "mimetype": "text/x-python",
   "name": "python",
   "nbconvert_exporter": "python",
   "pygments_lexer": "ipython3",
   "version": "3.9.7"
  },
  "orig_nbformat": 4
 },
 "nbformat": 4,
 "nbformat_minor": 2
}
