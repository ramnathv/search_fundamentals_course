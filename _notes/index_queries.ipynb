{
 "cells": [
  {
   "cell_type": "markdown",
   "metadata": {},
   "source": [
    "# Index Query Data"
   ]
  },
  {
   "cell_type": "markdown",
   "metadata": {},
   "source": [
    "## Import Data"
   ]
  },
  {
   "cell_type": "markdown",
   "metadata": {},
   "source": [
    "Let us start by reading the first 1000 rows of query data from `train.csv`."
   ]
  },
  {
   "cell_type": "code",
   "execution_count": 1,
   "metadata": {},
   "outputs": [
    {
     "data": {
      "text/html": [
       "<div>\n",
       "<style scoped>\n",
       "    .dataframe tbody tr th:only-of-type {\n",
       "        vertical-align: middle;\n",
       "    }\n",
       "\n",
       "    .dataframe tbody tr th {\n",
       "        vertical-align: top;\n",
       "    }\n",
       "\n",
       "    .dataframe thead th {\n",
       "        text-align: right;\n",
       "    }\n",
       "</style>\n",
       "<table border=\"1\" class=\"dataframe\">\n",
       "  <thead>\n",
       "    <tr style=\"text-align: right;\">\n",
       "      <th></th>\n",
       "      <th>user</th>\n",
       "      <th>sku</th>\n",
       "      <th>category</th>\n",
       "      <th>query</th>\n",
       "      <th>click_time</th>\n",
       "      <th>query_time</th>\n",
       "    </tr>\n",
       "  </thead>\n",
       "  <tbody>\n",
       "    <tr>\n",
       "      <th>0</th>\n",
       "      <td>000000df17cd56a5df4a94074e133c9d4739fae3</td>\n",
       "      <td>2125233</td>\n",
       "      <td>abcat0101001</td>\n",
       "      <td>Televisiones Panasonic  50 pulgadas</td>\n",
       "      <td>2011-09-01 23:44:52.533</td>\n",
       "      <td>2011-09-01 23:43:59.752</td>\n",
       "    </tr>\n",
       "    <tr>\n",
       "      <th>1</th>\n",
       "      <td>000001928162247ffaf63185cd8b2a244c78e7c6</td>\n",
       "      <td>2009324</td>\n",
       "      <td>abcat0101001</td>\n",
       "      <td>Sharp</td>\n",
       "      <td>2011-09-05 12:25:37.42</td>\n",
       "      <td>2011-09-05 12:25:01.187</td>\n",
       "    </tr>\n",
       "    <tr>\n",
       "      <th>2</th>\n",
       "      <td>000017f79c2b5da56721f22f9fdd726b13daf8e8</td>\n",
       "      <td>1517163</td>\n",
       "      <td>pcmcat193100050014</td>\n",
       "      <td>nook</td>\n",
       "      <td>2011-08-24 12:56:58.91</td>\n",
       "      <td>2011-08-24 12:55:13.012</td>\n",
       "    </tr>\n",
       "    <tr>\n",
       "      <th>3</th>\n",
       "      <td>000017f79c2b5da56721f22f9fdd726b13daf8e8</td>\n",
       "      <td>2877125</td>\n",
       "      <td>abcat0101001</td>\n",
       "      <td>rca</td>\n",
       "      <td>2011-10-25 07:18:14.722</td>\n",
       "      <td>2011-10-25 07:16:51.759</td>\n",
       "    </tr>\n",
       "    <tr>\n",
       "      <th>4</th>\n",
       "      <td>000017f79c2b5da56721f22f9fdd726b13daf8e8</td>\n",
       "      <td>2877134</td>\n",
       "      <td>abcat0101005</td>\n",
       "      <td>rca</td>\n",
       "      <td>2011-10-25 07:19:51.697</td>\n",
       "      <td>2011-10-25 07:16:51.759</td>\n",
       "    </tr>\n",
       "  </tbody>\n",
       "</table>\n",
       "</div>"
      ],
      "text/plain": [
       "                                       user      sku            category  \\\n",
       "0  000000df17cd56a5df4a94074e133c9d4739fae3  2125233        abcat0101001   \n",
       "1  000001928162247ffaf63185cd8b2a244c78e7c6  2009324        abcat0101001   \n",
       "2  000017f79c2b5da56721f22f9fdd726b13daf8e8  1517163  pcmcat193100050014   \n",
       "3  000017f79c2b5da56721f22f9fdd726b13daf8e8  2877125        abcat0101001   \n",
       "4  000017f79c2b5da56721f22f9fdd726b13daf8e8  2877134        abcat0101005   \n",
       "\n",
       "                                 query               click_time  \\\n",
       "0  Televisiones Panasonic  50 pulgadas  2011-09-01 23:44:52.533   \n",
       "1                                Sharp   2011-09-05 12:25:37.42   \n",
       "2                                 nook   2011-08-24 12:56:58.91   \n",
       "3                                  rca  2011-10-25 07:18:14.722   \n",
       "4                                  rca  2011-10-25 07:19:51.697   \n",
       "\n",
       "                query_time  \n",
       "0  2011-09-01 23:43:59.752  \n",
       "1  2011-09-05 12:25:01.187  \n",
       "2  2011-08-24 12:55:13.012  \n",
       "3  2011-10-25 07:16:51.759  \n",
       "4  2011-10-25 07:16:51.759  "
      ]
     },
     "execution_count": 1,
     "metadata": {},
     "output_type": "execute_result"
    }
   ],
   "source": [
    "import pandas as pd\n",
    "QUERIES_CSV_FILE = \"/workspace/datasets/train.csv\"\n",
    "df_queries = pd.read_csv(QUERIES_CSV_FILE, nrows = 1000)\n",
    "df_queries.head()"
   ]
  },
  {
   "cell_type": "markdown",
   "metadata": {},
   "source": [
    "Let us write a function to transform `click_time` and `query_time` into timestamps. This will come in handy when we try to build search aggregations."
   ]
  },
  {
   "cell_type": "code",
   "execution_count": 2,
   "metadata": {},
   "outputs": [],
   "source": [
    "def prepare_batch_queries(batch):\n",
    "    return (\n",
    "        batch\n",
    "          .assign(click_time = lambda d: pd.to_datetime(d.click_time, format='ISO8601'))\n",
    "          .assign(query_time = lambda d: pd.to_datetime(d.query_time, format='ISO8601'))\n",
    "    )"
   ]
  },
  {
   "cell_type": "markdown",
   "metadata": {},
   "source": [
    "## Index Documents"
   ]
  },
  {
   "cell_type": "markdown",
   "metadata": {},
   "source": [
    "Let us write a function that would index a single batch of records using the bulk indexing capabilities of Opensearch."
   ]
  },
  {
   "cell_type": "code",
   "execution_count": 18,
   "metadata": {},
   "outputs": [],
   "source": [
    "from opensearchpy.helpers import bulk\n",
    "import uuid\n",
    "def index_batch(batch: pd.DataFrame, index_name:str):\n",
    "    records = batch.to_dict(orient = \"records\")\n",
    "    docs = [{\"_id\": uuid.uuid4().hex, \"_index\": index_name, \"_source\": record, } for record in records]\n",
    "    bulk(client, docs, request_timeout=60)\n",
    "    return len(batch)"
   ]
  },
  {
   "cell_type": "markdown",
   "metadata": {},
   "source": [
    "We can index the batches in parallel by writing an `index_batches` function that executes `index_batch` in parallel across multiple batches."
   ]
  },
  {
   "cell_type": "code",
   "execution_count": 15,
   "metadata": {},
   "outputs": [],
   "source": [
    "from tqdm import tqdm\n",
    "from functools import partial\n",
    "from tqdm.contrib.concurrent import process_map\n",
    "from itertools import repeat\n",
    "def index_batches(batches, index_name:str):\n",
    "    index_batch_partial = partial(index_batch, index_name = index_name)\n",
    "    results = process_map(index_batch_partial, batches, max_workers=8)\n",
    "    print(f\"Indexed {sum(results)} records\")\n",
    "    "
   ]
  },
  {
   "cell_type": "markdown",
   "metadata": {},
   "source": [
    "## Initialize Client"
   ]
  },
  {
   "cell_type": "code",
   "execution_count": 5,
   "metadata": {},
   "outputs": [
    {
     "name": "stdout",
     "output_type": "stream",
     "text": [
      "{\n",
      "  \"name\": \"fc81333c71df\",\n",
      "  \"cluster_name\": \"docker-cluster\",\n",
      "  \"cluster_uuid\": \"_Xsvjrs0TJOF3p6QlsWnJA\",\n",
      "  \"version\": {\n",
      "    \"distribution\": \"opensearch\",\n",
      "    \"number\": \"2.9.0\",\n",
      "    \"build_type\": \"tar\",\n",
      "    \"build_hash\": \"1164221ee2b8ba3560f0ff492309867beea28433\",\n",
      "    \"build_date\": \"2023-07-18T21:23:29.367080729Z\",\n",
      "    \"build_snapshot\": false,\n",
      "    \"lucene_version\": \"9.7.0\",\n",
      "    \"minimum_wire_compatibility_version\": \"7.10.0\",\n",
      "    \"minimum_index_compatibility_version\": \"7.0.0\"\n",
      "  },\n",
      "  \"tagline\": \"The OpenSearch Project: https://opensearch.org/\"\n",
      "}\n"
     ]
    }
   ],
   "source": [
    "from opensearchpy import OpenSearch\n",
    "from IPython.display import JSON\n",
    "import json\n",
    "\n",
    "def print_json(x):\n",
    "    print(json.dumps(x, indent = 2))\n",
    "    \n",
    "client = OpenSearch(\n",
    "    hosts = [{\"host\": \"localhost\", \"port\": 9200}],\n",
    "    http_auth = (\"admin\", \"admin\"),\n",
    "    use_ssl = True,\n",
    "    verify_certs = False,\n",
    "    ssl_assert_hostname = False,\n",
    "    ssl_show_warn = False,\n",
    ")\n",
    "print_json(client.info())"
   ]
  },
  {
   "cell_type": "markdown",
   "metadata": {},
   "source": [
    "## Create Index"
   ]
  },
  {
   "cell_type": "code",
   "execution_count": 19,
   "metadata": {},
   "outputs": [
    {
     "data": {
      "text/plain": [
       "{'acknowledged': True}"
      ]
     },
     "execution_count": 19,
     "metadata": {},
     "output_type": "execute_result"
    }
   ],
   "source": [
    "client.indices.delete(\"test-index-to-delete-1\")"
   ]
  },
  {
   "cell_type": "code",
   "execution_count": 20,
   "metadata": {},
   "outputs": [
    {
     "name": "stdout",
     "output_type": "stream",
     "text": [
      "{\n",
      "  \"acknowledged\": true,\n",
      "  \"shards_acknowledged\": true,\n",
      "  \"index\": \"test-index-to-delete-1\"\n",
      "}\n"
     ]
    }
   ],
   "source": [
    "import yaml\n",
    "body = yaml.safe_load(\"\"\"\n",
    "settings:\n",
    "  index:\n",
    "    query:\n",
    "      default_field: body\n",
    "\n",
    "\"\"\")\n",
    "response = client.indices.create(\"test-index-to-delete-1\", body = body)\n",
    "print_json(response)"
   ]
  },
  {
   "cell_type": "markdown",
   "metadata": {},
   "source": [
    "## Test Indexing"
   ]
  },
  {
   "cell_type": "markdown",
   "metadata": {},
   "source": [
    "Before we go ahead and index all documents, let us do a trial run on a small subset. This will allow us to debug any issues."
   ]
  },
  {
   "cell_type": "code",
   "execution_count": 21,
   "metadata": {},
   "outputs": [],
   "source": [
    "df_queries_small = (\n",
    "  pd.read_csv(QUERIES_CSV_FILE, nrows = 6000)\n",
    "    .assign(doc_id = list(range(0, 6000)))\n",
    ")\n",
    "df_queries_small.to_csv(\"/tmp/queries.csv\", index=False)"
   ]
  },
  {
   "cell_type": "code",
   "execution_count": 22,
   "metadata": {},
   "outputs": [
    {
     "name": "stderr",
     "output_type": "stream",
     "text": [
      "  0%|          | 0/2 [00:00<?, ?it/s]"
     ]
    },
    {
     "name": "stderr",
     "output_type": "stream",
     "text": [
      "100%|██████████| 2/2 [00:04<00:00,  2.12s/it]"
     ]
    },
    {
     "name": "stdout",
     "output_type": "stream",
     "text": [
      "Indexed 6000 records\n"
     ]
    },
    {
     "name": "stderr",
     "output_type": "stream",
     "text": [
      "\n"
     ]
    }
   ],
   "source": [
    "batches = list(pd.read_csv(\"/tmp/queries.csv\", chunksize=3000))\n",
    "batches = [prepare_batch_queries(batch) for batch in batches]\n",
    "index_batches(batches, \"test-index-to-delete-1\")"
   ]
  },
  {
   "cell_type": "markdown",
   "metadata": {},
   "source": [
    "We can check the contents of the index to make sure that the number of documents match the number of records we indexed."
   ]
  },
  {
   "cell_type": "code",
   "execution_count": 23,
   "metadata": {},
   "outputs": [
    {
     "data": {
      "text/plain": [
       "[{'epoch': '1696888670', 'timestamp': '21:57:50', 'count': '6000'}]"
      ]
     },
     "execution_count": 23,
     "metadata": {},
     "output_type": "execute_result"
    }
   ],
   "source": [
    "client.indices.refresh(index = \"test-index-to-delete-1\")\n",
    "client.cat.count(index = \"test-index-to-delete-1\", format=\"json\")"
   ]
  },
  {
   "cell_type": "markdown",
   "metadata": {},
   "source": [
    "## Search Documents"
   ]
  },
  {
   "cell_type": "markdown",
   "metadata": {},
   "source": [
    "Let us write a function to transform the search response into a table."
   ]
  },
  {
   "cell_type": "code",
   "execution_count": 24,
   "metadata": {},
   "outputs": [],
   "source": [
    "def display_search_response(response):\n",
    "  hits = response['hits']['hits']\n",
    "  sources = [hit[\"_source\"] for hit in hits]\n",
    "  return pd.concat([pd.DataFrame(hits).drop([\"_source\"], axis=1), pd.DataFrame(sources)], axis=1)"
   ]
  },
  {
   "cell_type": "code",
   "execution_count": 25,
   "metadata": {},
   "outputs": [
    {
     "data": {
      "text/html": [
       "<div>\n",
       "<style scoped>\n",
       "    .dataframe tbody tr th:only-of-type {\n",
       "        vertical-align: middle;\n",
       "    }\n",
       "\n",
       "    .dataframe tbody tr th {\n",
       "        vertical-align: top;\n",
       "    }\n",
       "\n",
       "    .dataframe thead th {\n",
       "        text-align: right;\n",
       "    }\n",
       "</style>\n",
       "<table border=\"1\" class=\"dataframe\">\n",
       "  <thead>\n",
       "    <tr style=\"text-align: right;\">\n",
       "      <th></th>\n",
       "      <th>_index</th>\n",
       "      <th>_id</th>\n",
       "      <th>_score</th>\n",
       "      <th>user</th>\n",
       "      <th>sku</th>\n",
       "      <th>category</th>\n",
       "      <th>query</th>\n",
       "      <th>click_time</th>\n",
       "      <th>query_time</th>\n",
       "      <th>doc_id</th>\n",
       "    </tr>\n",
       "  </thead>\n",
       "  <tbody>\n",
       "    <tr>\n",
       "      <th>0</th>\n",
       "      <td>test-index-to-delete-1</td>\n",
       "      <td>5e080cc9c6bf411ea6c32a70bcddaa0d</td>\n",
       "      <td>1.0</td>\n",
       "      <td>000395d07d4bad3c5a3534e178a31dccadcb7fe6</td>\n",
       "      <td>2944053</td>\n",
       "      <td>pcmcat218000050000</td>\n",
       "      <td>iPad 2 executive cases</td>\n",
       "      <td>2011-09-28T08:42:02.706000</td>\n",
       "      <td>2011-09-28T08:40:06.023000</td>\n",
       "      <td>133</td>\n",
       "    </tr>\n",
       "    <tr>\n",
       "      <th>1</th>\n",
       "      <td>test-index-to-delete-1</td>\n",
       "      <td>2b244447d0cb4125af5dde8d8ec6f815</td>\n",
       "      <td>1.0</td>\n",
       "      <td>000395d07d4bad3c5a3534e178a31dccadcb7fe6</td>\n",
       "      <td>3216222</td>\n",
       "      <td>pcmcat218000050000</td>\n",
       "      <td>iPad 2 executive cases</td>\n",
       "      <td>2011-09-28T08:42:24.276000</td>\n",
       "      <td>2011-09-28T08:40:06.023000</td>\n",
       "      <td>134</td>\n",
       "    </tr>\n",
       "    <tr>\n",
       "      <th>2</th>\n",
       "      <td>test-index-to-delete-1</td>\n",
       "      <td>9a7779a664cb45c3acc2490bbad96d56</td>\n",
       "      <td>1.0</td>\n",
       "      <td>000395d07d4bad3c5a3534e178a31dccadcb7fe6</td>\n",
       "      <td>2944044</td>\n",
       "      <td>pcmcat218000050000</td>\n",
       "      <td>iPad 2 executive cases</td>\n",
       "      <td>2011-09-28T08:42:42.828000</td>\n",
       "      <td>2011-09-28T08:40:06.023000</td>\n",
       "      <td>135</td>\n",
       "    </tr>\n",
       "    <tr>\n",
       "      <th>3</th>\n",
       "      <td>test-index-to-delete-1</td>\n",
       "      <td>bf30a7e7b185469fbe7cb3753422660f</td>\n",
       "      <td>1.0</td>\n",
       "      <td>0003a0dbe6ea8d4905412f7ac1d6bb5817200481</td>\n",
       "      <td>8054963</td>\n",
       "      <td>pcmcat232900050017</td>\n",
       "      <td>ico</td>\n",
       "      <td>2011-10-17T12:31:39.042000</td>\n",
       "      <td>2011-10-17T12:29:08.582000</td>\n",
       "      <td>136</td>\n",
       "    </tr>\n",
       "    <tr>\n",
       "      <th>4</th>\n",
       "      <td>test-index-to-delete-1</td>\n",
       "      <td>266d8f7dde904411836ec2a78534c585</td>\n",
       "      <td>1.0</td>\n",
       "      <td>0003ab040e9195df8c58f7e9c07b1ddec1be5a07</td>\n",
       "      <td>9755886</td>\n",
       "      <td>cat02015</td>\n",
       "      <td>Lord of the rings</td>\n",
       "      <td>2011-10-20T13:28:40.291000</td>\n",
       "      <td>2011-10-20T13:27:48.953000</td>\n",
       "      <td>137</td>\n",
       "    </tr>\n",
       "  </tbody>\n",
       "</table>\n",
       "</div>"
      ],
      "text/plain": [
       "                   _index                               _id  _score  \\\n",
       "0  test-index-to-delete-1  5e080cc9c6bf411ea6c32a70bcddaa0d     1.0   \n",
       "1  test-index-to-delete-1  2b244447d0cb4125af5dde8d8ec6f815     1.0   \n",
       "2  test-index-to-delete-1  9a7779a664cb45c3acc2490bbad96d56     1.0   \n",
       "3  test-index-to-delete-1  bf30a7e7b185469fbe7cb3753422660f     1.0   \n",
       "4  test-index-to-delete-1  266d8f7dde904411836ec2a78534c585     1.0   \n",
       "\n",
       "                                       user      sku            category  \\\n",
       "0  000395d07d4bad3c5a3534e178a31dccadcb7fe6  2944053  pcmcat218000050000   \n",
       "1  000395d07d4bad3c5a3534e178a31dccadcb7fe6  3216222  pcmcat218000050000   \n",
       "2  000395d07d4bad3c5a3534e178a31dccadcb7fe6  2944044  pcmcat218000050000   \n",
       "3  0003a0dbe6ea8d4905412f7ac1d6bb5817200481  8054963  pcmcat232900050017   \n",
       "4  0003ab040e9195df8c58f7e9c07b1ddec1be5a07  9755886            cat02015   \n",
       "\n",
       "                    query                  click_time  \\\n",
       "0  iPad 2 executive cases  2011-09-28T08:42:02.706000   \n",
       "1  iPad 2 executive cases  2011-09-28T08:42:24.276000   \n",
       "2  iPad 2 executive cases  2011-09-28T08:42:42.828000   \n",
       "3                     ico  2011-10-17T12:31:39.042000   \n",
       "4       Lord of the rings  2011-10-20T13:28:40.291000   \n",
       "\n",
       "                   query_time  doc_id  \n",
       "0  2011-09-28T08:40:06.023000     133  \n",
       "1  2011-09-28T08:40:06.023000     134  \n",
       "2  2011-09-28T08:40:06.023000     135  \n",
       "3  2011-10-17T12:29:08.582000     136  \n",
       "4  2011-10-20T13:27:48.953000     137  "
      ]
     },
     "execution_count": 25,
     "metadata": {},
     "output_type": "execute_result"
    }
   ],
   "source": [
    "# Search Documents\n",
    "body_yaml = \"\"\"\n",
    "query:\n",
    "  match_all: {}\n",
    "size: 10000\n",
    "\"\"\"\n",
    "response = client.search(\n",
    "  index = \"test-index-to-delete-1\",\n",
    "  body = yaml.safe_load(body_yaml)\n",
    ")\n",
    "hits = display_search_response(response)\n",
    "hits.head()"
   ]
  },
  {
   "cell_type": "code",
   "execution_count": 160,
   "metadata": {},
   "outputs": [
    {
     "data": {
      "text/plain": [
       "{'acknowledged': True}"
      ]
     },
     "execution_count": 160,
     "metadata": {},
     "output_type": "execute_result"
    }
   ],
   "source": [
    "client.indices.delete('test-index-to-delete-1')"
   ]
  }
 ],
 "metadata": {
  "kernelspec": {
   "display_name": "search_fundamentals",
   "language": "python",
   "name": "python3"
  },
  "language_info": {
   "codemirror_mode": {
    "name": "ipython",
    "version": 3
   },
   "file_extension": ".py",
   "mimetype": "text/x-python",
   "name": "python",
   "nbconvert_exporter": "python",
   "pygments_lexer": "ipython3",
   "version": "3.9.7"
  },
  "orig_nbformat": 4
 },
 "nbformat": 4,
 "nbformat_minor": 2
}
