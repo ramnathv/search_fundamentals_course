{
 "cells": [
  {
   "cell_type": "code",
   "execution_count": 18,
   "metadata": {},
   "outputs": [
    {
     "data": {
      "text/html": [
       "<div>\n",
       "<style scoped>\n",
       "    .dataframe tbody tr th:only-of-type {\n",
       "        vertical-align: middle;\n",
       "    }\n",
       "\n",
       "    .dataframe tbody tr th {\n",
       "        vertical-align: top;\n",
       "    }\n",
       "\n",
       "    .dataframe thead th {\n",
       "        text-align: right;\n",
       "    }\n",
       "</style>\n",
       "<table border=\"1\" class=\"dataframe\">\n",
       "  <thead>\n",
       "    <tr style=\"text-align: right;\">\n",
       "      <th></th>\n",
       "      <th>user</th>\n",
       "      <th>sku</th>\n",
       "      <th>category</th>\n",
       "      <th>query</th>\n",
       "      <th>click_time</th>\n",
       "      <th>query_time</th>\n",
       "    </tr>\n",
       "  </thead>\n",
       "  <tbody>\n",
       "    <tr>\n",
       "      <th>0</th>\n",
       "      <td>000000df17cd56a5df4a94074e133c9d4739fae3</td>\n",
       "      <td>2125233</td>\n",
       "      <td>abcat0101001</td>\n",
       "      <td>Televisiones Panasonic  50 pulgadas</td>\n",
       "      <td>2011-09-01 23:44:52.533</td>\n",
       "      <td>2011-09-01 23:43:59.752</td>\n",
       "    </tr>\n",
       "    <tr>\n",
       "      <th>1</th>\n",
       "      <td>000001928162247ffaf63185cd8b2a244c78e7c6</td>\n",
       "      <td>2009324</td>\n",
       "      <td>abcat0101001</td>\n",
       "      <td>Sharp</td>\n",
       "      <td>2011-09-05 12:25:37.42</td>\n",
       "      <td>2011-09-05 12:25:01.187</td>\n",
       "    </tr>\n",
       "    <tr>\n",
       "      <th>2</th>\n",
       "      <td>000017f79c2b5da56721f22f9fdd726b13daf8e8</td>\n",
       "      <td>1517163</td>\n",
       "      <td>pcmcat193100050014</td>\n",
       "      <td>nook</td>\n",
       "      <td>2011-08-24 12:56:58.91</td>\n",
       "      <td>2011-08-24 12:55:13.012</td>\n",
       "    </tr>\n",
       "    <tr>\n",
       "      <th>3</th>\n",
       "      <td>000017f79c2b5da56721f22f9fdd726b13daf8e8</td>\n",
       "      <td>2877125</td>\n",
       "      <td>abcat0101001</td>\n",
       "      <td>rca</td>\n",
       "      <td>2011-10-25 07:18:14.722</td>\n",
       "      <td>2011-10-25 07:16:51.759</td>\n",
       "    </tr>\n",
       "    <tr>\n",
       "      <th>4</th>\n",
       "      <td>000017f79c2b5da56721f22f9fdd726b13daf8e8</td>\n",
       "      <td>2877134</td>\n",
       "      <td>abcat0101005</td>\n",
       "      <td>rca</td>\n",
       "      <td>2011-10-25 07:19:51.697</td>\n",
       "      <td>2011-10-25 07:16:51.759</td>\n",
       "    </tr>\n",
       "  </tbody>\n",
       "</table>\n",
       "</div>"
      ],
      "text/plain": [
       "                                       user      sku            category  \\\n",
       "0  000000df17cd56a5df4a94074e133c9d4739fae3  2125233        abcat0101001   \n",
       "1  000001928162247ffaf63185cd8b2a244c78e7c6  2009324        abcat0101001   \n",
       "2  000017f79c2b5da56721f22f9fdd726b13daf8e8  1517163  pcmcat193100050014   \n",
       "3  000017f79c2b5da56721f22f9fdd726b13daf8e8  2877125        abcat0101001   \n",
       "4  000017f79c2b5da56721f22f9fdd726b13daf8e8  2877134        abcat0101005   \n",
       "\n",
       "                                 query               click_time  \\\n",
       "0  Televisiones Panasonic  50 pulgadas  2011-09-01 23:44:52.533   \n",
       "1                                Sharp   2011-09-05 12:25:37.42   \n",
       "2                                 nook   2011-08-24 12:56:58.91   \n",
       "3                                  rca  2011-10-25 07:18:14.722   \n",
       "4                                  rca  2011-10-25 07:19:51.697   \n",
       "\n",
       "                query_time  \n",
       "0  2011-09-01 23:43:59.752  \n",
       "1  2011-09-05 12:25:01.187  \n",
       "2  2011-08-24 12:55:13.012  \n",
       "3  2011-10-25 07:16:51.759  \n",
       "4  2011-10-25 07:16:51.759  "
      ]
     },
     "execution_count": 18,
     "metadata": {},
     "output_type": "execute_result"
    }
   ],
   "source": [
    "import pandas as pd\n",
    "QUERIES_CSV_FILE = \"/workspace/datasets/train.csv\"\n",
    "df_queries = pd.read_csv(QUERIES_CSV_FILE, nrows = 1000)\n",
    "df_queries.head()"
   ]
  },
  {
   "cell_type": "code",
   "execution_count": 56,
   "metadata": {},
   "outputs": [],
   "source": [
    "df_queries_small = pd.read_csv(QUERIES_CSV_FILE, nrows = 6000).assign(doc_id = list(range(0, 6000)))\n",
    "df_queries_small.to_csv(\"/tmp/queries.csv\", index=False)"
   ]
  },
  {
   "cell_type": "code",
   "execution_count": 161,
   "metadata": {},
   "outputs": [],
   "source": [
    "from opensearchpy.helpers import bulk\n",
    "def prepare_batch_queries(batch):\n",
    "    return (\n",
    "        batch\n",
    "          .assign(click_time = lambda d: pd.to_datetime(d.click_time, format='ISO8601'))\n",
    "          .assign(query_time = lambda d: pd.to_datetime(d.query_time, format='ISO8601'))\n",
    "    )\n",
    "\n",
    "def index_batch(batch, index_name:str):\n",
    "    records = batch.to_dict(orient = \"records\")\n",
    "    docs = [{\"_id\": uuid.uuid4().hex, \"_index\": index_name, \"_source\": record, } for record in records]\n",
    "    bulk(client, docs, request_timeout=60)\n",
    "    return len(batch)"
   ]
  },
  {
   "cell_type": "code",
   "execution_count": 131,
   "metadata": {},
   "outputs": [],
   "source": [
    "from tqdm import tqdm\n",
    "from functools import partial\n",
    "from concurrent.futures import ProcessPoolExecutor\n",
    "from itertools import repeat\n",
    "def index_batches(batches, index_name:str):\n",
    "    with ProcessPoolExecutor(max_workers=8) as pool:\n",
    "        results = list(tqdm(pool.map(index_batch, batches, repeat(index_name)), total=len(batches)))\n",
    "    print(f\"Indexed {sum(results)} records\")\n",
    "    "
   ]
  },
  {
   "cell_type": "code",
   "execution_count": 132,
   "metadata": {},
   "outputs": [
    {
     "name": "stdout",
     "output_type": "stream",
     "text": [
      "{\n",
      "  \"name\": \"fc81333c71df\",\n",
      "  \"cluster_name\": \"docker-cluster\",\n",
      "  \"cluster_uuid\": \"_Xsvjrs0TJOF3p6QlsWnJA\",\n",
      "  \"version\": {\n",
      "    \"distribution\": \"opensearch\",\n",
      "    \"number\": \"2.9.0\",\n",
      "    \"build_type\": \"tar\",\n",
      "    \"build_hash\": \"1164221ee2b8ba3560f0ff492309867beea28433\",\n",
      "    \"build_date\": \"2023-07-18T21:23:29.367080729Z\",\n",
      "    \"build_snapshot\": false,\n",
      "    \"lucene_version\": \"9.7.0\",\n",
      "    \"minimum_wire_compatibility_version\": \"7.10.0\",\n",
      "    \"minimum_index_compatibility_version\": \"7.0.0\"\n",
      "  },\n",
      "  \"tagline\": \"The OpenSearch Project: https://opensearch.org/\"\n",
      "}\n"
     ]
    }
   ],
   "source": [
    "from opensearchpy import OpenSearch\n",
    "from IPython.display import JSON\n",
    "import json\n",
    "\n",
    "def print_json(x):\n",
    "    print(json.dumps(x, indent = 2))\n",
    "    \n",
    "client = OpenSearch(\n",
    "    hosts = [{\"host\": \"localhost\", \"port\": 9200}],\n",
    "    http_auth = (\"admin\", \"admin\"),\n",
    "    use_ssl = True,\n",
    "    verify_certs = False,\n",
    "    ssl_assert_hostname = False,\n",
    "    ssl_show_warn = False,\n",
    ")\n",
    "print_json(client.info())"
   ]
  },
  {
   "cell_type": "code",
   "execution_count": 162,
   "metadata": {},
   "outputs": [
    {
     "name": "stdout",
     "output_type": "stream",
     "text": [
      "\u001b[33mWARNING: You are using pip version 21.2.3; however, version 23.2.1 is available.\n",
      "You should consider upgrading via the '/home/gitpod/.pyenv/versions/3.9.7/envs/search_fundamentals/bin/python -m pip install --upgrade pip' command.\u001b[0m\n",
      "Note: you may need to restart the kernel to use updated packages.\n",
      "{\n",
      "  \"acknowledged\": true,\n",
      "  \"shards_acknowledged\": true,\n",
      "  \"index\": \"test-index-to-delete-1\"\n",
      "}\n"
     ]
    }
   ],
   "source": [
    "%pip install pyyaml > /dev/null\n",
    "import yaml\n",
    "body = yaml.safe_load(\"\"\"\n",
    "settings:\n",
    "  index:\n",
    "    query:\n",
    "      default_field: body\n",
    "\n",
    "\"\"\")\n",
    "response = client.indices.create(\"test-index-to-delete-1\", body = body)\n",
    "print_json(response)"
   ]
  },
  {
   "cell_type": "code",
   "execution_count": 163,
   "metadata": {},
   "outputs": [
    {
     "data": {
      "text/plain": [
       "2"
      ]
     },
     "execution_count": 163,
     "metadata": {},
     "output_type": "execute_result"
    }
   ],
   "source": [
    "batches = list(pd.read_csv(\"/tmp/queries.csv\", chunksize=3000))\n",
    "len(batches)\n",
    "# batches = [prepare_batch_queries(batch) for batch in batches]"
   ]
  },
  {
   "cell_type": "code",
   "execution_count": 164,
   "metadata": {},
   "outputs": [
    {
     "name": "stderr",
     "output_type": "stream",
     "text": [
      "  0%|          | 0/2 [00:00<?, ?it/s]"
     ]
    },
    {
     "name": "stderr",
     "output_type": "stream",
     "text": [
      "100%|██████████| 2/2 [00:00<00:00,  3.08it/s]"
     ]
    },
    {
     "name": "stdout",
     "output_type": "stream",
     "text": [
      "Indexed 6000 records\n"
     ]
    },
    {
     "name": "stderr",
     "output_type": "stream",
     "text": [
      "\n"
     ]
    }
   ],
   "source": [
    "index_batches(batches, \"test-index-to-delete-1\")"
   ]
  },
  {
   "cell_type": "code",
   "execution_count": 165,
   "metadata": {},
   "outputs": [
    {
     "data": {
      "text/plain": [
       "[{'epoch': '1695789379', 'timestamp': '04:36:19', 'count': '6000'}]"
      ]
     },
     "execution_count": 165,
     "metadata": {},
     "output_type": "execute_result"
    }
   ],
   "source": [
    "client.indices.refresh(index = \"test-index-to-delete-1\")\n",
    "client.cat.count(index = \"test-index-to-delete-1\", format=\"json\")"
   ]
  },
  {
   "cell_type": "code",
   "execution_count": 173,
   "metadata": {},
   "outputs": [],
   "source": [
    "def display_search_response(response):\n",
    "  hits = response['hits']['hits']\n",
    "  sources = [hit[\"_source\"] for hit in hits]\n",
    "  return pd.concat([pd.DataFrame(hits).drop([\"_source\"], axis=1), pd.DataFrame(sources)], axis=1)"
   ]
  },
  {
   "cell_type": "code",
   "execution_count": 174,
   "metadata": {},
   "outputs": [],
   "source": [
    "# Search Documents\n",
    "body_yaml = \"\"\"\n",
    "query:\n",
    "  match_all: {}\n",
    "size: 10000\n",
    "\"\"\"\n",
    "response = client.search(\n",
    "  index = \"test-index-to-delete-1\",\n",
    "  body = yaml.safe_load(body_yaml)\n",
    ")\n",
    "out = display_search_response(response)"
   ]
  },
  {
   "cell_type": "code",
   "execution_count": 175,
   "metadata": {},
   "outputs": [
    {
     "data": {
      "text/html": [
       "<div>\n",
       "<style scoped>\n",
       "    .dataframe tbody tr th:only-of-type {\n",
       "        vertical-align: middle;\n",
       "    }\n",
       "\n",
       "    .dataframe tbody tr th {\n",
       "        vertical-align: top;\n",
       "    }\n",
       "\n",
       "    .dataframe thead th {\n",
       "        text-align: right;\n",
       "    }\n",
       "</style>\n",
       "<table border=\"1\" class=\"dataframe\">\n",
       "  <thead>\n",
       "    <tr style=\"text-align: right;\">\n",
       "      <th></th>\n",
       "      <th>_index</th>\n",
       "      <th>_id</th>\n",
       "      <th>_score</th>\n",
       "      <th>user</th>\n",
       "      <th>sku</th>\n",
       "      <th>category</th>\n",
       "      <th>query</th>\n",
       "      <th>click_time</th>\n",
       "      <th>query_time</th>\n",
       "      <th>doc_id</th>\n",
       "    </tr>\n",
       "  </thead>\n",
       "  <tbody>\n",
       "    <tr>\n",
       "      <th>0</th>\n",
       "      <td>test-index-to-delete-1</td>\n",
       "      <td>0d544c47be1f4feeacfe40fad2defe59</td>\n",
       "      <td>1.0</td>\n",
       "      <td>0065873bd2a2a4700e9f60a850afcaaed9361184</td>\n",
       "      <td>9937316</td>\n",
       "      <td>abcat0301014</td>\n",
       "      <td>Truck gps</td>\n",
       "      <td>2011-09-29 00:47:53.004</td>\n",
       "      <td>2011-09-29 00:45:33.186</td>\n",
       "      <td>3018</td>\n",
       "    </tr>\n",
       "    <tr>\n",
       "      <th>1</th>\n",
       "      <td>test-index-to-delete-1</td>\n",
       "      <td>6733fe0976fb4b50bdb3be9ef281c80f</td>\n",
       "      <td>1.0</td>\n",
       "      <td>00007557d9b11f2f1a99792317963d30174171ba</td>\n",
       "      <td>3168067</td>\n",
       "      <td>cat02713</td>\n",
       "      <td>Watch The Throne</td>\n",
       "      <td>2011-09-04 10:55:20.427</td>\n",
       "      <td>2011-09-04 10:55:10.874</td>\n",
       "      <td>12</td>\n",
       "    </tr>\n",
       "    <tr>\n",
       "      <th>2</th>\n",
       "      <td>test-index-to-delete-1</td>\n",
       "      <td>fa3200908ba541bd91c6511939570a2e</td>\n",
       "      <td>1.0</td>\n",
       "      <td>0000776d7bf35b984ca8e3671327a7ac1d07a86c</td>\n",
       "      <td>7997055</td>\n",
       "      <td>pcmcat224000050003</td>\n",
       "      <td>Remote control extender</td>\n",
       "      <td>2011-10-28 16:26:29.203</td>\n",
       "      <td>2011-10-28 16:26:20.358</td>\n",
       "      <td>13</td>\n",
       "    </tr>\n",
       "    <tr>\n",
       "      <th>3</th>\n",
       "      <td>test-index-to-delete-1</td>\n",
       "      <td>d68d2583952847f6b9a1ba3e92381042</td>\n",
       "      <td>1.0</td>\n",
       "      <td>00659ce53484a6e186752394df313f835f289f70</td>\n",
       "      <td>2658129</td>\n",
       "      <td>pcmcat212600050008</td>\n",
       "      <td>Mac mini</td>\n",
       "      <td>2011-09-07 20:09:22.633</td>\n",
       "      <td>2011-09-07 20:08:08.387</td>\n",
       "      <td>3022</td>\n",
       "    </tr>\n",
       "    <tr>\n",
       "      <th>4</th>\n",
       "      <td>test-index-to-delete-1</td>\n",
       "      <td>8b1c88ba1c634d728204ffa7d0281a3c</td>\n",
       "      <td>1.0</td>\n",
       "      <td>0000870469b85f38ceba4b1add61419eb8da9dc5</td>\n",
       "      <td>1988047</td>\n",
       "      <td>abcat0707001</td>\n",
       "      <td>3ds</td>\n",
       "      <td>2011-09-23 22:14:08.965</td>\n",
       "      <td>2011-09-23 22:13:37.43</td>\n",
       "      <td>15</td>\n",
       "    </tr>\n",
       "  </tbody>\n",
       "</table>\n",
       "</div>"
      ],
      "text/plain": [
       "                   _index                               _id  _score  \\\n",
       "0  test-index-to-delete-1  0d544c47be1f4feeacfe40fad2defe59     1.0   \n",
       "1  test-index-to-delete-1  6733fe0976fb4b50bdb3be9ef281c80f     1.0   \n",
       "2  test-index-to-delete-1  fa3200908ba541bd91c6511939570a2e     1.0   \n",
       "3  test-index-to-delete-1  d68d2583952847f6b9a1ba3e92381042     1.0   \n",
       "4  test-index-to-delete-1  8b1c88ba1c634d728204ffa7d0281a3c     1.0   \n",
       "\n",
       "                                       user      sku            category  \\\n",
       "0  0065873bd2a2a4700e9f60a850afcaaed9361184  9937316        abcat0301014   \n",
       "1  00007557d9b11f2f1a99792317963d30174171ba  3168067            cat02713   \n",
       "2  0000776d7bf35b984ca8e3671327a7ac1d07a86c  7997055  pcmcat224000050003   \n",
       "3  00659ce53484a6e186752394df313f835f289f70  2658129  pcmcat212600050008   \n",
       "4  0000870469b85f38ceba4b1add61419eb8da9dc5  1988047        abcat0707001   \n",
       "\n",
       "                     query               click_time               query_time  \\\n",
       "0                Truck gps  2011-09-29 00:47:53.004  2011-09-29 00:45:33.186   \n",
       "1         Watch The Throne  2011-09-04 10:55:20.427  2011-09-04 10:55:10.874   \n",
       "2  Remote control extender  2011-10-28 16:26:29.203  2011-10-28 16:26:20.358   \n",
       "3                 Mac mini  2011-09-07 20:09:22.633  2011-09-07 20:08:08.387   \n",
       "4                      3ds  2011-09-23 22:14:08.965   2011-09-23 22:13:37.43   \n",
       "\n",
       "   doc_id  \n",
       "0    3018  \n",
       "1      12  \n",
       "2      13  \n",
       "3    3022  \n",
       "4      15  "
      ]
     },
     "execution_count": 175,
     "metadata": {},
     "output_type": "execute_result"
    }
   ],
   "source": [
    "out.head()"
   ]
  },
  {
   "cell_type": "code",
   "execution_count": 160,
   "metadata": {},
   "outputs": [
    {
     "data": {
      "text/plain": [
       "{'acknowledged': True}"
      ]
     },
     "execution_count": 160,
     "metadata": {},
     "output_type": "execute_result"
    }
   ],
   "source": [
    "client.indices.delete('test-index-to-delete-1')"
   ]
  }
 ],
 "metadata": {
  "kernelspec": {
   "display_name": "search_fundamentals",
   "language": "python",
   "name": "python3"
  },
  "language_info": {
   "codemirror_mode": {
    "name": "ipython",
    "version": 3
   },
   "file_extension": ".py",
   "mimetype": "text/x-python",
   "name": "python",
   "nbconvert_exporter": "python",
   "pygments_lexer": "ipython3",
   "version": "3.9.7"
  },
  "orig_nbformat": 4
 },
 "nbformat": 4,
 "nbformat_minor": 2
}
